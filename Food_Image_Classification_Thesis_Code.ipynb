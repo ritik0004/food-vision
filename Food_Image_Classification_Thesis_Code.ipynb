{
  "cells": [
    {
      "cell_type": "markdown",
      "source": [
        "# Setting up Dataset and Helper Functions"
      ],
      "metadata": {
        "id": "6xnoT642Kg8F"
      },
      "id": "6xnoT642Kg8F"
    },
    {
      "cell_type": "markdown",
      "source": [
        "## Checking GPU Type"
      ],
      "metadata": {
        "id": "p6-Rd_7roWW3"
      },
      "id": "p6-Rd_7roWW3"
    },
    {
      "cell_type": "code",
      "execution_count": null,
      "metadata": {
        "colab": {
          "base_uri": "https://localhost:8080/"
        },
        "id": "5daf90cd-d153-4193-8e4c-aab705679323",
        "outputId": "4ee3cd87-0190-416a-a823-d50dec50179d"
      },
      "outputs": [
        {
          "output_type": "stream",
          "name": "stdout",
          "text": [
            "GPU 0: Tesla V100-SXM2-16GB (UUID: GPU-d7cf2baa-17c0-504e-512f-534c17ed229d)\n"
          ]
        }
      ],
      "source": [
        "# Get GPU name\n",
        "!nvidia-smi -L"
      ],
      "id": "5daf90cd-d153-4193-8e4c-aab705679323"
    },
    {
      "cell_type": "markdown",
      "source": [
        "## Mounting Google Drive"
      ],
      "metadata": {
        "id": "tmoc7pu6nTON"
      },
      "id": "tmoc7pu6nTON"
    },
    {
      "cell_type": "code",
      "source": [
        "from google.colab import drive\n",
        "drive.mount('/content/drive')"
      ],
      "metadata": {
        "id": "OzHsZd1inV6r",
        "colab": {
          "base_uri": "https://localhost:8080/"
        },
        "outputId": "762ccafc-65a5-4cb8-f0a1-cfe76dd6e402"
      },
      "id": "OzHsZd1inV6r",
      "execution_count": null,
      "outputs": [
        {
          "output_type": "stream",
          "name": "stdout",
          "text": [
            "Mounted at /content/drive\n"
          ]
        }
      ]
    },
    {
      "cell_type": "markdown",
      "metadata": {
        "id": "0c25cc91-11e8-442b-9d9f-37ac32e97dbb"
      },
      "source": [
        "Since mixed precision training was introduced in TensorFlow 2.4.0, make sure you've got at least TensorFlow 2.4.0+."
      ],
      "id": "0c25cc91-11e8-442b-9d9f-37ac32e97dbb"
    },
    {
      "cell_type": "code",
      "source": [
        "!pip install numpy==1.23.0"
      ],
      "metadata": {
        "colab": {
          "base_uri": "https://localhost:8080/",
          "height": 260
        },
        "id": "EToETepiYQ3A",
        "outputId": "0968eb1c-75aa-4e71-afb1-a2b96215e5e8"
      },
      "id": "EToETepiYQ3A",
      "execution_count": null,
      "outputs": [
        {
          "output_type": "stream",
          "name": "stdout",
          "text": [
            "Collecting numpy==1.23.0\n",
            "  Downloading numpy-1.23.0-cp310-cp310-manylinux_2_17_x86_64.manylinux2014_x86_64.whl (17.0 MB)\n",
            "\u001b[2K     \u001b[90m━━━━━━━━━━━━━━━━━━━━━━━━━━━━━━━━━━━━━━━━\u001b[0m \u001b[32m17.0/17.0 MB\u001b[0m \u001b[31m74.2 MB/s\u001b[0m eta \u001b[36m0:00:00\u001b[0m\n",
            "\u001b[?25hInstalling collected packages: numpy\n",
            "  Attempting uninstall: numpy\n",
            "    Found existing installation: numpy 1.22.4\n",
            "    Uninstalling numpy-1.22.4:\n",
            "      Successfully uninstalled numpy-1.22.4\n",
            "Successfully installed numpy-1.23.0\n"
          ]
        },
        {
          "output_type": "display_data",
          "data": {
            "application/vnd.colab-display-data+json": {
              "pip_warning": {
                "packages": [
                  "numpy"
                ]
              }
            }
          },
          "metadata": {}
        }
      ]
    },
    {
      "cell_type": "code",
      "execution_count": null,
      "metadata": {
        "colab": {
          "base_uri": "https://localhost:8080/"
        },
        "id": "2bcbb711-ed02-4616-830b-b13212215eaf",
        "outputId": "c22c80b7-9172-4462-c43f-5dc0bacbb31f"
      },
      "outputs": [
        {
          "output_type": "stream",
          "name": "stdout",
          "text": [
            "\u001b[2K     \u001b[90m━━━━━━━━━━━━━━━━━━━━━━━━━━━━━━━━━━━━━━━\u001b[0m \u001b[32m485.8/485.8 MB\u001b[0m \u001b[31m2.6 MB/s\u001b[0m eta \u001b[36m0:00:00\u001b[0m\n",
            "\u001b[2K     \u001b[90m━━━━━━━━━━━━━━━━━━━━━━━━━━━━━━━━━━━━━━━━\u001b[0m \u001b[32m5.5/5.5 MB\u001b[0m \u001b[31m63.4 MB/s\u001b[0m eta \u001b[36m0:00:00\u001b[0m\n",
            "\u001b[2K     \u001b[90m━━━━━━━━━━━━━━━━━━━━━━━━━━━━━━━━━━━━━━\u001b[0m \u001b[32m441.0/441.0 kB\u001b[0m \u001b[31m19.6 MB/s\u001b[0m eta \u001b[36m0:00:00\u001b[0m\n",
            "\u001b[2K     \u001b[90m━━━━━━━━━━━━━━━━━━━━━━━━━━━━━━━━━━━━━━━━\u001b[0m \u001b[32m1.7/1.7 MB\u001b[0m \u001b[31m60.8 MB/s\u001b[0m eta \u001b[36m0:00:00\u001b[0m\n",
            "\u001b[?25h"
          ]
        },
        {
          "output_type": "stream",
          "name": "stderr",
          "text": [
            "WARNING:tensorflow:From /usr/local/lib/python3.10/dist-packages/tensorflow/python/ops/distributions/distribution.py:259: ReparameterizationType.__init__ (from tensorflow.python.ops.distributions.distribution) is deprecated and will be removed after 2019-01-01.\n",
            "Instructions for updating:\n",
            "The TensorFlow Distributions library has moved to TensorFlow Probability (https://github.com/tensorflow/probability). You should update all references to use `tfp.distributions` instead of `tf.distributions`.\n",
            "WARNING:tensorflow:From /usr/local/lib/python3.10/dist-packages/tensorflow/python/ops/distributions/bernoulli.py:165: RegisterKL.__init__ (from tensorflow.python.ops.distributions.kullback_leibler) is deprecated and will be removed after 2019-01-01.\n",
            "Instructions for updating:\n",
            "The TensorFlow Distributions library has moved to TensorFlow Probability (https://github.com/tensorflow/probability). You should update all references to use `tfp.distributions` instead of `tf.distributions`.\n"
          ]
        },
        {
          "output_type": "stream",
          "name": "stdout",
          "text": [
            "TensorFlow version: 2.14.0-dev20230718\n",
            "Notebook last run (end-to-end): 2023-07-19 03:50:27.505638\n"
          ]
        }
      ],
      "source": [
        "# Note: As of May 2023, there have been some issues with TensorFlow versions 2.9-2.12\n",
        "# with the following code.\n",
        "# However, these seemed to have been fixed in version 2.13+.\n",
        "# TensorFlow version 2.13 is available in tf-nightly as of May 2023 (will be default in Google Colab soon).\n",
        "# Therefore, to prevent errors we'll install tf-nightly first.\n",
        "# See more here: https://github.com/mrdbourke/tensorflow-deep-learning/discussions/550\n",
        "\n",
        "# Install tf-nightly (required until 2.13.0+ is the default in Google Colab)\n",
        "!pip install -U -q tf-nightly\n",
        "\n",
        "# Check TensorFlow version (should be minimum 2.4.0+ but 2.13.0+ is better)\n",
        "import tensorflow as tf\n",
        "print(f\"TensorFlow version: {tf.__version__}\")\n",
        "\n",
        "# Add timestamp\n",
        "import datetime\n",
        "print(f\"Notebook last run (end-to-end): {datetime.datetime.now()}\")"
      ],
      "id": "2bcbb711-ed02-4616-830b-b13212215eaf"
    },
    {
      "cell_type": "markdown",
      "metadata": {
        "id": "d80666c6-53e0-433c-996e-9094c6a4cc29"
      },
      "source": [
        "## Get helper functions\n",
        "\n",
        "We've created a series of helper functions throughout the previous notebooks in the course. Instead of rewriting them (tedious), we'll import the [`helper_functions.py`](https://github.com/mrdbourke/tensorflow-deep-learning/blob/main/extras/helper_functions.py) file from the GitHub repo."
      ],
      "id": "d80666c6-53e0-433c-996e-9094c6a4cc29"
    },
    {
      "cell_type": "code",
      "execution_count": null,
      "metadata": {
        "colab": {
          "base_uri": "https://localhost:8080/"
        },
        "id": "5558dbb4-90ca-49a3-856d-6cfe063d3df6",
        "outputId": "065811e0-6fae-4a61-e5c6-9265b389a161"
      },
      "outputs": [
        {
          "output_type": "stream",
          "name": "stdout",
          "text": [
            "--2023-07-19 03:50:36--  https://raw.githubusercontent.com/mrdbourke/tensorflow-deep-learning/main/extras/helper_functions.py\n",
            "Resolving raw.githubusercontent.com (raw.githubusercontent.com)... 185.199.111.133, 185.199.110.133, 185.199.109.133, ...\n",
            "Connecting to raw.githubusercontent.com (raw.githubusercontent.com)|185.199.111.133|:443... connected.\n",
            "HTTP request sent, awaiting response... 200 OK\n",
            "Length: 10246 (10K) [text/plain]\n",
            "Saving to: ‘helper_functions.py’\n",
            "\n",
            "helper_functions.py 100%[===================>]  10.01K  --.-KB/s    in 0s      \n",
            "\n",
            "2023-07-19 03:50:36 (115 MB/s) - ‘helper_functions.py’ saved [10246/10246]\n",
            "\n"
          ]
        }
      ],
      "source": [
        "# Get helper functions file\n",
        "import os\n",
        "\n",
        "if not os.path.exists(\"helper_functions.py\"):\n",
        "    !wget https://raw.githubusercontent.com/mrdbourke/tensorflow-deep-learning/main/extras/helper_functions.py\n",
        "else:\n",
        "    print(\"[INFO] 'helper_functions.py' already exists, skipping download.\")"
      ],
      "id": "5558dbb4-90ca-49a3-856d-6cfe063d3df6"
    },
    {
      "cell_type": "code",
      "execution_count": null,
      "metadata": {
        "id": "02363842-bbc3-482d-86c2-90c7d093f7fa"
      },
      "outputs": [],
      "source": [
        "# Import series of helper functions for the notebook (we've created/used these in previous notebooks)\n",
        "from helper_functions import create_tensorboard_callback, plot_loss_curves, compare_historys"
      ],
      "id": "02363842-bbc3-482d-86c2-90c7d093f7fa"
    },
    {
      "cell_type": "code",
      "execution_count": null,
      "metadata": {
        "id": "ef4f160e-55f6-47e0-8c4e-fba7d1dfd91b"
      },
      "outputs": [],
      "source": [
        "# Get TensorFlow Datasets\n",
        "import tensorflow_datasets as tfds"
      ],
      "id": "ef4f160e-55f6-47e0-8c4e-fba7d1dfd91b"
    },
    {
      "cell_type": "markdown",
      "metadata": {
        "id": "6fbb4d29-aeb1-4ed5-928e-334cc3637b13"
      },
      "source": [
        "To find all of the available datasets in TensorFlow Datasets, you can use the `list_builders()` method.\n",
        "\n",
        "After doing so, we can check to see if the one we're after (`\"food101\"`) is present."
      ],
      "id": "6fbb4d29-aeb1-4ed5-928e-334cc3637b13"
    },
    {
      "cell_type": "code",
      "execution_count": null,
      "metadata": {
        "colab": {
          "base_uri": "https://localhost:8080/"
        },
        "id": "1aeb0578-b57f-4993-a834-8246aca0e252",
        "outputId": "c8544ea5-8db8-4dd4-a004-1dea3f5f4add"
      },
      "outputs": [
        {
          "output_type": "stream",
          "name": "stdout",
          "text": [
            "'food101' in TensorFlow Datasets: True\n"
          ]
        }
      ],
      "source": [
        "# Get all available datasets in TFDS\n",
        "datasets_list = tfds.list_builders()\n",
        "\n",
        "# Set our target dataset and see if it exists\n",
        "target_dataset = \"food101\"\n",
        "print(f\"'{target_dataset}' in TensorFlow Datasets: {target_dataset in datasets_list}\")"
      ],
      "id": "1aeb0578-b57f-4993-a834-8246aca0e252"
    },
    {
      "cell_type": "code",
      "execution_count": null,
      "metadata": {
        "id": "5ccd73b2-37df-4402-afc5-49de4dea4c77",
        "colab": {
          "base_uri": "https://localhost:8080/",
          "height": 130,
          "referenced_widgets": [
            "aabed55be3654e0082309d21980d666c",
            "e406e3cf71b34c22b3ddd2c357647564",
            "c105269332b54416b7601ad0eb50414e",
            "c6bd3994db18478dbebf191ab3901863",
            "595ff890118a4b078081166dff773484",
            "e8c3d3584c574fd6a973e4c83ce7b85a",
            "2ee04d85c0aa470a88370d8c7a72ef52",
            "63b2ff30d08f49b0863b4ae093a4f024",
            "a75a60b90b684be7bde528e7f3d1d8dc",
            "82442b5f64204ade8da2453fcc71d48a",
            "4bf3275c7b644b3388d43490e4e95f73",
            "7abcb7b4ab6b4b08ad4c772dec77f091",
            "5810c8aebfb54ac497a88f439a688392",
            "734d663e9f5940ff91fbc7d2210f9a7e",
            "716908c85c244812b78ad1e70601a7ff",
            "b17530fb304a4bc6891f266837709007",
            "9b56c5252fc742e5b8e23e189a9c7fab",
            "0a5b340634d842a2bf5f40b4f873076d",
            "19ebb3dea53f40a692a3ef3dd5065ddd",
            "f9543111b1534a6696338c3ab52c6ab4",
            "c8934a796fda41d5aa5f171016bcc723",
            "569121eb21bb441eb75bac9550a2483a",
            "b0db7a278a564dcdb534a0b26ce236e6",
            "3afd8490497d478f8c77d8b7157f3f91",
            "9102aec692ba4ee9a2b22a8d7f540c60",
            "471a2f95d31a47c59bad97314a1c30d0",
            "27c62e5a217b4e16800ffa218005deaf",
            "853ea242c6b14374b784e5b8620877e0",
            "5a2e864a0dd94ddd9e07de20dc868992",
            "535751691f864d72ad9380ca47308de8",
            "68284e00ab7749e2b1b2e49937222653",
            "a593c56f494f465f9962507c7eb5664f",
            "d6bc8460f1314d85b493edae99f118cf"
          ]
        },
        "outputId": "04deebd2-6fa3-46df-c89e-4df3591cbfe9"
      },
      "outputs": [
        {
          "output_type": "stream",
          "name": "stdout",
          "text": [
            "Downloading and preparing dataset 4.65 GiB (download: 4.65 GiB, generated: Unknown size, total: 4.65 GiB) to /root/tensorflow_datasets/food101/2.0.0...\n"
          ]
        },
        {
          "output_type": "display_data",
          "data": {
            "text/plain": [
              "Dl Completed...: 0 url [00:00, ? url/s]"
            ],
            "application/vnd.jupyter.widget-view+json": {
              "version_major": 2,
              "version_minor": 0,
              "model_id": "aabed55be3654e0082309d21980d666c"
            }
          },
          "metadata": {}
        },
        {
          "output_type": "display_data",
          "data": {
            "text/plain": [
              "Dl Size...: 0 MiB [00:00, ? MiB/s]"
            ],
            "application/vnd.jupyter.widget-view+json": {
              "version_major": 2,
              "version_minor": 0,
              "model_id": "7abcb7b4ab6b4b08ad4c772dec77f091"
            }
          },
          "metadata": {}
        },
        {
          "output_type": "display_data",
          "data": {
            "text/plain": [
              "Extraction completed...: 0 file [00:00, ? file/s]"
            ],
            "application/vnd.jupyter.widget-view+json": {
              "version_major": 2,
              "version_minor": 0,
              "model_id": "b0db7a278a564dcdb534a0b26ce236e6"
            }
          },
          "metadata": {}
        }
      ],
      "source": [
        "# Load in the data (takes about 5-6 minutes in Google Colab)\n",
        "(train_data, test_data), ds_info = tfds.load(name=\"food101\", # target dataset to get from TFDS\n",
        "                                             split=[\"train\", \"validation\"], # what splits of data should we get? note: not all datasets have train, valid, test\n",
        "                                             shuffle_files=True, # shuffle files on download?\n",
        "                                             as_supervised=True, # download data in tuple format (sample, label), e.g. (image, label)\n",
        "                                             with_info=True) # include dataset metadata? if so, tfds.load() returns tuple (data, ds_info)"
      ],
      "id": "5ccd73b2-37df-4402-afc5-49de4dea4c77"
    },
    {
      "cell_type": "code",
      "execution_count": null,
      "metadata": {
        "colab": {
          "base_uri": "https://localhost:8080/"
        },
        "id": "6115265e-469b-4fcd-a54b-7fb4e59b90af",
        "outputId": "a66a4d35-6ddc-460f-94c3-500bedac4d82"
      },
      "outputs": [
        {
          "output_type": "execute_result",
          "data": {
            "text/plain": [
              "FeaturesDict({\n",
              "    'image': Image(shape=(None, None, 3), dtype=uint8),\n",
              "    'label': ClassLabel(shape=(), dtype=int64, num_classes=101),\n",
              "})"
            ]
          },
          "metadata": {},
          "execution_count": 7
        }
      ],
      "source": [
        "# Features of Food101 TFDS\n",
        "ds_info.features"
      ],
      "id": "6115265e-469b-4fcd-a54b-7fb4e59b90af"
    },
    {
      "cell_type": "code",
      "source": [
        "len(train_data), len(test_data)"
      ],
      "metadata": {
        "colab": {
          "base_uri": "https://localhost:8080/"
        },
        "id": "i9E8ZucqNBhT",
        "outputId": "ce08451d-031b-4c46-d029-ac45222e7b19"
      },
      "id": "i9E8ZucqNBhT",
      "execution_count": null,
      "outputs": [
        {
          "output_type": "execute_result",
          "data": {
            "text/plain": [
              "(75750, 25250)"
            ]
          },
          "metadata": {},
          "execution_count": 8
        }
      ]
    },
    {
      "cell_type": "code",
      "execution_count": null,
      "metadata": {
        "colab": {
          "base_uri": "https://localhost:8080/"
        },
        "id": "51532ab7-9ffa-4d19-9726-389984f39a04",
        "outputId": "576db5fb-7a1a-430a-ec60-0b440fcc94d5"
      },
      "outputs": [
        {
          "output_type": "execute_result",
          "data": {
            "text/plain": [
              "['apple_pie',\n",
              " 'baby_back_ribs',\n",
              " 'baklava',\n",
              " 'beef_carpaccio',\n",
              " 'beef_tartare',\n",
              " 'beet_salad',\n",
              " 'beignets',\n",
              " 'bibimbap',\n",
              " 'bread_pudding',\n",
              " 'breakfast_burrito']"
            ]
          },
          "metadata": {},
          "execution_count": 9
        }
      ],
      "source": [
        "# Get class names\n",
        "class_names = ds_info.features[\"label\"].names\n",
        "class_names[:10]"
      ],
      "id": "51532ab7-9ffa-4d19-9726-389984f39a04"
    },
    {
      "cell_type": "markdown",
      "metadata": {
        "id": "896c2153-9420-432d-a424-704424789ba8"
      },
      "source": [
        "## Exploring the Food101 data from TensorFlow Datasets"
      ],
      "id": "896c2153-9420-432d-a424-704424789ba8"
    },
    {
      "cell_type": "code",
      "execution_count": null,
      "metadata": {
        "id": "60b89a61-50e3-4058-9dae-bb0cefacca16"
      },
      "outputs": [],
      "source": [
        "# Take one sample off the training data\n",
        "train_one_sample = train_data.take(1) # samples are in format (image_tensor, label)"
      ],
      "id": "60b89a61-50e3-4058-9dae-bb0cefacca16"
    },
    {
      "cell_type": "markdown",
      "metadata": {
        "id": "42bb1dfd-7c88-49a1-a174-1f6ba973ad61"
      },
      "source": [
        "Because we used the `as_supervised=True` parameter in our `tfds.load()` method above, data samples come in the tuple format structure `(data, label)` or in our case `(image_tensor, label)`."
      ],
      "id": "42bb1dfd-7c88-49a1-a174-1f6ba973ad61"
    },
    {
      "cell_type": "code",
      "execution_count": null,
      "metadata": {
        "colab": {
          "base_uri": "https://localhost:8080/"
        },
        "id": "8a13d601-0911-4a36-be2c-a59ca6b809a4",
        "outputId": "b75ab552-2d8b-4ce0-d796-1bb43245d0c4"
      },
      "outputs": [
        {
          "output_type": "execute_result",
          "data": {
            "text/plain": [
              "<_TakeDataset element_spec=(TensorSpec(shape=(None, None, 3), dtype=tf.uint8, name=None), TensorSpec(shape=(), dtype=tf.int64, name=None))>"
            ]
          },
          "metadata": {},
          "execution_count": 11
        }
      ],
      "source": [
        "# What does one sample of our training data look like?\n",
        "train_one_sample"
      ],
      "id": "8a13d601-0911-4a36-be2c-a59ca6b809a4"
    },
    {
      "cell_type": "markdown",
      "metadata": {
        "id": "a83d5488-6cd0-4dd2-8d83-ae80eaf06c73"
      },
      "source": [
        "Let's loop through our single training sample and get some info from the `image_tensor` and `label`."
      ],
      "id": "a83d5488-6cd0-4dd2-8d83-ae80eaf06c73"
    },
    {
      "cell_type": "code",
      "execution_count": null,
      "metadata": {
        "colab": {
          "base_uri": "https://localhost:8080/"
        },
        "id": "123d5880-776f-4002-8eca-5f1fae500b7a",
        "outputId": "43bad4df-bb14-49b6-822c-afbed5097b4b"
      },
      "outputs": [
        {
          "output_type": "stream",
          "name": "stdout",
          "text": [
            "\n",
            "  Image shape: (512, 512, 3)\n",
            "  Image dtype: <dtype: 'uint8'>\n",
            "  Target class from Food101 (tensor form): 75\n",
            "  Class name (str form): pho\n",
            "        \n"
          ]
        }
      ],
      "source": [
        "# Output info about our training sample\n",
        "for image, label in train_one_sample:\n",
        "  print(f\"\"\"\n",
        "  Image shape: {image.shape}\n",
        "  Image dtype: {image.dtype}\n",
        "  Target class from Food101 (tensor form): {label}\n",
        "  Class name (str form): {class_names[label.numpy()]}\n",
        "        \"\"\")"
      ],
      "id": "123d5880-776f-4002-8eca-5f1fae500b7a"
    },
    {
      "cell_type": "markdown",
      "metadata": {
        "id": "ab240eb4-fedf-42d5-aaba-8906d11af3e2"
      },
      "source": [
        "Because we set the `shuffle_files=True` parameter in our `tfds.load()` method above, running the cell above a few times will give a different result each time.\n",
        "\n",
        "Checking these you might notice some of the images have different shapes, for example `(512, 342, 3)` and `(512, 512, 3)` (height, width, color_channels).\n",
        "\n",
        "Let's see what one of the image tensors from TFDS's Food101 dataset looks like."
      ],
      "id": "ab240eb4-fedf-42d5-aaba-8906d11af3e2"
    },
    {
      "cell_type": "code",
      "execution_count": null,
      "metadata": {
        "colab": {
          "base_uri": "https://localhost:8080/"
        },
        "id": "5bc3ed60-3003-4239-ad3b-9a77b4e750f0",
        "outputId": "d037bd10-0899-4cd7-9efc-a0541d948dee"
      },
      "outputs": [
        {
          "output_type": "execute_result",
          "data": {
            "text/plain": [
              "<tf.Tensor: shape=(512, 512, 3), dtype=uint8, numpy=\n",
              "array([[[ 48,  51,  30],\n",
              "        [ 49,  52,  31],\n",
              "        [ 50,  55,  33],\n",
              "        ...,\n",
              "        [ 93, 120,  77],\n",
              "        [ 87, 112,  70],\n",
              "        [ 80, 105,  63]],\n",
              "\n",
              "       [[ 43,  46,  25],\n",
              "        [ 46,  49,  28],\n",
              "        [ 49,  54,  32],\n",
              "        ...,\n",
              "        [ 95, 122,  77],\n",
              "        [ 90, 117,  72],\n",
              "        [ 83, 110,  65]],\n",
              "\n",
              "       [[ 40,  43,  22],\n",
              "        [ 45,  48,  27],\n",
              "        [ 50,  55,  33],\n",
              "        ...,\n",
              "        [ 90, 119,  71],\n",
              "        [ 87, 116,  68],\n",
              "        [ 84, 113,  65]],\n",
              "\n",
              "       ...,\n",
              "\n",
              "       [[ 48,  55,  37],\n",
              "        [ 48,  55,  37],\n",
              "        [ 41,  50,  33],\n",
              "        ...,\n",
              "        [ 32,  43,  35],\n",
              "        [ 25,  36,  30],\n",
              "        [ 21,  32,  26]],\n",
              "\n",
              "       [[ 42,  47,  27],\n",
              "        [ 38,  46,  25],\n",
              "        [ 34,  43,  26],\n",
              "        ...,\n",
              "        [ 38,  49,  41],\n",
              "        [ 33,  44,  38],\n",
              "        [ 29,  40,  34]],\n",
              "\n",
              "       [[ 37,  42,  20],\n",
              "        [ 32,  40,  19],\n",
              "        [ 31,  38,  20],\n",
              "        ...,\n",
              "        [ 33,  44,  36],\n",
              "        [ 33,  44,  38],\n",
              "        [ 32,  43,  37]]], dtype=uint8)>"
            ]
          },
          "metadata": {},
          "execution_count": 13
        }
      ],
      "source": [
        "# What does an image tensor from TFDS's Food101 look like?\n",
        "image"
      ],
      "id": "5bc3ed60-3003-4239-ad3b-9a77b4e750f0"
    },
    {
      "cell_type": "code",
      "execution_count": null,
      "metadata": {
        "colab": {
          "base_uri": "https://localhost:8080/"
        },
        "id": "808e21e5-6951-4eac-bb3c-00fc1ae3fa0f",
        "outputId": "07b1a5a7-55f4-4aa9-9c16-056a9111f12b"
      },
      "outputs": [
        {
          "output_type": "execute_result",
          "data": {
            "text/plain": [
              "(<tf.Tensor: shape=(), dtype=uint8, numpy=0>,\n",
              " <tf.Tensor: shape=(), dtype=uint8, numpy=255>)"
            ]
          },
          "metadata": {},
          "execution_count": 14
        }
      ],
      "source": [
        "# What are the min and max values?\n",
        "tf.reduce_min(image), tf.reduce_max(image)"
      ],
      "id": "808e21e5-6951-4eac-bb3c-00fc1ae3fa0f"
    },
    {
      "cell_type": "markdown",
      "metadata": {
        "id": "630fb994-b61f-4a03-8831-83fe50ab6ca1"
      },
      "source": [
        "## Plot an image from TensorFlow Datasets"
      ],
      "id": "630fb994-b61f-4a03-8831-83fe50ab6ca1"
    },
    {
      "cell_type": "code",
      "execution_count": null,
      "metadata": {
        "colab": {
          "base_uri": "https://localhost:8080/",
          "height": 428
        },
        "id": "3f19d6a3-b2ac-47e9-a670-c08461897d6c",
        "outputId": "d7ac83ff-25e5-4bf4-aca7-83fbfb0c96c9"
      },
      "outputs": [
        {
          "output_type": "display_data",
          "data": {
            "text/plain": [
              "<Figure size 640x480 with 1 Axes>"
            ],
            "image/png": "[encoded data removed]"
          },
          "metadata": {}
        }
      ],
      "source": [
        "# Plot an image tensor\n",
        "import matplotlib.pyplot as plt\n",
        "plt.imshow(image)\n",
        "plt.title(class_names[label.numpy()]) # add title to image by indexing on class_names list\n",
        "plt.axis(False);"
      ],
      "id": "3f19d6a3-b2ac-47e9-a670-c08461897d6c"
    },
    {
      "cell_type": "markdown",
      "metadata": {
        "id": "04fa7e9a-9918-4bc0-8e0f-c87893922157"
      },
      "source": [
        "Delicious!\n",
        "\n",
        "Okay, looks like the Food101 data we've got from TFDS is similar to the datasets we've been using in previous notebooks.\n",
        "\n",
        "Now let's preprocess it and get it ready for use with a neural network."
      ],
      "id": "04fa7e9a-9918-4bc0-8e0f-c87893922157"
    },
    {
      "cell_type": "code",
      "execution_count": null,
      "metadata": {
        "id": "51b7307e-165a-4509-8e99-ce484bfc39f8"
      },
      "outputs": [],
      "source": [
        "# Make a function for preprocessing images\n",
        "def preprocess_img(image, label, img_shape=224):\n",
        "    \"\"\"\n",
        "    Converts image datatype from 'uint8' -> 'float32' and reshapes image to\n",
        "    [img_shape, img_shape, color_channels]\n",
        "    \"\"\"\n",
        "    image = tf.image.resize(image, [img_shape, img_shape]) # reshape to img_shape\n",
        "    return tf.cast(image, tf.float32), label # return (float32_image, label) tuple"
      ],
      "id": "51b7307e-165a-4509-8e99-ce484bfc39f8"
    },
    {
      "cell_type": "code",
      "execution_count": null,
      "metadata": {
        "colab": {
          "base_uri": "https://localhost:8080/"
        },
        "id": "9cdb051f-6e67-4189-a69a-44748d4a7bd5",
        "outputId": "f907fcaa-a9c5-4130-c81e-6fb1ca2e80b6"
      },
      "outputs": [
        {
          "output_type": "stream",
          "name": "stdout",
          "text": [
            "Image before preprocessing:\n",
            " [[[ 48  51  30]\n",
            "  [ 49  52  31]\n",
            "  [ 50  55  33]\n",
            "  ...\n",
            "  [ 93 120  77]\n",
            "  [ 87 112  70]\n",
            "  [ 80 105  63]]\n",
            "\n",
            " [[ 43  46  25]\n",
            "  [ 46  49  28]\n",
            "  [ 49  54  32]\n",
            "  ...\n",
            "  [ 95 122  77]\n",
            "  [ 90 117  72]\n",
            "  [ 83 110  65]]]...,\n",
            "Shape: (512, 512, 3),\n",
            "Datatype: <dtype: 'uint8'>\n",
            "\n",
            "Image after preprocessing:\n",
            " [[[ 46.2551    49.2551    28.255102]\n",
            "  [ 49.954082  54.954082  32.954082]\n",
            "  [ 42.494896  50.494896  27.494898]\n",
            "  ...\n",
            "  [ 97.50995  129.86195   81.4385  ]\n",
            "  [ 94.02041  122.21427   77.33163 ]\n",
            "  [ 86.42833  112.71404   68.78547 ]]\n",
            "\n",
            " [[ 45.336735  48.336735  27.336735]\n",
            "  [ 53.714287  58.714287  36.714287]\n",
            "  [ 40.44388   48.44388   25.443878]\n",
            "  ...\n",
            "  [ 92.948906 128.3213    74.52029 ]\n",
            "  [ 85.48981  117.27552   67.41838 ]\n",
            "  [ 90.70417  122.48989   72.632744]]]...,\n",
            "Shape: (224, 224, 3),\n",
            "Datatype: <dtype: 'float32'>\n"
          ]
        }
      ],
      "source": [
        "# Preprocess a single sample image and check the outputs\n",
        "preprocessed_img = preprocess_img(image, label)[0]\n",
        "print(f\"Image before preprocessing:\\n {image[:2]}...,\\nShape: {image.shape},\\nDatatype: {image.dtype}\\n\")\n",
        "print(f\"Image after preprocessing:\\n {preprocessed_img[:2]}...,\\nShape: {preprocessed_img.shape},\\nDatatype: {preprocessed_img.dtype}\")"
      ],
      "id": "9cdb051f-6e67-4189-a69a-44748d4a7bd5"
    },
    {
      "cell_type": "code",
      "execution_count": null,
      "metadata": {
        "colab": {
          "base_uri": "https://localhost:8080/",
          "height": 428
        },
        "id": "6046678b-0e38-40bf-b4c5-e0d4b0d98f97",
        "outputId": "723e59e8-643e-4b46-8b33-1a9c96ea7ac5"
      },
      "outputs": [
        {
          "output_type": "display_data",
          "data": {
            "text/plain": [
              "<Figure size 640x480 with 1 Axes>"
            ],
            "image/png": "[encoded data removed]"
          },
          "metadata": {}
        }
      ],
      "source": [
        "# We can still plot our preprocessed image as long as we\n",
        "# divide by 255 (for matplotlib capatibility)\n",
        "plt.imshow(preprocessed_img/255.)\n",
        "plt.title(class_names[label])\n",
        "plt.axis(False);"
      ],
      "id": "6046678b-0e38-40bf-b4c5-e0d4b0d98f97"
    },
    {
      "cell_type": "code",
      "execution_count": null,
      "metadata": {
        "id": "15991d7f-b649-4a3b-b443-e61b56ce653c"
      },
      "outputs": [],
      "source": [
        "# Map preprocessing function to training data (and paralellize)\n",
        "train_data = train_data.map(map_func=preprocess_img, num_parallel_calls=tf.data.AUTOTUNE)\n",
        "\n",
        "# Shuffle train_data and turn it into batches and prefetch it (load it faster)\n",
        "train_data = train_data.shuffle(buffer_size=1000).batch(batch_size=32).prefetch(buffer_size=tf.data.AUTOTUNE)\n",
        "\n",
        "# Map prepreprocessing function to test data\n",
        "test_data = test_data.map(preprocess_img, num_parallel_calls=tf.data.AUTOTUNE)\n",
        "\n",
        "# Turn test data into batches (don't need to shuffle)\n",
        "test_data = test_data.batch(32).prefetch(tf.data.AUTOTUNE)"
      ],
      "id": "15991d7f-b649-4a3b-b443-e61b56ce653c"
    },
    {
      "cell_type": "markdown",
      "metadata": {
        "id": "f504e9c7-6bf8-4fdb-acd4-c67abffbf091"
      },
      "source": [
        "And now let's check out what our prepared datasets look like."
      ],
      "id": "f504e9c7-6bf8-4fdb-acd4-c67abffbf091"
    },
    {
      "cell_type": "code",
      "execution_count": null,
      "metadata": {
        "colab": {
          "base_uri": "https://localhost:8080/"
        },
        "id": "9b2f3c75-739c-4eb0-8156-a21dea3de937",
        "outputId": "3823725b-7bfe-4260-cc80-c404c87c2e8f"
      },
      "outputs": [
        {
          "output_type": "execute_result",
          "data": {
            "text/plain": [
              "(<_PrefetchDataset element_spec=(TensorSpec(shape=(None, 224, 224, 3), dtype=tf.float32, name=None), TensorSpec(shape=(None,), dtype=tf.int64, name=None))>,\n",
              " <_PrefetchDataset element_spec=(TensorSpec(shape=(None, 224, 224, 3), dtype=tf.float32, name=None), TensorSpec(shape=(None,), dtype=tf.int64, name=None))>)"
            ]
          },
          "metadata": {},
          "execution_count": 20
        }
      ],
      "source": [
        "train_data, test_data"
      ],
      "id": "9b2f3c75-739c-4eb0-8156-a21dea3de937"
    },
    {
      "cell_type": "code",
      "execution_count": null,
      "metadata": {
        "id": "2f54a576-3892-4043-a500-9a6b95199dce"
      },
      "outputs": [],
      "source": [
        "# Create TensorBoard callback (already have \"create_tensorboard_callback()\" from a previous notebook)\n",
        "from helper_functions import create_tensorboard_callback\n",
        "\n",
        "# Create ModelCheckpoint callback to save model's progress\n",
        "checkpoint_path = \"model_checkpoints/cp.ckpt\" # saving weights requires \".ckpt\" extension\n",
        "model_checkpoint = tf.keras.callbacks.ModelCheckpoint(checkpoint_path,\n",
        "                                                      monitor=\"val_accuracy\", # save the model weights with best validation accuracy\n",
        "                                                      save_best_only=True, # only save the best weights\n",
        "                                                      save_weights_only=True, # only save model weights (not whole model)\n",
        "                                                      verbose=0) # don't print out whether or not model is being saved"
      ],
      "id": "2f54a576-3892-4043-a500-9a6b95199dce"
    },
    {
      "cell_type": "code",
      "execution_count": null,
      "metadata": {
        "id": "4a06d5fd-54e6-4220-a2f3-67445225e033"
      },
      "outputs": [],
      "source": [
        "# Turn on mixed precision training\n",
        "from tensorflow.keras import mixed_precision\n",
        "mixed_precision.set_global_policy(policy=\"mixed_float16\") # set global policy to mixed precision"
      ],
      "id": "4a06d5fd-54e6-4220-a2f3-67445225e033"
    },
    {
      "cell_type": "code",
      "execution_count": null,
      "metadata": {
        "colab": {
          "base_uri": "https://localhost:8080/"
        },
        "id": "d45bd7e1-b5f1-4ffb-8bec-1f8281023510",
        "outputId": "34634d20-bf8c-42bb-e06a-4ba697a2c3a4"
      },
      "outputs": [
        {
          "output_type": "execute_result",
          "data": {
            "text/plain": [
              "<Policy \"mixed_float16\">"
            ]
          },
          "metadata": {},
          "execution_count": 23
        }
      ],
      "source": [
        "mixed_precision.global_policy() # should output \"mixed_float16\" (if your GPU is compatible with mixed precision)"
      ],
      "id": "d45bd7e1-b5f1-4ffb-8bec-1f8281023510"
    },
    {
      "cell_type": "markdown",
      "metadata": {
        "id": "e66df4cf-9daa-4ee2-8df0-cf29e667b5e4"
      },
      "source": [
        "Great, since the global dtype policy is now `\"mixed_float16\"` our model will automatically take advantage of float16 variables where possible and in turn speed up training."
      ],
      "id": "e66df4cf-9daa-4ee2-8df0-cf29e667b5e4"
    },
    {
      "cell_type": "markdown",
      "metadata": {
        "id": "caef02fc-bd6a-4dd5-85b9-b28a3b20aede"
      },
      "source": [
        "## Setting up Modelling Callbacks\n",
        "\n",
        "The `EarlyStopping` callback monitors a specified model performance metric (e.g. `val_loss`) and when it stops improving for a specified number of epochs, automatically stops training.\n",
        "\n",
        "Using the `EarlyStopping` callback combined with the `ModelCheckpoint` callback saving the best performing model automatically, we could keep our model training for an unlimited number of epochs until it stops improving.\n",
        "\n",
        "Let's set both of these up to monitor our model's `val_loss`."
      ],
      "id": "caef02fc-bd6a-4dd5-85b9-b28a3b20aede"
    },
    {
      "cell_type": "code",
      "execution_count": null,
      "metadata": {
        "id": "bc2668c2-2406-46a5-a325-331234c64335"
      },
      "outputs": [],
      "source": [
        "# Setup EarlyStopping callback to stop training if model's val_loss doesn't improve for 3 epochs\n",
        "early_stopping = tf.keras.callbacks.EarlyStopping(monitor=\"val_loss\", # watch the val loss metric\n",
        "                                                  patience=3) # if val loss decreases for 5 epochs in a row, stop training\n",
        "\n",
        "# Create ModelCheckpoint callback to save best model during fine-tuning\n",
        "checkpoint_path = \"fine_tune_checkpoints/\"\n",
        "model_checkpoint = tf.keras.callbacks.ModelCheckpoint(checkpoint_path,\n",
        "                                                      save_best_only=True,\n",
        "                                                      monitor=\"val_loss\")\n",
        "# Creating learning rate reduction callback\n",
        "reduce_lr = tf.keras.callbacks.ReduceLROnPlateau(monitor=\"val_loss\",\n",
        "                                                 factor=0.2, # multiply the learning rate by 0.2 (reduce by 5x)\n",
        "                                                 patience=2,\n",
        "                                                 verbose=1, # print out when learning rate goes down\n",
        "                                                 min_lr=1e-7)"
      ],
      "id": "bc2668c2-2406-46a5-a325-331234c64335"
    },
    {
      "cell_type": "code",
      "source": [
        "from tensorflow import keras\n",
        "from tensorflow.keras import layers\n",
        "from tensorflow.keras.layers.experimental import preprocessing\n",
        "\n",
        "data_augmentation = keras.Sequential([\n",
        "  layers.RandomFlip(\"horizontal\"),\n",
        "  layers.RandomRotation(0.2),\n",
        "  layers.RandomZoom(0.2),\n",
        "  layers.RandomHeight(0.2),\n",
        "  layers.RandomWidth(0.2),\n",
        "  preprocessing.Rescaling(1./255) # keep for ResNet50V2, remove for EfficientNetB0\n",
        "], name =\"data_augmentation\")"
      ],
      "metadata": {
        "id": "2y5kbQotaned"
      },
      "id": "2y5kbQotaned",
      "execution_count": null,
      "outputs": []
    },
    {
      "cell_type": "markdown",
      "source": [
        "# Building Models Using Transfer Learning"
      ],
      "metadata": {
        "id": "67gOxWiGLNum"
      },
      "id": "67gOxWiGLNum"
    },
    {
      "cell_type": "markdown",
      "source": [
        "## Base Model - VGG19"
      ],
      "metadata": {
        "id": "8JLcfn78LgzT"
      },
      "id": "8JLcfn78LgzT"
    },
    {
      "cell_type": "code",
      "execution_count": null,
      "metadata": {
        "id": "7573b3d3-28bd-469b-a1c4-f19e780fce38"
      },
      "outputs": [],
      "source": [
        "from tensorflow.keras import layers\n",
        "\n",
        "# Create base model\n",
        "input_shape = (224, 224, 3)\n",
        "base_model = tf.keras.applications.VGG19(include_top=False)\n",
        "base_model.trainable = False # freeze base model layers\n",
        "\n",
        "# Create Functional model\n",
        "inputs = layers.Input(shape=input_shape, name=\"input_layer\")\n",
        "x = data_augmentation(inputs)\n",
        "x = base_model(inputs, training=False) # set base_model to inference mode only\n",
        "x = layers.Rescaling(1./255)(x)\n",
        "x = layers.GlobalAveragePooling2D(name=\"pooling_layer\")(x)\n",
        "x = layers.Dense(len(class_names))(x) # want one output neuron per class\n",
        "# Separate activation of output layer so we can output float32 activations\n",
        "outputs = layers.Activation(\"softmax\", dtype=tf.float32, name=\"softmax_float32\")(x)\n",
        "model = tf.keras.Model(inputs, outputs)\n",
        "\n",
        "# Compile the model\n",
        "model.compile(loss=\"sparse_categorical_crossentropy\", # Use sparse_categorical_crossentropy when labels are *not* one-hot\n",
        "              optimizer=tf.keras.optimizers.Adam(),\n",
        "              metrics=[\"accuracy\"])"
      ],
      "id": "7573b3d3-28bd-469b-a1c4-f19e780fce38"
    },
    {
      "cell_type": "code",
      "execution_count": null,
      "metadata": {
        "colab": {
          "base_uri": "https://localhost:8080/"
        },
        "id": "79cdfae0-7229-4923-bf55-9529c2d09134",
        "outputId": "57a96524-83d8-4ee4-c8dc-7f4cb4512f14"
      },
      "outputs": [
        {
          "output_type": "stream",
          "name": "stdout",
          "text": [
            "Model: \"model_1\"\n",
            "_________________________________________________________________\n",
            " Layer (type)                Output Shape              Param #   \n",
            "=================================================================\n",
            " input_layer (InputLayer)    [(None, 224, 224, 3)]     0         \n",
            "                                                                 \n",
            " vgg19 (Functional)          (None, None, None, 512)   20024384  \n",
            "                                                                 \n",
            " rescaling_3 (Rescaling)     (None, 7, 7, 512)         0         \n",
            "                                                                 \n",
            " pooling_layer (GlobalAverag  (None, 512)              0         \n",
            " ePooling2D)                                                     \n",
            "                                                                 \n",
            " dense_1 (Dense)             (None, 101)               51813     \n",
            "                                                                 \n",
            " softmax_float32 (Activation  (None, 101)              0         \n",
            " )                                                               \n",
            "                                                                 \n",
            "=================================================================\n",
            "Total params: 20,076,197\n",
            "Trainable params: 51,813\n",
            "Non-trainable params: 20,024,384\n",
            "_________________________________________________________________\n"
          ]
        }
      ],
      "source": [
        "# Check out our model\n",
        "model.summary()"
      ],
      "id": "79cdfae0-7229-4923-bf55-9529c2d09134"
    },
    {
      "cell_type": "code",
      "execution_count": null,
      "metadata": {
        "colab": {
          "base_uri": "https://localhost:8080/"
        },
        "id": "2a2df5ac-c297-4049-b721-9967ea6be88f",
        "outputId": "ecb908a1-7689-4c98-c3cc-eff72cff330e"
      },
      "outputs": [
        {
          "output_type": "stream",
          "name": "stdout",
          "text": [
            "input_layer True float32 <Policy \"float32\">\n",
            "vgg19 False float32 <Policy \"mixed_float16\">\n",
            "rescaling_1 True float32 <Policy \"mixed_float16\">\n",
            "pooling_layer True float32 <Policy \"mixed_float16\">\n",
            "dense True float32 <Policy \"mixed_float16\">\n",
            "softmax_float32 True float32 <Policy \"float32\">\n"
          ]
        }
      ],
      "source": [
        "# Check the dtype_policy attributes of layers in our model\n",
        "for layer in model.layers:\n",
        "    print(layer.name, layer.trainable, layer.dtype, layer.dtype_policy) # Check the dtype policy of layers"
      ],
      "id": "2a2df5ac-c297-4049-b721-9967ea6be88f"
    },
    {
      "cell_type": "code",
      "execution_count": null,
      "metadata": {
        "colab": {
          "base_uri": "https://localhost:8080/"
        },
        "id": "a1d186ff-d01d-46d3-a88e-6fc7a849865f",
        "outputId": "5281e26b-f497-494a-d1f6-efd9885676c5"
      },
      "outputs": [
        {
          "output_type": "stream",
          "name": "stdout",
          "text": [
            "input_2 False float32 <Policy \"float32\">\n",
            "block1_conv1 False float32 <Policy \"mixed_float16\">\n",
            "block1_conv2 False float32 <Policy \"mixed_float16\">\n",
            "block1_pool False float32 <Policy \"mixed_float16\">\n",
            "block2_conv1 False float32 <Policy \"mixed_float16\">\n",
            "block2_conv2 False float32 <Policy \"mixed_float16\">\n",
            "block2_pool False float32 <Policy \"mixed_float16\">\n",
            "block3_conv1 False float32 <Policy \"mixed_float16\">\n",
            "block3_conv2 False float32 <Policy \"mixed_float16\">\n",
            "block3_conv3 False float32 <Policy \"mixed_float16\">\n",
            "block3_conv4 False float32 <Policy \"mixed_float16\">\n",
            "block3_pool False float32 <Policy \"mixed_float16\">\n",
            "block4_conv1 False float32 <Policy \"mixed_float16\">\n",
            "block4_conv2 False float32 <Policy \"mixed_float16\">\n",
            "block4_conv3 False float32 <Policy \"mixed_float16\">\n",
            "block4_conv4 False float32 <Policy \"mixed_float16\">\n",
            "block4_pool False float32 <Policy \"mixed_float16\">\n",
            "block5_conv1 False float32 <Policy \"mixed_float16\">\n",
            "block5_conv2 False float32 <Policy \"mixed_float16\">\n",
            "block5_conv3 False float32 <Policy \"mixed_float16\">\n"
          ]
        }
      ],
      "source": [
        "# Check the layers in the base model and see what dtype policy they're using\n",
        "for layer in model.layers[1].layers[:20]: # only check the first 20 layers to save output space\n",
        "    print(layer.name, layer.trainable, layer.dtype, layer.dtype_policy)"
      ],
      "id": "a1d186ff-d01d-46d3-a88e-6fc7a849865f"
    },
    {
      "cell_type": "markdown",
      "metadata": {
        "id": "616b4059-5d78-4466-afe4-9d49df3646ff"
      },
      "source": [
        "> 🔑 **Note:** The mixed precision API automatically causes layers which can benefit from using the `\"mixed_float16\"` dtype policy to use it. It also prevents layers which shouldn't use it from using it (e.g. the normalization layer at the start of the base model)."
      ],
      "id": "616b4059-5d78-4466-afe4-9d49df3646ff"
    },
    {
      "cell_type": "markdown",
      "metadata": {
        "id": "17ebfec1-b7ad-4d38-b42d-b266d09650a2"
      },
      "source": [
        "### Fit the feature extraction model\n",
        "\n",
        "Now that's one good looking model. Let's fit it to our data shall we?\n",
        "\n",
        "Three epochs should be enough for our top layers to adjust their weights enough to our food image data.\n",
        "\n",
        "To save time per epoch, we'll also only validate on 15% of the test data."
      ],
      "id": "17ebfec1-b7ad-4d38-b42d-b266d09650a2"
    },
    {
      "cell_type": "code",
      "execution_count": null,
      "metadata": {
        "colab": {
          "base_uri": "https://localhost:8080/"
        },
        "id": "c1b8f418-391f-4232-af76-102eac0b9d82",
        "outputId": "01aef997-e1a9-407c-ed1c-585d6c466ff7"
      },
      "outputs": [
        {
          "output_type": "stream",
          "name": "stdout",
          "text": [
            "Saving TensorBoard log files to: training_logs/vgg19_feature_extract/20230717-104122\n",
            "Epoch 1/5\n",
            "2368/2368 [==============================] - 95s 39ms/step - loss: 4.3740 - accuracy: 0.1821 - val_loss: 4.1230 - val_accuracy: 0.3318\n",
            "Epoch 2/5\n",
            "2368/2368 [==============================] - 94s 39ms/step - loss: 3.9849 - accuracy: 0.2901 - val_loss: 3.7678 - val_accuracy: 0.3432\n",
            "Epoch 3/5\n",
            "2368/2368 [==============================] - 87s 36ms/step - loss: 3.7011 - accuracy: 0.3158 - val_loss: 3.5015 - val_accuracy: 0.3586\n",
            "Epoch 4/5\n",
            "2368/2368 [==============================] - 87s 36ms/step - loss: 3.4860 - accuracy: 0.3344 - val_loss: 3.3041 - val_accuracy: 0.3779\n",
            "Epoch 5/5\n",
            "2368/2368 [==============================] - 86s 36ms/step - loss: 3.3184 - accuracy: 0.3496 - val_loss: 3.1450 - val_accuracy: 0.3872\n"
          ]
        }
      ],
      "source": [
        "# Turn off all warnings except for errors\n",
        "tf.get_logger().setLevel('ERROR')\n",
        "\n",
        "# Fit the model with callbacks\n",
        "history_vgg19 = model.fit(train_data,\n",
        "                          epochs=5,\n",
        "                          steps_per_epoch=len(train_data),\n",
        "                          validation_data=test_data,\n",
        "                          validation_steps=int(0.15 * len(test_data)),\n",
        "                          callbacks=[create_tensorboard_callback(\"training_logs\",\n",
        "                          \"vgg19_feature_extract\"),\n",
        "                          model_checkpoint])"
      ],
      "id": "c1b8f418-391f-4232-af76-102eac0b9d82"
    },
    {
      "cell_type": "markdown",
      "metadata": {
        "id": "29280c9a-c828-4cf5-8753-8c1bfdced3c0"
      },
      "source": [
        "Nice, looks like our feature extraction model is performing pretty well. How about we evaluate it on the whole test dataset?"
      ],
      "id": "29280c9a-c828-4cf5-8753-8c1bfdced3c0"
    },
    {
      "cell_type": "code",
      "execution_count": null,
      "metadata": {
        "colab": {
          "base_uri": "https://localhost:8080/"
        },
        "id": "f30fb985-9735-4cc6-8d61-63451fc73bce",
        "outputId": "5b8687fb-dcb4-45e4-ffc2-ebff48439825"
      },
      "outputs": [
        {
          "output_type": "stream",
          "name": "stdout",
          "text": [
            "790/790 [==============================] - 25s 32ms/step - loss: 3.1676 - accuracy: 0.3794\n"
          ]
        },
        {
          "output_type": "execute_result",
          "data": {
            "text/plain": [
              "[3.1675586700439453, 0.37936633825302124]"
            ]
          },
          "metadata": {},
          "execution_count": 55
        }
      ],
      "source": [
        "# Evaluate model (unsaved version) on whole test dataset\n",
        "results_feature_extract_vgg19 = model.evaluate(test_data)\n",
        "results_feature_extract_vgg19"
      ],
      "id": "f30fb985-9735-4cc6-8d61-63451fc73bce"
    },
    {
      "cell_type": "code",
      "execution_count": null,
      "metadata": {
        "colab": {
          "base_uri": "https://localhost:8080/"
        },
        "id": "b67712a5-53ad-44ce-be8b-efda79b67726",
        "outputId": "28e6cf66-2312-4d5a-eaf5-cd7a790dcf5e"
      },
      "outputs": [
        {
          "output_type": "stream",
          "name": "stdout",
          "text": [
            "input_3 False float32 <Policy \"float32\">\n",
            "block1_conv1 False float32 <Policy \"mixed_float16\">\n",
            "block1_conv2 False float32 <Policy \"mixed_float16\">\n",
            "block1_pool False float32 <Policy \"mixed_float16\">\n",
            "block2_conv1 False float32 <Policy \"mixed_float16\">\n",
            "block2_conv2 False float32 <Policy \"mixed_float16\">\n",
            "block2_pool False float32 <Policy \"mixed_float16\">\n",
            "block3_conv1 False float32 <Policy \"mixed_float16\">\n",
            "block3_conv2 False float32 <Policy \"mixed_float16\">\n",
            "block3_conv3 False float32 <Policy \"mixed_float16\">\n",
            "block3_conv4 False float32 <Policy \"mixed_float16\">\n",
            "block3_pool False float32 <Policy \"mixed_float16\">\n",
            "block4_conv1 False float32 <Policy \"mixed_float16\">\n",
            "block4_conv2 False float32 <Policy \"mixed_float16\">\n",
            "block4_conv3 False float32 <Policy \"mixed_float16\">\n",
            "block4_conv4 False float32 <Policy \"mixed_float16\">\n",
            "block4_pool False float32 <Policy \"mixed_float16\">\n",
            "block5_conv1 False float32 <Policy \"mixed_float16\">\n",
            "block5_conv2 False float32 <Policy \"mixed_float16\">\n",
            "block5_conv3 False float32 <Policy \"mixed_float16\">\n"
          ]
        }
      ],
      "source": [
        "# Check the layers in the base model and see what dtype policy they're using\n",
        "for layer in model.layers[1].layers[:20]: # check only the first 20 layers to save printing space\n",
        "    print(layer.name, layer.trainable, layer.dtype, layer.dtype_policy)"
      ],
      "id": "b67712a5-53ad-44ce-be8b-efda79b67726"
    },
    {
      "cell_type": "markdown",
      "source": [
        "### Save Feature Extraction Model to Google Drive"
      ],
      "metadata": {
        "id": "kwkJyt7U-n9E"
      },
      "id": "kwkJyt7U-n9E"
    },
    {
      "cell_type": "code",
      "execution_count": null,
      "metadata": {
        "id": "c65f5b3f-27a8-44d4-a3fa-52f1055f37f2"
      },
      "outputs": [],
      "source": [
        "model.save(\"/content/drive/My Drive/Food Vision/food_vision_vgg19_feature_extraction.hdf5\")"
      ],
      "id": "c65f5b3f-27a8-44d4-a3fa-52f1055f37f2"
    },
    {
      "cell_type": "markdown",
      "metadata": {
        "id": "006eef4e-b9e6-415c-b69e-1583ffc1d1d0"
      },
      "source": [
        "And again, we can check whether or not our model saved correctly by loading it in and evaluating it."
      ],
      "id": "006eef4e-b9e6-415c-b69e-1583ffc1d1d0"
    },
    {
      "cell_type": "code",
      "execution_count": null,
      "metadata": {
        "id": "927b1e9d-ebd9-47c4-b167-83950a2bd58d"
      },
      "outputs": [],
      "source": [
        "# Load model previously saved above\n",
        "loaded_saved_model = tf.keras.models.load_model(\"/content/drive/My Drive/Food Vision/food_vision_vgg19_feature_extraction.hdf5\")"
      ],
      "id": "927b1e9d-ebd9-47c4-b167-83950a2bd58d"
    },
    {
      "cell_type": "code",
      "source": [
        "# Check loaded model performance (this should be the same as results_feature_extract_model)\n",
        "results_loaded_saved_model = loaded_saved_model.evaluate(test_data)\n",
        "results_loaded_saved_model"
      ],
      "metadata": {
        "id": "SflAF3sWgS0C",
        "colab": {
          "base_uri": "https://localhost:8080/"
        },
        "outputId": "dfe930b5-24b4-4750-98a1-d4f06cae5a43"
      },
      "id": "SflAF3sWgS0C",
      "execution_count": null,
      "outputs": [
        {
          "output_type": "stream",
          "name": "stdout",
          "text": [
            "790/790 [==============================] - 27s 34ms/step - loss: 3.1676 - accuracy: 0.3794\n"
          ]
        },
        {
          "output_type": "execute_result",
          "data": {
            "text/plain": [
              "[3.16756010055542, 0.37936633825302124]"
            ]
          },
          "metadata": {},
          "execution_count": 59
        }
      ]
    },
    {
      "cell_type": "markdown",
      "metadata": {
        "id": "359b51f5-2f97-42d8-835c-d84cef3c6966"
      },
      "source": [
        "### Preparing our model's layers for fine-tuning"
      ],
      "id": "359b51f5-2f97-42d8-835c-d84cef3c6966"
    },
    {
      "cell_type": "markdown",
      "metadata": {
        "id": "27177391-7647-46e9-bfa6-f5ebd934d524"
      },
      "source": [
        "Great, our loaded model is performing as expected.\n",
        "\n",
        "When we first created our model, we froze all of the layers in the base model by setting `base_model.trainable=False` but since we've loaded in our model from file, let's check whether or not the layers are trainable or not."
      ],
      "id": "27177391-7647-46e9-bfa6-f5ebd934d524"
    },
    {
      "cell_type": "code",
      "execution_count": null,
      "metadata": {
        "colab": {
          "base_uri": "https://localhost:8080/"
        },
        "id": "9cf5be86-4539-4e19-aef6-1ae66d50f2cb",
        "outputId": "4ae5abf6-647b-4c6c-d8e8-f21e0d68afdf"
      },
      "outputs": [
        {
          "output_type": "stream",
          "name": "stdout",
          "text": [
            "input_layer True float32 <Policy \"float32\">\n",
            "vgg19 True float32 <Policy \"mixed_float16\">\n",
            "rescaling_3 True float32 <Policy \"mixed_float16\">\n",
            "pooling_layer True float32 <Policy \"mixed_float16\">\n",
            "dense_1 True float32 <Policy \"mixed_float16\">\n",
            "softmax_float32 True float32 <Policy \"float32\">\n"
          ]
        }
      ],
      "source": [
        "# Are any of the layers in our model frozen?\n",
        "for layer in model.layers:\n",
        "    layer.trainable = True # set all layers to trainable\n",
        "    print(layer.name, layer.trainable, layer.dtype, layer.dtype_policy) # make sure loaded model is using mixed precision dtype_policy (\"mixed_float16\")"
      ],
      "id": "9cf5be86-4539-4e19-aef6-1ae66d50f2cb"
    },
    {
      "cell_type": "markdown",
      "metadata": {
        "id": "af719483-1dbc-44ba-91a1-9cf0b69c52ca"
      },
      "source": [
        "Alright, it seems like each layer in our loaded model is trainable. But what if we got a little deeper and inspected each of the layers in our base model?\n",
        "\n",
        "> 🤔 **Question:** *Which layer in the loaded model is our base model?*\n",
        "\n",
        "Before saving the Functional model to file, we created it with five layers (layers below are 0-indexed):\n",
        "0. The input layer\n",
        "1. The pre-trained base model layer ([`tf.keras.applications.efficientnet.EfficientNetB0`](https://www.tensorflow.org/api_docs/python/tf/keras/applications/efficientnet/EfficientNetB0))\n",
        "2. The pooling layer\n",
        "3. The fully-connected (dense) layer\n",
        "4. The output softmax activation (with float32 dtype)\n",
        "\n",
        "Therefore to inspect our base model layer, we can access the `layers` attribute of the layer at index 1 in our model."
      ],
      "id": "af719483-1dbc-44ba-91a1-9cf0b69c52ca"
    },
    {
      "cell_type": "code",
      "execution_count": null,
      "metadata": {
        "colab": {
          "base_uri": "https://localhost:8080/"
        },
        "id": "c767b7fb-36da-401d-afcb-c701b748e16c",
        "outputId": "afcd4a4b-79f3-4570-bd06-a8508e732176"
      },
      "outputs": [
        {
          "output_type": "stream",
          "name": "stdout",
          "text": [
            "input_3 True float32 <Policy \"float32\">\n",
            "block1_conv1 True float32 <Policy \"mixed_float16\">\n",
            "block1_conv2 True float32 <Policy \"mixed_float16\">\n",
            "block1_pool True float32 <Policy \"mixed_float16\">\n",
            "block2_conv1 True float32 <Policy \"mixed_float16\">\n",
            "block2_conv2 True float32 <Policy \"mixed_float16\">\n",
            "block2_pool True float32 <Policy \"mixed_float16\">\n",
            "block3_conv1 True float32 <Policy \"mixed_float16\">\n",
            "block3_conv2 True float32 <Policy \"mixed_float16\">\n",
            "block3_conv3 True float32 <Policy \"mixed_float16\">\n",
            "block3_conv4 True float32 <Policy \"mixed_float16\">\n",
            "block3_pool True float32 <Policy \"mixed_float16\">\n",
            "block4_conv1 True float32 <Policy \"mixed_float16\">\n",
            "block4_conv2 True float32 <Policy \"mixed_float16\">\n",
            "block4_conv3 True float32 <Policy \"mixed_float16\">\n",
            "block4_conv4 True float32 <Policy \"mixed_float16\">\n",
            "block4_pool True float32 <Policy \"mixed_float16\">\n",
            "block5_conv1 True float32 <Policy \"mixed_float16\">\n",
            "block5_conv2 True float32 <Policy \"mixed_float16\">\n",
            "block5_conv3 True float32 <Policy \"mixed_float16\">\n"
          ]
        }
      ],
      "source": [
        "# Check the layers in the base model and see what dtype policy they're using\n",
        "for layer in model.layers[1].layers[:20]:\n",
        "    print(layer.name, layer.trainable, layer.dtype, layer.dtype_policy)"
      ],
      "id": "c767b7fb-36da-401d-afcb-c701b748e16c"
    },
    {
      "cell_type": "markdown",
      "metadata": {
        "id": "9a41092a-c1fc-4aad-aa95-5f4ec45346c2"
      },
      "source": [
        "Wonderful, it looks like each layer in our base model is trainable (unfrozen) and every layer which should be using the dtype policy `\"mixed_policy16\"` is using it.\n",
        "\n",
        "Since we've got so much data (750 images x 101 training classes = 75750 training images), let's keep all of our base model's layers unfrozen.\n",
        "\n",
        "> 🔑 **Note:** If you've got a small amount of data (less than 100 images per class), you may want to only unfreeze and fine-tune a small number of layers in the base model at a time. Otherwise, you risk overfitting."
      ],
      "id": "9a41092a-c1fc-4aad-aa95-5f4ec45346c2"
    },
    {
      "cell_type": "code",
      "execution_count": null,
      "metadata": {
        "id": "e8fffadf-49f9-447c-ac44-ad59f5e07e25"
      },
      "outputs": [],
      "source": [
        "# Compile the model\n",
        "model.compile(loss=\"sparse_categorical_crossentropy\", # sparse_categorical_crossentropy for labels that are *not* one-hot\n",
        "                        optimizer=tf.keras.optimizers.Adam(0.0001), # 10x lower learning rate than the default\n",
        "                        metrics=[\"accuracy\"])"
      ],
      "id": "e8fffadf-49f9-447c-ac44-ad59f5e07e25"
    },
    {
      "cell_type": "markdown",
      "metadata": {
        "id": "7fd557de-314b-4627-a0fd-f50e0bdb7ee7"
      },
      "source": [
        "Okay, model compiled.\n",
        "\n",
        "Now let's fit it on all of the data.\n",
        "\n",
        "We'll set it up to run for up to 100 epochs.\n",
        "\n",
        "Since we're going to be using the `EarlyStopping` callback, it might stop before reaching 100 epochs.\n",
        "\n",
        "> 🔑 **Note:** Running the cell below will set the model up to fine-tune all of the pre-trained weights in the base model on all of the Food101 data. Doing so with **unoptimized** data pipelines and **without** mixed precision training will take a fairly long time per epoch depending on what type of GPU you're using (about 15-20 minutes on Colab GPUs). But don't worry, **the code we've written above will ensure it runs much faster** (more like 4-5 minutes per epoch)."
      ],
      "id": "7fd557de-314b-4627-a0fd-f50e0bdb7ee7"
    },
    {
      "cell_type": "markdown",
      "source": [
        "### Fit the fine tuning model"
      ],
      "metadata": {
        "id": "tqX2_xyYY51K"
      },
      "id": "tqX2_xyYY51K"
    },
    {
      "cell_type": "code",
      "execution_count": null,
      "metadata": {
        "colab": {
          "base_uri": "https://localhost:8080/"
        },
        "id": "514dc1e0-0899-4831-9442-d007a8f4782b",
        "outputId": "73e12864-7917-446e-b694-263309564479"
      },
      "outputs": [
        {
          "output_type": "stream",
          "name": "stdout",
          "text": [
            "Saving TensorBoard log files to: training_logs/vgg19_fine_tuning/20230717-105233\n",
            "Epoch 1/100\n",
            "2368/2368 [==============================] - ETA: 0s - loss: 2.3515 - accuracy: 0.4325"
          ]
        },
        {
          "output_type": "stream",
          "name": "stderr",
          "text": [
            "WARNING:absl:Found untraced functions such as _update_step_xla, _jit_compiled_convolution_op, _jit_compiled_convolution_op, _jit_compiled_convolution_op, _jit_compiled_convolution_op while saving (showing 5 of 17). These functions will not be directly callable after loading.\n"
          ]
        },
        {
          "output_type": "stream",
          "name": "stdout",
          "text": [
            "\b\b\b\b\b\b\b\b\b\b\b\b\b\b\b\b\b\b\b\b\b\b\b\b\b\b\b\b\b\b\b\b\b\b\b\b\b\b\b\b\b\b\b\b\b\b\b\b\b\b\b\b\b\b\b\b\b\b\b\b\b\b\b\b\b\b\b\b\b\b\b\b\b\b\b\b\b\b\b\b\b\b\b\b\b\b\r2368/2368 [==============================] - 224s 91ms/step - loss: 2.3515 - accuracy: 0.4325 - val_loss: 1.8142 - val_accuracy: 0.5355 - lr: 1.0000e-04\n",
            "Epoch 2/100\n",
            "2367/2368 [============================>.] - ETA: 0s - loss: 1.6675 - accuracy: 0.5805"
          ]
        },
        {
          "output_type": "stream",
          "name": "stderr",
          "text": [
            "WARNING:absl:Found untraced functions such as _update_step_xla, _jit_compiled_convolution_op, _jit_compiled_convolution_op, _jit_compiled_convolution_op, _jit_compiled_convolution_op while saving (showing 5 of 17). These functions will not be directly callable after loading.\n"
          ]
        },
        {
          "output_type": "stream",
          "name": "stdout",
          "text": [
            "\b\b\b\b\b\b\b\b\b\b\b\b\b\b\b\b\b\b\b\b\b\b\b\b\b\b\b\b\b\b\b\b\b\b\b\b\b\b\b\b\b\b\b\b\b\b\b\b\b\b\b\b\b\b\b\b\b\b\b\b\b\b\b\b\b\b\b\b\b\b\b\b\b\b\b\b\b\b\b\b\b\b\b\b\b\b\r2368/2368 [==============================] - 217s 91ms/step - loss: 1.6674 - accuracy: 0.5805 - val_loss: 1.4149 - val_accuracy: 0.6348 - lr: 1.0000e-04\n",
            "Epoch 3/100\n",
            "2367/2368 [============================>.] - ETA: 0s - loss: 1.3230 - accuracy: 0.6552"
          ]
        },
        {
          "output_type": "stream",
          "name": "stderr",
          "text": [
            "WARNING:absl:Found untraced functions such as _update_step_xla, _jit_compiled_convolution_op, _jit_compiled_convolution_op, _jit_compiled_convolution_op, _jit_compiled_convolution_op while saving (showing 5 of 17). These functions will not be directly callable after loading.\n"
          ]
        },
        {
          "output_type": "stream",
          "name": "stdout",
          "text": [
            "\b\b\b\b\b\b\b\b\b\b\b\b\b\b\b\b\b\b\b\b\b\b\b\b\b\b\b\b\b\b\b\b\b\b\b\b\b\b\b\b\b\b\b\b\b\b\b\b\b\b\b\b\b\b\b\b\b\b\b\b\b\b\b\b\b\b\b\b\b\b\b\b\b\b\b\b\b\b\b\b\b\b\b\b\b\b\r2368/2368 [==============================] - 218s 91ms/step - loss: 1.3231 - accuracy: 0.6552 - val_loss: 1.2660 - val_accuracy: 0.6576 - lr: 1.0000e-04\n",
            "Epoch 4/100\n",
            "2367/2368 [============================>.] - ETA: 0s - loss: 1.0421 - accuracy: 0.7190"
          ]
        },
        {
          "output_type": "stream",
          "name": "stderr",
          "text": [
            "WARNING:absl:Found untraced functions such as _update_step_xla, _jit_compiled_convolution_op, _jit_compiled_convolution_op, _jit_compiled_convolution_op, _jit_compiled_convolution_op while saving (showing 5 of 17). These functions will not be directly callable after loading.\n"
          ]
        },
        {
          "output_type": "stream",
          "name": "stdout",
          "text": [
            "\b\b\b\b\b\b\b\b\b\b\b\b\b\b\b\b\b\b\b\b\b\b\b\b\b\b\b\b\b\b\b\b\b\b\b\b\b\b\b\b\b\b\b\b\b\b\b\b\b\b\b\b\b\b\b\b\b\b\b\b\b\b\b\b\b\b\b\b\b\b\b\b\b\b\b\b\b\b\b\b\b\b\b\b\b\b\r2368/2368 [==============================] - 217s 91ms/step - loss: 1.0423 - accuracy: 0.7190 - val_loss: 1.1715 - val_accuracy: 0.6931 - lr: 1.0000e-04\n",
            "Epoch 5/100\n",
            "2368/2368 [==============================] - 212s 89ms/step - loss: 0.7932 - accuracy: 0.7790 - val_loss: 1.2017 - val_accuracy: 0.6899 - lr: 1.0000e-04\n",
            "Epoch 6/100\n",
            "2367/2368 [============================>.] - ETA: 0s - loss: 1.1391 - accuracy: 0.8259\n",
            "Epoch 6: ReduceLROnPlateau reducing learning rate to 1.9999999494757503e-05.\n",
            "2368/2368 [==============================] - 211s 89ms/step - loss: 1.1391 - accuracy: 0.8259 - val_loss: 1.3110 - val_accuracy: 0.6663 - lr: 1.0000e-04\n",
            "Epoch 7/100\n",
            "2368/2368 [==============================] - 209s 88ms/step - loss: 3.8030 - accuracy: 0.9511 - val_loss: 1.2980 - val_accuracy: 0.7447 - lr: 2.0000e-05\n",
            "Epoch 8/100\n",
            "2367/2368 [============================>.] - ETA: 0s - loss: 2.0916 - accuracy: 0.9805\n",
            "Epoch 8: ReduceLROnPlateau reducing learning rate to 3.999999898951501e-06.\n",
            "2368/2368 [==============================] - 209s 88ms/step - loss: 2.0915 - accuracy: 0.9805 - val_loss: 1.3845 - val_accuracy: 0.7428 - lr: 2.0000e-05\n",
            "Epoch 9/100\n",
            "2368/2368 [==============================] - 207s 87ms/step - loss: 1.4108 - accuracy: 0.9957 - val_loss: 1.6029 - val_accuracy: 0.7550 - lr: 4.0000e-06\n",
            "Epoch 10/100\n",
            "2367/2368 [============================>.] - ETA: 0s - loss: 1.3993 - accuracy: 0.9981\n",
            "Epoch 10: ReduceLROnPlateau reducing learning rate to 7.999999979801942e-07.\n",
            "2368/2368 [==============================] - 207s 87ms/step - loss: 1.3992 - accuracy: 0.9981 - val_loss: 1.7311 - val_accuracy: 0.7526 - lr: 4.0000e-06\n",
            "Epoch 11/100\n",
            "2368/2368 [==============================] - 208s 87ms/step - loss: 1.3923 - accuracy: 0.9992 - val_loss: 1.8188 - val_accuracy: 0.7526 - lr: 8.0000e-07\n",
            "Epoch 12/100\n",
            "2367/2368 [============================>.] - ETA: 0s - loss: 1.3906 - accuracy: 0.9993\n",
            "Epoch 12: ReduceLROnPlateau reducing learning rate to 1.600000018697756e-07.\n",
            "2368/2368 [==============================] - 207s 87ms/step - loss: 1.3905 - accuracy: 0.9993 - val_loss: 1.9049 - val_accuracy: 0.7511 - lr: 8.0000e-07\n"
          ]
        }
      ],
      "source": [
        "# Start to fine-tune (all layers)\n",
        "history_vgg19_fine_tuning = model.fit(train_data,\n",
        "                                      epochs=100, # fine-tune for a maximum of 100 epochs\n",
        "                                      steps_per_epoch=len(train_data),\n",
        "                                      validation_data=test_data,\n",
        "                                      validation_steps=int(0.15 * len(test_data)), # validation during training on 15% of test data\n",
        "                                      callbacks=[create_tensorboard_callback(\"training_logs\", \"vgg19_fine_tuning\"), # track the model training logs\n",
        "                                      model_checkpoint, # save only the best model during training\n",
        "                                      early_stopping, # stop model after X epochs of no improvements\n",
        "                                      reduce_lr]) # reduce the learning rate after X epochs of no improvements"
      ],
      "id": "514dc1e0-0899-4831-9442-d007a8f4782b"
    },
    {
      "cell_type": "markdown",
      "source": [
        "### Save Fine Tuned Model to Google Drive"
      ],
      "metadata": {
        "id": "ftCqs3yjjLda"
      },
      "id": "ftCqs3yjjLda"
    },
    {
      "cell_type": "code",
      "execution_count": null,
      "metadata": {
        "id": "578aea68-5351-4fea-a4b4-eeedb511c71b"
      },
      "outputs": [],
      "source": [
        "model.save(\"/content/drive/My Drive/Food Vision/food_vision_vgg19_fine_tuned.hdf5\")"
      ],
      "id": "578aea68-5351-4fea-a4b4-eeedb511c71b"
    },
    {
      "cell_type": "markdown",
      "metadata": {
        "id": "584eb626-33ea-489e-be8a-ba8517035688"
      },
      "source": [
        "Now we can load it using the [`tf.keras.models.load_model()`](https://www.tensorflow.org/tutorials/keras/save_and_load) method and get a summary (it should be the exact same as the model we created above)."
      ],
      "id": "584eb626-33ea-489e-be8a-ba8517035688"
    },
    {
      "cell_type": "code",
      "execution_count": null,
      "metadata": {
        "id": "1c0f85d6-3613-48bf-8ce1-fb6b58865545"
      },
      "outputs": [],
      "source": [
        "# Load in fine-tuned model from Google Storage and evaluate\n",
        "loaded_fine_tuned_model = tf.keras.models.load_model(\"/content/drive/My Drive/Food Vision/food_vision_vgg19_fine_tuned.hdf5\")"
      ],
      "id": "1c0f85d6-3613-48bf-8ce1-fb6b58865545"
    },
    {
      "cell_type": "code",
      "execution_count": null,
      "metadata": {
        "colab": {
          "base_uri": "https://localhost:8080/"
        },
        "id": "861798eb-0a34-4d91-ae7a-0b0b78561fdf",
        "outputId": "59b94107-5a7f-4c1e-e5ab-85c88b5c6270"
      },
      "outputs": [
        {
          "output_type": "stream",
          "name": "stdout",
          "text": [
            "Model: \"model_1\"\n",
            "_________________________________________________________________\n",
            " Layer (type)                Output Shape              Param #   \n",
            "=================================================================\n",
            " input_layer (InputLayer)    [(None, 224, 224, 3)]     0         \n",
            "                                                                 \n",
            " vgg19 (Functional)          (None, None, None, 512)   20024384  \n",
            "                                                                 \n",
            " rescaling_3 (Rescaling)     (None, 7, 7, 512)         0         \n",
            "                                                                 \n",
            " pooling_layer (GlobalAverag  (None, 512)              0         \n",
            " ePooling2D)                                                     \n",
            "                                                                 \n",
            " dense_1 (Dense)             (None, 101)               51813     \n",
            "                                                                 \n",
            " softmax_float32 (Activation  (None, 101)              0         \n",
            " )                                                               \n",
            "                                                                 \n",
            "=================================================================\n",
            "Total params: 20,076,197\n",
            "Trainable params: 20,076,197\n",
            "Non-trainable params: 0\n",
            "_________________________________________________________________\n"
          ]
        }
      ],
      "source": [
        "# Get a model summary (same model architecture as above)\n",
        "loaded_fine_tuned_model.summary()"
      ],
      "id": "861798eb-0a34-4d91-ae7a-0b0b78561fdf"
    },
    {
      "cell_type": "markdown",
      "metadata": {
        "id": "235fa9a8-ba2e-484e-aad2-dc2c00855934"
      },
      "source": [
        "Finally, we can evaluate our model on the test data (this requires the `test_data` variable to be loaded."
      ],
      "id": "235fa9a8-ba2e-484e-aad2-dc2c00855934"
    },
    {
      "cell_type": "code",
      "execution_count": null,
      "metadata": {
        "colab": {
          "base_uri": "https://localhost:8080/"
        },
        "id": "2276cadc-c4b2-4e9a-b7b6-15746ea6eb20",
        "outputId": "8962f09d-c33a-405a-a145-452e716fbbbe"
      },
      "outputs": [
        {
          "output_type": "stream",
          "name": "stdout",
          "text": [
            "790/790 [==============================] - 27s 33ms/step - loss: 2.9397 - accuracy: 0.7457\n"
          ]
        },
        {
          "output_type": "execute_result",
          "data": {
            "text/plain": [
              "[2.9397265911102295, 0.7456633448600769]"
            ]
          },
          "metadata": {},
          "execution_count": 67
        }
      ],
      "source": [
        "# Note: Even if you're loading in the model from Google Storage, you will still need to load the test_data variable for this cell to work\n",
        "results_downloaded_fine_tuned_model = loaded_fine_tuned_model.evaluate(test_data)\n",
        "results_downloaded_fine_tuned_model"
      ],
      "id": "2276cadc-c4b2-4e9a-b7b6-15746ea6eb20"
    },
    {
      "cell_type": "markdown",
      "metadata": {
        "id": "92419d08-3803-43bd-b588-9359e4a720d9"
      },
      "source": [
        "Excellent! Our saved model is performing as expected (better results than the DeepFood paper!).\n",
        "\n",
        "Congrautlations! You should be excited! You just trained a computer vision model with competitive performance to a research paper and in far less time (our model took ~20 minutes to train versus DeepFood's quoted 2-3 days).\n",
        "\n",
        "In other words, you brought Food Vision life!\n",
        "\n",
        "If you really wanted to step things up, you could try using the [`EfficientNetB4`](https://www.tensorflow.org/api_docs/python/tf/keras/applications/EfficientNetB4) model (a larger version of `EfficientNetB0`). At at the time of writing, the EfficientNet family has the [state of the art classification results](https://paperswithcode.com/sota/fine-grained-image-classification-on-food-101) on the Food101 dataset.\n",
        "\n",
        "> 📖 **Resource:** To see which models are currently performing the best on a given dataset or problem type as well as the latest trending machine learning research, be sure to check out [paperswithcode.com](http://paperswithcode.com/) and [sotabench.com](https://sotabench.com/)."
      ],
      "id": "92419d08-3803-43bd-b588-9359e4a720d9"
    },
    {
      "cell_type": "markdown",
      "source": [
        "## Base Model - EfficientNetB4"
      ],
      "metadata": {
        "id": "PT4T8jjKOGX2"
      },
      "id": "PT4T8jjKOGX2"
    },
    {
      "cell_type": "code",
      "source": [
        "from tensorflow.keras import layers\n",
        "\n",
        "# Create base model\n",
        "input_shape = (224, 224, 3)\n",
        "base_model = tf.keras.applications.EfficientNetB4(include_top=False)\n",
        "base_model.trainable = False # freeze base model layers\n",
        "\n",
        "# Create Functional model\n",
        "inputs = layers.Input(shape=input_shape, name=\"input_layer\")\n",
        "# Note: EfficientNetBX models have rescaling built-in but if your model didn't you could have a layer like below\n",
        "# x = layers.Rescaling(1./255)(x)\n",
        "x = data_augmentation(inputs)\n",
        "x = base_model(inputs, training=False) # set base_model to inference mode only\n",
        "x = layers.GlobalAveragePooling2D(name=\"pooling_layer\")(x)\n",
        "x = layers.Dense(len(class_names))(x) # want one output neuron per class\n",
        "# Separate activation of output layer so we can output float32 activations\n",
        "outputs = layers.Activation(\"softmax\", dtype=tf.float32, name=\"softmax_float32\")(x)\n",
        "model = tf.keras.Model(inputs, outputs)\n",
        "\n",
        "# Compile the model\n",
        "model.compile(loss=\"sparse_categorical_crossentropy\", # Use sparse_categorical_crossentropy when labels are *not* one-hot\n",
        "              optimizer=tf.keras.optimizers.Adam(),\n",
        "              metrics=[\"accuracy\"])"
      ],
      "metadata": {
        "id": "HiApi8bVOGLl",
        "colab": {
          "base_uri": "https://localhost:8080/"
        },
        "outputId": "0a7bb02a-4df9-4a91-cb17-8d7eee5e4a0c"
      },
      "id": "HiApi8bVOGLl",
      "execution_count": null,
      "outputs": [
        {
          "output_type": "stream",
          "name": "stdout",
          "text": [
            "Downloading data from https://storage.googleapis.com/keras-applications/efficientnetb4_notop.h5\n",
            "71686520/71686520 [==============================] - 0s 0us/step\n"
          ]
        }
      ]
    },
    {
      "cell_type": "code",
      "source": [
        "# Check out our model\n",
        "model.summary()"
      ],
      "metadata": {
        "id": "cMb1jJaFOF9f",
        "colab": {
          "base_uri": "https://localhost:8080/"
        },
        "outputId": "d089e385-47e7-43c5-9805-1a79850a224e"
      },
      "id": "cMb1jJaFOF9f",
      "execution_count": null,
      "outputs": [
        {
          "output_type": "stream",
          "name": "stdout",
          "text": [
            "Model: \"model\"\n",
            "_________________________________________________________________\n",
            " Layer (type)                Output Shape              Param #   \n",
            "=================================================================\n",
            " input_layer (InputLayer)    [(None, 224, 224, 3)]     0         \n",
            "                                                                 \n",
            " efficientnetb4 (Functional  (None, None, None, 1792   17673823  \n",
            " )                           )                                   \n",
            "                                                                 \n",
            " pooling_layer (GlobalAvera  (None, 1792)              0         \n",
            " gePooling2D)                                                    \n",
            "                                                                 \n",
            " dense (Dense)               (None, 101)               181093    \n",
            "                                                                 \n",
            " softmax_float32 (Activatio  (None, 101)               0         \n",
            " n)                                                              \n",
            "                                                                 \n",
            "=================================================================\n",
            "Total params: 17854916 (68.11 MB)\n",
            "Trainable params: 181093 (707.39 KB)\n",
            "Non-trainable params: 17673823 (67.42 MB)\n",
            "_________________________________________________________________\n"
          ]
        }
      ]
    },
    {
      "cell_type": "code",
      "source": [
        "# Check the dtype_policy attributes of layers in our model\n",
        "for layer in model.layers:\n",
        "    print(layer.name, layer.trainable, layer.dtype, layer.dtype_policy) # Check the dtype policy of layers"
      ],
      "metadata": {
        "id": "3YNbXDz6OFxn",
        "colab": {
          "base_uri": "https://localhost:8080/"
        },
        "outputId": "b2c480aa-dbac-4a8f-a299-6da6edcaf968"
      },
      "id": "3YNbXDz6OFxn",
      "execution_count": null,
      "outputs": [
        {
          "output_type": "stream",
          "name": "stdout",
          "text": [
            "input_layer True float32 <Policy \"float32\">\n",
            "efficientnetb4 False float32 <Policy \"mixed_float16\">\n",
            "pooling_layer True float32 <Policy \"mixed_float16\">\n",
            "dense True float32 <Policy \"mixed_float16\">\n",
            "softmax_float32 True float32 <Policy \"float32\">\n"
          ]
        }
      ]
    },
    {
      "cell_type": "code",
      "source": [
        "# Check the layers in the base model and see what dtype policy they're using\n",
        "for layer in model.layers[1].layers[:20]: # only check the first 20 layers to save output space\n",
        "    print(layer.name, layer.trainable, layer.dtype, layer.dtype_policy)"
      ],
      "metadata": {
        "id": "EmAxela3OFmF",
        "colab": {
          "base_uri": "https://localhost:8080/"
        },
        "outputId": "8fb911a2-aee3-4d4c-d345-86f14fddadd5"
      },
      "id": "EmAxela3OFmF",
      "execution_count": null,
      "outputs": [
        {
          "output_type": "stream",
          "name": "stdout",
          "text": [
            "input_1 False float32 <Policy \"float32\">\n",
            "rescaling_1 False float32 <Policy \"mixed_float16\">\n",
            "normalization False float32 <Policy \"mixed_float16\">\n",
            "rescaling_2 False float32 <Policy \"mixed_float16\">\n",
            "stem_conv_pad False float32 <Policy \"mixed_float16\">\n",
            "stem_conv False float32 <Policy \"mixed_float16\">\n",
            "stem_bn False float32 <Policy \"mixed_float16\">\n",
            "stem_activation False float32 <Policy \"mixed_float16\">\n",
            "block1a_dwconv False float32 <Policy \"mixed_float16\">\n",
            "block1a_bn False float32 <Policy \"mixed_float16\">\n",
            "block1a_activation False float32 <Policy \"mixed_float16\">\n",
            "block1a_se_squeeze False float32 <Policy \"mixed_float16\">\n",
            "block1a_se_reshape False float32 <Policy \"mixed_float16\">\n",
            "block1a_se_reduce False float32 <Policy \"mixed_float16\">\n",
            "block1a_se_expand False float32 <Policy \"mixed_float16\">\n",
            "block1a_se_excite False float32 <Policy \"mixed_float16\">\n",
            "block1a_project_conv False float32 <Policy \"mixed_float16\">\n",
            "block1a_project_bn False float32 <Policy \"mixed_float16\">\n",
            "block1b_dwconv False float32 <Policy \"mixed_float16\">\n",
            "block1b_bn False float32 <Policy \"mixed_float16\">\n"
          ]
        }
      ]
    },
    {
      "cell_type": "markdown",
      "source": [
        "### Fit the feature Extraction Model"
      ],
      "metadata": {
        "id": "qsk9NQmpAglV"
      },
      "id": "qsk9NQmpAglV"
    },
    {
      "cell_type": "code",
      "source": [
        "# Turn off all warnings except for errors\n",
        "tf.get_logger().setLevel('ERROR')\n",
        "\n",
        "# Fit the model with callbacks\n",
        "history_efficientnetb4 = model.fit(train_data,\n",
        "                                   epochs=5,\n",
        "                                   steps_per_epoch=len(train_data),\n",
        "                                   validation_data=test_data,\n",
        "                                   validation_steps=int(0.15 * len(test_data)),\n",
        "                                   callbacks=[create_tensorboard_callback(\"training_logs\",\n",
        "                                   \"efficientnetb4_feature_extract\"),\n",
        "                                    model_checkpoint])"
      ],
      "metadata": {
        "id": "mVdOaUJyOFYM",
        "colab": {
          "base_uri": "https://localhost:8080/"
        },
        "outputId": "ed1188bf-5879-4ec7-f89f-a314ca3264eb"
      },
      "id": "mVdOaUJyOFYM",
      "execution_count": null,
      "outputs": [
        {
          "output_type": "stream",
          "name": "stdout",
          "text": [
            "Saving TensorBoard log files to: training_logs/efficientnetb4_feature_extract/20230717-170416\n",
            "Epoch 1/5\n",
            "2368/2368 [==============================] - 191s 71ms/step - loss: 1.7894 - accuracy: 0.5569 - val_loss: 1.2643 - val_accuracy: 0.6594\n",
            "Epoch 2/5\n",
            "2368/2368 [==============================] - 165s 69ms/step - loss: 1.3085 - accuracy: 0.6582 - val_loss: 1.1508 - val_accuracy: 0.6901\n",
            "Epoch 3/5\n",
            "2368/2368 [==============================] - 167s 70ms/step - loss: 1.1625 - accuracy: 0.6937 - val_loss: 1.1294 - val_accuracy: 0.7005\n",
            "Epoch 4/5\n",
            "2368/2368 [==============================] - 165s 69ms/step - loss: 1.0635 - accuracy: 0.7181 - val_loss: 1.0925 - val_accuracy: 0.7087\n",
            "Epoch 5/5\n",
            "2368/2368 [==============================] - 169s 71ms/step - loss: 0.9891 - accuracy: 0.7362 - val_loss: 1.0890 - val_accuracy: 0.6992\n"
          ]
        }
      ]
    },
    {
      "cell_type": "code",
      "source": [
        "# Evaluate model (unsaved version) on whole test dataset\n",
        "results_feature_extract_efficientnetb4 = model.evaluate(test_data)\n",
        "results_feature_extract_efficientnetb4"
      ],
      "metadata": {
        "id": "kva0iu-zOE-b",
        "colab": {
          "base_uri": "https://localhost:8080/"
        },
        "outputId": "5a136a5e-9ac9-44f6-a036-4a8c9f21fc70"
      },
      "id": "kva0iu-zOE-b",
      "execution_count": null,
      "outputs": [
        {
          "output_type": "stream",
          "name": "stdout",
          "text": [
            "790/790 [==============================] - 31s 39ms/step - loss: 1.0852 - accuracy: 0.7036\n"
          ]
        },
        {
          "output_type": "execute_result",
          "data": {
            "text/plain": [
              "[1.0852420330047607, 0.7036435604095459]"
            ]
          },
          "metadata": {},
          "execution_count": 33
        }
      ]
    },
    {
      "cell_type": "code",
      "source": [
        "# Check the layers in the base model and see what dtype policy they're using\n",
        "for layer in model.layers[1].layers[:20]: # check only the first 20 layers to save printing space\n",
        "    print(layer.name, layer.trainable, layer.dtype, layer.dtype_policy)"
      ],
      "metadata": {
        "id": "GtUrifcjOEFM",
        "colab": {
          "base_uri": "https://localhost:8080/"
        },
        "outputId": "25f51d2b-030d-4354-f149-f4d831d13808"
      },
      "id": "GtUrifcjOEFM",
      "execution_count": null,
      "outputs": [
        {
          "output_type": "stream",
          "name": "stdout",
          "text": [
            "input_1 False float32 <Policy \"float32\">\n",
            "rescaling_1 False float32 <Policy \"mixed_float16\">\n",
            "normalization False float32 <Policy \"mixed_float16\">\n",
            "rescaling_2 False float32 <Policy \"mixed_float16\">\n",
            "stem_conv_pad False float32 <Policy \"mixed_float16\">\n",
            "stem_conv False float32 <Policy \"mixed_float16\">\n",
            "stem_bn False float32 <Policy \"mixed_float16\">\n",
            "stem_activation False float32 <Policy \"mixed_float16\">\n",
            "block1a_dwconv False float32 <Policy \"mixed_float16\">\n",
            "block1a_bn False float32 <Policy \"mixed_float16\">\n",
            "block1a_activation False float32 <Policy \"mixed_float16\">\n",
            "block1a_se_squeeze False float32 <Policy \"mixed_float16\">\n",
            "block1a_se_reshape False float32 <Policy \"mixed_float16\">\n",
            "block1a_se_reduce False float32 <Policy \"mixed_float16\">\n",
            "block1a_se_expand False float32 <Policy \"mixed_float16\">\n",
            "block1a_se_excite False float32 <Policy \"mixed_float16\">\n",
            "block1a_project_conv False float32 <Policy \"mixed_float16\">\n",
            "block1a_project_bn False float32 <Policy \"mixed_float16\">\n",
            "block1b_dwconv False float32 <Policy \"mixed_float16\">\n",
            "block1b_bn False float32 <Policy \"mixed_float16\">\n"
          ]
        }
      ]
    },
    {
      "cell_type": "markdown",
      "source": [
        "### Save Feature Extraction Model to Google Drive"
      ],
      "metadata": {
        "id": "Ehher658BDQy"
      },
      "id": "Ehher658BDQy"
    },
    {
      "cell_type": "code",
      "source": [
        "model.save(\"/content/drive/My Drive/Food Vision/food_vision_efficientnetb4_feature_extraction.hdf5\")"
      ],
      "metadata": {
        "id": "QI2I6OfJ8tOF",
        "colab": {
          "base_uri": "https://localhost:8080/"
        },
        "outputId": "04f574f7-d469-4729-ab58-ea6ed6ac7deb"
      },
      "id": "QI2I6OfJ8tOF",
      "execution_count": null,
      "outputs": [
        {
          "output_type": "stream",
          "name": "stderr",
          "text": [
            "/usr/local/lib/python3.10/dist-packages/keras/src/engine/training.py:3078: UserWarning: You are saving your model as an HDF5 file via `model.save()`. This file format is considered legacy. We recommend using instead the native Keras format, e.g. `model.save('my_model.keras')`.\n",
            "  saving_api.save_model(\n"
          ]
        }
      ]
    },
    {
      "cell_type": "code",
      "source": [
        "# Load model previously saved above\n",
        "loaded_saved_model = tf.keras.models.load_model(\"/content/drive/My Drive/Food Vision/food_vision_efficientnetb4_feature_extraction.hdf5\")"
      ],
      "metadata": {
        "id": "QHMCy1kb8tbl"
      },
      "id": "QHMCy1kb8tbl",
      "execution_count": null,
      "outputs": []
    },
    {
      "cell_type": "code",
      "source": [
        "# Check loaded model performance (this should be the same as results_feature_extract_model)\n",
        "results_loaded_saved_model = loaded_saved_model.evaluate(test_data)\n",
        "results_loaded_saved_model"
      ],
      "metadata": {
        "id": "Ow5VgS8i8tlL",
        "colab": {
          "base_uri": "https://localhost:8080/"
        },
        "outputId": "552ca2fc-8499-4dfe-b83c-031e47c67947"
      },
      "id": "Ow5VgS8i8tlL",
      "execution_count": null,
      "outputs": [
        {
          "output_type": "stream",
          "name": "stdout",
          "text": [
            "790/790 [==============================] - 36s 41ms/step - loss: 1.0852 - accuracy: 0.7036\n"
          ]
        },
        {
          "output_type": "execute_result",
          "data": {
            "text/plain": [
              "[1.0852423906326294, 0.7036435604095459]"
            ]
          },
          "metadata": {},
          "execution_count": 38
        }
      ]
    },
    {
      "cell_type": "markdown",
      "source": [
        "### Preparing our model's layers for fine-tuning"
      ],
      "metadata": {
        "id": "aQZStxb9BxLx"
      },
      "id": "aQZStxb9BxLx"
    },
    {
      "cell_type": "code",
      "source": [
        "# Are any of the layers in our model frozen?\n",
        "for layer in model.layers:\n",
        "    layer.trainable = True # set all layers to trainable\n",
        "    print(layer.name, layer.trainable, layer.dtype, layer.dtype_policy) # make sure loaded model is using mixed precision dtype_policy (\"mixed_float16\")"
      ],
      "metadata": {
        "id": "klmW9nXc8ttG",
        "colab": {
          "base_uri": "https://localhost:8080/"
        },
        "outputId": "ff49d54f-5f91-418e-b32e-32020b7cb680"
      },
      "id": "klmW9nXc8ttG",
      "execution_count": null,
      "outputs": [
        {
          "output_type": "stream",
          "name": "stdout",
          "text": [
            "input_layer True float32 <Policy \"float32\">\n",
            "efficientnetb4 True float32 <Policy \"mixed_float16\">\n",
            "pooling_layer True float32 <Policy \"mixed_float16\">\n",
            "dense True float32 <Policy \"mixed_float16\">\n",
            "softmax_float32 True float32 <Policy \"float32\">\n"
          ]
        }
      ]
    },
    {
      "cell_type": "code",
      "source": [
        "# Check the layers in the base model and see what dtype policy they're using\n",
        "for layer in model.layers[1].layers[:20]:\n",
        "    print(layer.name, layer.trainable, layer.dtype, layer.dtype_policy)"
      ],
      "metadata": {
        "id": "3R18GLuj8t2H",
        "colab": {
          "base_uri": "https://localhost:8080/"
        },
        "outputId": "7e951330-d46a-4c07-f38d-4206ad76442a"
      },
      "id": "3R18GLuj8t2H",
      "execution_count": null,
      "outputs": [
        {
          "output_type": "stream",
          "name": "stdout",
          "text": [
            "input_1 True float32 <Policy \"float32\">\n",
            "rescaling_1 True float32 <Policy \"mixed_float16\">\n",
            "normalization True float32 <Policy \"mixed_float16\">\n",
            "rescaling_2 True float32 <Policy \"mixed_float16\">\n",
            "stem_conv_pad True float32 <Policy \"mixed_float16\">\n",
            "stem_conv True float32 <Policy \"mixed_float16\">\n",
            "stem_bn True float32 <Policy \"mixed_float16\">\n",
            "stem_activation True float32 <Policy \"mixed_float16\">\n",
            "block1a_dwconv True float32 <Policy \"mixed_float16\">\n",
            "block1a_bn True float32 <Policy \"mixed_float16\">\n",
            "block1a_activation True float32 <Policy \"mixed_float16\">\n",
            "block1a_se_squeeze True float32 <Policy \"mixed_float16\">\n",
            "block1a_se_reshape True float32 <Policy \"mixed_float16\">\n",
            "block1a_se_reduce True float32 <Policy \"mixed_float16\">\n",
            "block1a_se_expand True float32 <Policy \"mixed_float16\">\n",
            "block1a_se_excite True float32 <Policy \"mixed_float16\">\n",
            "block1a_project_conv True float32 <Policy \"mixed_float16\">\n",
            "block1a_project_bn True float32 <Policy \"mixed_float16\">\n",
            "block1b_dwconv True float32 <Policy \"mixed_float16\">\n",
            "block1b_bn True float32 <Policy \"mixed_float16\">\n"
          ]
        }
      ]
    },
    {
      "cell_type": "code",
      "source": [
        "# Compile the model\n",
        "model.compile(loss=\"sparse_categorical_crossentropy\", # sparse_categorical_crossentropy for labels that are *not* one-hot\n",
        "                        optimizer=tf.keras.optimizers.Adam(0.0001), # 10x lower learning rate than the default\n",
        "                        metrics=[\"accuracy\"])"
      ],
      "metadata": {
        "id": "k7Ic1n0Y9Edj"
      },
      "id": "k7Ic1n0Y9Edj",
      "execution_count": null,
      "outputs": []
    },
    {
      "cell_type": "markdown",
      "source": [
        "### Fit the fine tuning model"
      ],
      "metadata": {
        "id": "RrL0hUEEC7_e"
      },
      "id": "RrL0hUEEC7_e"
    },
    {
      "cell_type": "code",
      "source": [
        "# Start to fine-tune (all layers)\n",
        "history_efficientnetb4_fine_tuning = model.fit(train_data,\n",
        "                                               epochs=100, # fine-tune for a maximum of 100 epochs\n",
        "                                               steps_per_epoch=len(train_data),\n",
        "                                               validation_data=test_data,\n",
        "                                               validation_steps=int(0.15 * len(test_data)), # validation during training on 15% of test data\n",
        "                                               callbacks=[create_tensorboard_callback(\"training_logs\", \"efficientnetb4_fine_tuning\"), # track the model training logs\n",
        "                                               model_checkpoint, # save only the best model during training\n",
        "                                               early_stopping, # stop model after X epochs of no improvements\n",
        "                                               reduce_lr]) # reduce the learning rate after X epochs of no improvements"
      ],
      "metadata": {
        "id": "BM8_5VoS9FNv",
        "colab": {
          "base_uri": "https://localhost:8080/"
        },
        "outputId": "abb0ab05-0966-4f91-ecdc-f6c98cd197a2"
      },
      "id": "BM8_5VoS9FNv",
      "execution_count": null,
      "outputs": [
        {
          "output_type": "stream",
          "name": "stdout",
          "text": [
            "Saving TensorBoard log files to: training_logs/efficientnetb4_fine_tuning/20230717-172140\n",
            "Epoch 1/100\n",
            "2368/2368 [==============================] - 516s 183ms/step - loss: 0.8366 - accuracy: 0.7711 - val_loss: 0.7251 - val_accuracy: 0.7945 - lr: 1.0000e-04\n",
            "Epoch 2/100\n",
            "2368/2368 [==============================] - 365s 154ms/step - loss: 0.3300 - accuracy: 0.9054 - val_loss: 0.7939 - val_accuracy: 0.7908 - lr: 1.0000e-04\n",
            "Epoch 3/100\n",
            "2368/2368 [==============================] - ETA: 0s - loss: 0.1268 - accuracy: 0.9611\n",
            "Epoch 3: ReduceLROnPlateau reducing learning rate to 1.9999999494757503e-05.\n",
            "2368/2368 [==============================] - 368s 155ms/step - loss: 0.1268 - accuracy: 0.9611 - val_loss: 0.8372 - val_accuracy: 0.7982 - lr: 1.0000e-04\n",
            "Epoch 4/100\n",
            "2368/2368 [==============================] - 372s 157ms/step - loss: 0.0216 - accuracy: 0.9945 - val_loss: 0.8761 - val_accuracy: 0.8247 - lr: 2.0000e-05\n",
            "Epoch 5/100\n",
            "2368/2368 [==============================] - ETA: 0s - loss: 0.0025 - accuracy: 0.9999\n",
            "Epoch 5: ReduceLROnPlateau reducing learning rate to 3.999999898951501e-06.\n",
            "2368/2368 [==============================] - 370s 156ms/step - loss: 0.0025 - accuracy: 0.9999 - val_loss: 1.0223 - val_accuracy: 0.8273 - lr: 2.0000e-05\n",
            "Epoch 6/100\n",
            "2368/2368 [==============================] - 370s 156ms/step - loss: 9.1117e-04 - accuracy: 0.9999 - val_loss: 1.0496 - val_accuracy: 0.8276 - lr: 4.0000e-06\n",
            "Epoch 7/100\n",
            "2368/2368 [==============================] - ETA: 0s - loss: 6.8220e-04 - accuracy: 1.0000\n",
            "Epoch 7: ReduceLROnPlateau reducing learning rate to 7.999999979801942e-07.\n",
            "2368/2368 [==============================] - 368s 155ms/step - loss: 6.8220e-04 - accuracy: 1.0000 - val_loss: 1.1253 - val_accuracy: 0.8263 - lr: 4.0000e-06\n",
            "Epoch 8/100\n",
            "2368/2368 [==============================] - 370s 156ms/step - loss: 4.0002e-04 - accuracy: 0.9999 - val_loss: 1.1472 - val_accuracy: 0.8257 - lr: 8.0000e-07\n",
            "Epoch 9/100\n",
            "2368/2368 [==============================] - ETA: 0s - loss: 3.0691e-04 - accuracy: 0.9999\n",
            "Epoch 9: ReduceLROnPlateau reducing learning rate to 1.600000018697756e-07.\n",
            "2368/2368 [==============================] - 369s 155ms/step - loss: 3.0691e-04 - accuracy: 0.9999 - val_loss: 1.1651 - val_accuracy: 0.8279 - lr: 8.0000e-07\n"
          ]
        }
      ]
    },
    {
      "cell_type": "markdown",
      "source": [
        "### Save Fine Tuned Model to Google Drive"
      ],
      "metadata": {
        "id": "s9qFRLyL9FXJ"
      },
      "id": "s9qFRLyL9FXJ"
    },
    {
      "cell_type": "code",
      "source": [
        "model.save(\"/content/drive/My Drive/Food Vision/food_vision_efficientnetb4_fine_tuned.hdf5\")"
      ],
      "metadata": {
        "id": "zWIPlnF0DKxy",
        "colab": {
          "base_uri": "https://localhost:8080/"
        },
        "outputId": "39ff96a9-7d16-47a5-f9e3-5a3a5b8cc922"
      },
      "id": "zWIPlnF0DKxy",
      "execution_count": null,
      "outputs": [
        {
          "output_type": "stream",
          "name": "stderr",
          "text": [
            "/usr/local/lib/python3.10/dist-packages/keras/src/engine/training.py:3078: UserWarning: You are saving your model as an HDF5 file via `model.save()`. This file format is considered legacy. We recommend using instead the native Keras format, e.g. `model.save('my_model.keras')`.\n",
            "  saving_api.save_model(\n"
          ]
        }
      ]
    },
    {
      "cell_type": "code",
      "source": [
        "# Load in fine-tuned model from Google Storage and evaluate\n",
        "loaded_fine_tuned_model = tf.keras.models.load_model(\"/content/drive/My Drive/Food Vision/food_vision_efficientnetb4_fine_tuned.hdf5\")"
      ],
      "metadata": {
        "id": "eNTBgf9NDKne"
      },
      "id": "eNTBgf9NDKne",
      "execution_count": null,
      "outputs": []
    },
    {
      "cell_type": "code",
      "source": [
        "# Get a model summary (same model architecture as above)\n",
        "loaded_fine_tuned_model.summary()"
      ],
      "metadata": {
        "colab": {
          "base_uri": "https://localhost:8080/"
        },
        "id": "Wm3GjZxVDKc9",
        "outputId": "c2fedd03-89ba-46db-e93a-f3622de9afb7"
      },
      "id": "Wm3GjZxVDKc9",
      "execution_count": null,
      "outputs": [
        {
          "output_type": "stream",
          "name": "stdout",
          "text": [
            "Model: \"model\"\n",
            "_________________________________________________________________\n",
            " Layer (type)                Output Shape              Param #   \n",
            "=================================================================\n",
            " input_layer (InputLayer)    [(None, 224, 224, 3)]     0         \n",
            "                                                                 \n",
            " efficientnetb4 (Functional  (None, None, None, 1792   17673823  \n",
            " )                           )                                   \n",
            "                                                                 \n",
            " pooling_layer (GlobalAvera  (None, 1792)              0         \n",
            " gePooling2D)                                                    \n",
            "                                                                 \n",
            " dense (Dense)               (None, 101)               181093    \n",
            "                                                                 \n",
            " softmax_float32 (Activatio  (None, 101)               0         \n",
            " n)                                                              \n",
            "                                                                 \n",
            "=================================================================\n",
            "Total params: 17854916 (68.11 MB)\n",
            "Trainable params: 17729709 (67.63 MB)\n",
            "Non-trainable params: 125207 (489.08 KB)\n",
            "_________________________________________________________________\n"
          ]
        }
      ]
    },
    {
      "cell_type": "code",
      "source": [
        "# Note: Even if you're loading in the model from Google Storage, you will still need to load the test_data variable for this cell to work\n",
        "results_downloaded_fine_tuned_model = loaded_fine_tuned_model.evaluate(test_data)\n",
        "results_downloaded_fine_tuned_model"
      ],
      "metadata": {
        "colab": {
          "base_uri": "https://localhost:8080/"
        },
        "id": "8ih0jHBBDKSi",
        "outputId": "3169d75c-6b38-441a-95f9-3bc7610b482e"
      },
      "id": "8ih0jHBBDKSi",
      "execution_count": null,
      "outputs": [
        {
          "output_type": "stream",
          "name": "stdout",
          "text": [
            "790/790 [==============================] - 37s 41ms/step - loss: 1.2087 - accuracy: 0.8287\n"
          ]
        },
        {
          "output_type": "execute_result",
          "data": {
            "text/plain": [
              "[1.208654761314392, 0.828673243522644]"
            ]
          },
          "metadata": {},
          "execution_count": 46
        }
      ]
    },
    {
      "cell_type": "markdown",
      "source": [
        "## Base Model - MobileNetV3Large"
      ],
      "metadata": {
        "id": "S5IGq9FeDKIO"
      },
      "id": "S5IGq9FeDKIO"
    },
    {
      "cell_type": "code",
      "source": [
        "from tensorflow.keras import layers\n",
        "\n",
        "# Create base model\n",
        "input_shape = (224, 224, 3)\n",
        "base_model = tf.keras.applications.MobileNetV3Large(include_top=False)\n",
        "base_model.trainable = False # freeze base model layers\n",
        "\n",
        "# Create Functional model\n",
        "inputs = layers.Input(shape=input_shape, name=\"input_layer\")\n",
        "# Note: EfficientNetBX models have rescaling built-in but if your model didn't you could have a layer like below\n",
        "x = layers.Rescaling(1./255)(x)\n",
        "x = data_augmentation(inputs)\n",
        "x = base_model(inputs, training=False) # set base_model to inference mode only\n",
        "x = layers.GlobalAveragePooling2D(name=\"pooling_layer\")(x)\n",
        "x = layers.Dense(len(class_names))(x) # want one output neuron per class\n",
        "# Separate activation of output layer so we can output float32 activations\n",
        "outputs = layers.Activation(\"softmax\", dtype=tf.float32, name=\"softmax_float32\")(x)\n",
        "model = tf.keras.Model(inputs, outputs)\n",
        "\n",
        "# Compile the model\n",
        "model.compile(loss=\"sparse_categorical_crossentropy\", # Use sparse_categorical_crossentropy when labels are *not* one-hot\n",
        "              optimizer=tf.keras.optimizers.Adam(),\n",
        "              metrics=[\"accuracy\"])"
      ],
      "metadata": {
        "id": "v8ntlJ9YDJ-U"
      },
      "id": "v8ntlJ9YDJ-U",
      "execution_count": null,
      "outputs": []
    },
    {
      "cell_type": "code",
      "source": [
        "# Check out our model\n",
        "model.summary()"
      ],
      "metadata": {
        "colab": {
          "base_uri": "https://localhost:8080/"
        },
        "id": "VSIKu4qlDJ1P",
        "outputId": "d80d1b90-927e-47ec-acab-e8ed9792241e"
      },
      "id": "VSIKu4qlDJ1P",
      "execution_count": null,
      "outputs": [
        {
          "output_type": "stream",
          "name": "stdout",
          "text": [
            "Model: \"model_7\"\n",
            "_________________________________________________________________\n",
            " Layer (type)                Output Shape              Param #   \n",
            "=================================================================\n",
            " input_layer (InputLayer)    [(None, 224, 224, 3)]     0         \n",
            "                                                                 \n",
            " MobilenetV3large (Function  (None, None, None, 960)   2996352   \n",
            " al)                                                             \n",
            "                                                                 \n",
            " pooling_layer (GlobalAvera  (None, 960)               0         \n",
            " gePooling2D)                                                    \n",
            "                                                                 \n",
            " dense_7 (Dense)             (None, 101)               97061     \n",
            "                                                                 \n",
            " softmax_float32 (Activatio  (None, 101)               0         \n",
            " n)                                                              \n",
            "                                                                 \n",
            "=================================================================\n",
            "Total params: 3093413 (11.80 MB)\n",
            "Trainable params: 97061 (379.14 KB)\n",
            "Non-trainable params: 2996352 (11.43 MB)\n",
            "_________________________________________________________________\n"
          ]
        }
      ]
    },
    {
      "cell_type": "code",
      "source": [
        "# Check the dtype_policy attributes of layers in our model\n",
        "for layer in model.layers:\n",
        "    print(layer.name, layer.trainable, layer.dtype, layer.dtype_policy) # Check the dtype policy of layers"
      ],
      "metadata": {
        "colab": {
          "base_uri": "https://localhost:8080/"
        },
        "id": "p1aAoPybDJqf",
        "outputId": "981268da-6030-4ebb-afa6-b3f175e78cd8"
      },
      "id": "p1aAoPybDJqf",
      "execution_count": null,
      "outputs": [
        {
          "output_type": "stream",
          "name": "stdout",
          "text": [
            "input_layer True float32 <Policy \"float32\">\n",
            "MobilenetV3large False float32 <Policy \"mixed_float16\">\n",
            "pooling_layer True float32 <Policy \"mixed_float16\">\n",
            "dense_7 True float32 <Policy \"mixed_float16\">\n",
            "softmax_float32 True float32 <Policy \"float32\">\n"
          ]
        }
      ]
    },
    {
      "cell_type": "code",
      "source": [
        "# Check the layers in the base model and see what dtype policy they're using\n",
        "for layer in model.layers[1].layers[:20]: # only check the first 20 layers to save output space\n",
        "    print(layer.name, layer.trainable, layer.dtype, layer.dtype_policy)"
      ],
      "metadata": {
        "colab": {
          "base_uri": "https://localhost:8080/"
        },
        "id": "ffyuxdrBDJd0",
        "outputId": "775ba1a9-ae5c-4f8b-bfdb-80dee113a25e"
      },
      "id": "ffyuxdrBDJd0",
      "execution_count": null,
      "outputs": [
        {
          "output_type": "stream",
          "name": "stdout",
          "text": [
            "input_8 False float32 <Policy \"float32\">\n",
            "rescaling_4 False float32 <Policy \"mixed_float16\">\n",
            "Conv False float32 <Policy \"mixed_float16\">\n",
            "Conv/BatchNorm False float32 <Policy \"mixed_float16\">\n",
            "tf.__operators__.add_28 False float32 <Policy \"mixed_float16\">\n",
            "re_lu_39 False float32 <Policy \"mixed_float16\">\n",
            "tf.math.multiply_28 False float32 <Policy \"mixed_float16\">\n",
            "multiply_20 False float32 <Policy \"mixed_float16\">\n",
            "expanded_conv/depthwise False float32 <Policy \"mixed_float16\">\n",
            "expanded_conv/depthwise/BatchNorm False float32 <Policy \"mixed_float16\">\n",
            "re_lu_40 False float32 <Policy \"mixed_float16\">\n",
            "expanded_conv/project False float32 <Policy \"mixed_float16\">\n",
            "expanded_conv/project/BatchNorm False float32 <Policy \"mixed_float16\">\n",
            "expanded_conv/Add False float32 <Policy \"mixed_float16\">\n",
            "expanded_conv_1/expand False float32 <Policy \"mixed_float16\">\n",
            "expanded_conv_1/expand/BatchNorm False float32 <Policy \"mixed_float16\">\n",
            "re_lu_41 False float32 <Policy \"mixed_float16\">\n",
            "expanded_conv_1/depthwise/pad False float32 <Policy \"mixed_float16\">\n",
            "expanded_conv_1/depthwise False float32 <Policy \"mixed_float16\">\n",
            "expanded_conv_1/depthwise/BatchNorm False float32 <Policy \"mixed_float16\">\n"
          ]
        }
      ]
    },
    {
      "cell_type": "markdown",
      "source": [
        "### Fit the feature Extraction Model"
      ],
      "metadata": {
        "id": "zpdeeQ5pDJPP"
      },
      "id": "zpdeeQ5pDJPP"
    },
    {
      "cell_type": "code",
      "source": [
        "# Turn off all warnings except for errors\n",
        "tf.get_logger().setLevel('ERROR')\n",
        "\n",
        "# Fit the model with callbacks\n",
        "history_mobilenet_v3_large_feature_extraction = model.fit(train_data,\n",
        "                                                   epochs=5,\n",
        "                                                   steps_per_epoch=len(train_data),\n",
        "                                                   validation_data=test_data,\n",
        "                                                   validation_steps=int(0.15 * len(test_data)),\n",
        "                                                   callbacks=[create_tensorboard_callback(\"training_logs\",\n",
        "                                                   \"mobilenet_v3_large_feature_extraction\"),\n",
        "                                                    model_checkpoint])"
      ],
      "metadata": {
        "colab": {
          "base_uri": "https://localhost:8080/"
        },
        "id": "yHUa2HPdDJFP",
        "outputId": "66ff433c-c4d9-4083-ed2f-8b62233f7dc5"
      },
      "id": "yHUa2HPdDJFP",
      "execution_count": null,
      "outputs": [
        {
          "output_type": "stream",
          "name": "stdout",
          "text": [
            "Saving TensorBoard log files to: training_logs/mobilenet_v3_large_feature_extraction/20230717-200015\n",
            "Epoch 1/5\n",
            "2368/2368 [==============================] - 99s 39ms/step - loss: 1.7828 - accuracy: 0.5566 - val_loss: 1.1566 - val_accuracy: 0.6849\n",
            "Epoch 2/5\n",
            "2368/2368 [==============================] - 92s 38ms/step - loss: 1.2583 - accuracy: 0.6720 - val_loss: 1.1195 - val_accuracy: 0.6912\n",
            "Epoch 3/5\n",
            "2368/2368 [==============================] - 92s 39ms/step - loss: 1.1112 - accuracy: 0.7059 - val_loss: 1.0755 - val_accuracy: 0.7047\n",
            "Epoch 4/5\n",
            "2368/2368 [==============================] - 92s 38ms/step - loss: 1.0194 - accuracy: 0.7284 - val_loss: 1.0802 - val_accuracy: 0.7063\n",
            "Epoch 5/5\n",
            "2368/2368 [==============================] - 92s 38ms/step - loss: 0.9534 - accuracy: 0.7429 - val_loss: 1.0894 - val_accuracy: 0.7013\n"
          ]
        }
      ]
    },
    {
      "cell_type": "code",
      "source": [
        "# Evaluate model (unsaved version) on whole test dataset\n",
        "results_feature_extract_mobilenet_v3_large = model.evaluate(test_data)\n",
        "results_feature_extract_mobilenet_v3_large"
      ],
      "metadata": {
        "colab": {
          "base_uri": "https://localhost:8080/"
        },
        "id": "a4i7zkTkDI5w",
        "outputId": "753d0404-694d-4b8c-e1a8-8dc2cd0ef47b"
      },
      "id": "a4i7zkTkDI5w",
      "execution_count": null,
      "outputs": [
        {
          "output_type": "stream",
          "name": "stdout",
          "text": [
            "790/790 [==============================] - 26s 33ms/step - loss: 1.1211 - accuracy: 0.7012\n"
          ]
        },
        {
          "output_type": "execute_result",
          "data": {
            "text/plain": [
              "[1.1210614442825317, 0.7012277245521545]"
            ]
          },
          "metadata": {},
          "execution_count": 95
        }
      ]
    },
    {
      "cell_type": "code",
      "source": [
        "# Check the layers in the base model and see what dtype policy they're using\n",
        "for layer in model.layers[1].layers[:20]: # check only the first 20 layers to save printing space\n",
        "    print(layer.name, layer.trainable, layer.dtype, layer.dtype_policy)"
      ],
      "metadata": {
        "colab": {
          "base_uri": "https://localhost:8080/"
        },
        "id": "qE1DwwZ0EHKe",
        "outputId": "1f818d2d-2271-45cd-fb54-15544a828cad"
      },
      "id": "qE1DwwZ0EHKe",
      "execution_count": null,
      "outputs": [
        {
          "output_type": "stream",
          "name": "stdout",
          "text": [
            "input_8 False float32 <Policy \"float32\">\n",
            "rescaling_4 False float32 <Policy \"mixed_float16\">\n",
            "Conv False float32 <Policy \"mixed_float16\">\n",
            "Conv/BatchNorm False float32 <Policy \"mixed_float16\">\n",
            "tf.__operators__.add_28 False float32 <Policy \"mixed_float16\">\n",
            "re_lu_39 False float32 <Policy \"mixed_float16\">\n",
            "tf.math.multiply_28 False float32 <Policy \"mixed_float16\">\n",
            "multiply_20 False float32 <Policy \"mixed_float16\">\n",
            "expanded_conv/depthwise False float32 <Policy \"mixed_float16\">\n",
            "expanded_conv/depthwise/BatchNorm False float32 <Policy \"mixed_float16\">\n",
            "re_lu_40 False float32 <Policy \"mixed_float16\">\n",
            "expanded_conv/project False float32 <Policy \"mixed_float16\">\n",
            "expanded_conv/project/BatchNorm False float32 <Policy \"mixed_float16\">\n",
            "expanded_conv/Add False float32 <Policy \"mixed_float16\">\n",
            "expanded_conv_1/expand False float32 <Policy \"mixed_float16\">\n",
            "expanded_conv_1/expand/BatchNorm False float32 <Policy \"mixed_float16\">\n",
            "re_lu_41 False float32 <Policy \"mixed_float16\">\n",
            "expanded_conv_1/depthwise/pad False float32 <Policy \"mixed_float16\">\n",
            "expanded_conv_1/depthwise False float32 <Policy \"mixed_float16\">\n",
            "expanded_conv_1/depthwise/BatchNorm False float32 <Policy \"mixed_float16\">\n"
          ]
        }
      ]
    },
    {
      "cell_type": "markdown",
      "source": [
        "### Save Feature Extraction Model to Google Drive"
      ],
      "metadata": {
        "id": "mgdN5SREEHV0"
      },
      "id": "mgdN5SREEHV0"
    },
    {
      "cell_type": "code",
      "source": [
        "model.save(\"/content/drive/My Drive/Food Vision/food_vision_mobilenet_v3_large_feature_extraction.hdf5\")"
      ],
      "metadata": {
        "id": "0h2SNWo6EHfH"
      },
      "id": "0h2SNWo6EHfH",
      "execution_count": null,
      "outputs": []
    },
    {
      "cell_type": "code",
      "source": [
        "# Load model previously saved above\n",
        "loaded_saved_model = tf.keras.models.load_model(\"/content/drive/My Drive/Food Vision/food_vision_mobilenet_v3_large_feature_extraction.hdf5\")"
      ],
      "metadata": {
        "id": "r83pNeMbEHnl"
      },
      "id": "r83pNeMbEHnl",
      "execution_count": null,
      "outputs": []
    },
    {
      "cell_type": "code",
      "source": [
        "# Check loaded model performance (this should be the same as results_feature_extract_model)\n",
        "results_loaded_saved_model = loaded_saved_model.evaluate(test_data)\n",
        "results_loaded_saved_model"
      ],
      "metadata": {
        "colab": {
          "base_uri": "https://localhost:8080/"
        },
        "id": "_kHRShKXEHvU",
        "outputId": "cf472cae-ea96-43d6-f855-68adf8f70219"
      },
      "id": "_kHRShKXEHvU",
      "execution_count": null,
      "outputs": [
        {
          "output_type": "stream",
          "name": "stdout",
          "text": [
            "790/790 [==============================] - 29s 34ms/step - loss: 1.1211 - accuracy: 0.7012\n"
          ]
        },
        {
          "output_type": "execute_result",
          "data": {
            "text/plain": [
              "[1.1210618019104004, 0.7012277245521545]"
            ]
          },
          "metadata": {},
          "execution_count": 100
        }
      ]
    },
    {
      "cell_type": "markdown",
      "source": [
        "### Preparing our model's layers for fine-tuning"
      ],
      "metadata": {
        "id": "WjME0RAKEH2r"
      },
      "id": "WjME0RAKEH2r"
    },
    {
      "cell_type": "code",
      "source": [
        "# Are any of the layers in our model frozen?\n",
        "for layer in model.layers:\n",
        "    layer.trainable = True # set all layers to trainable\n",
        "    print(layer.name, layer.trainable, layer.dtype, layer.dtype_policy) # make sure loaded model is using mixed precision dtype_policy (\"mixed_float16\")"
      ],
      "metadata": {
        "colab": {
          "base_uri": "https://localhost:8080/"
        },
        "id": "jjP0ve9PEH9u",
        "outputId": "a4046cab-d2a3-44a9-9b4c-6d5f999bc686"
      },
      "id": "jjP0ve9PEH9u",
      "execution_count": null,
      "outputs": [
        {
          "output_type": "stream",
          "name": "stdout",
          "text": [
            "input_layer True float32 <Policy \"float32\">\n",
            "MobilenetV3large True float32 <Policy \"mixed_float16\">\n",
            "pooling_layer True float32 <Policy \"mixed_float16\">\n",
            "dense_7 True float32 <Policy \"mixed_float16\">\n",
            "softmax_float32 True float32 <Policy \"float32\">\n"
          ]
        }
      ]
    },
    {
      "cell_type": "code",
      "source": [
        "# Check the layers in the base model and see what dtype policy they're using\n",
        "for layer in model.layers[1].layers[:20]:\n",
        "    print(layer.name, layer.trainable, layer.dtype, layer.dtype_policy)"
      ],
      "metadata": {
        "colab": {
          "base_uri": "https://localhost:8080/"
        },
        "id": "FU4gnpK_EIEx",
        "outputId": "da3e3943-4eac-4360-fa23-435803ed4fe2"
      },
      "id": "FU4gnpK_EIEx",
      "execution_count": null,
      "outputs": [
        {
          "output_type": "stream",
          "name": "stdout",
          "text": [
            "input_8 True float32 <Policy \"float32\">\n",
            "rescaling_4 True float32 <Policy \"mixed_float16\">\n",
            "Conv True float32 <Policy \"mixed_float16\">\n",
            "Conv/BatchNorm True float32 <Policy \"mixed_float16\">\n",
            "tf.__operators__.add_28 True float32 <Policy \"mixed_float16\">\n",
            "re_lu_39 True float32 <Policy \"mixed_float16\">\n",
            "tf.math.multiply_28 True float32 <Policy \"mixed_float16\">\n",
            "multiply_20 True float32 <Policy \"mixed_float16\">\n",
            "expanded_conv/depthwise True float32 <Policy \"mixed_float16\">\n",
            "expanded_conv/depthwise/BatchNorm True float32 <Policy \"mixed_float16\">\n",
            "re_lu_40 True float32 <Policy \"mixed_float16\">\n",
            "expanded_conv/project True float32 <Policy \"mixed_float16\">\n",
            "expanded_conv/project/BatchNorm True float32 <Policy \"mixed_float16\">\n",
            "expanded_conv/Add True float32 <Policy \"mixed_float16\">\n",
            "expanded_conv_1/expand True float32 <Policy \"mixed_float16\">\n",
            "expanded_conv_1/expand/BatchNorm True float32 <Policy \"mixed_float16\">\n",
            "re_lu_41 True float32 <Policy \"mixed_float16\">\n",
            "expanded_conv_1/depthwise/pad True float32 <Policy \"mixed_float16\">\n",
            "expanded_conv_1/depthwise True float32 <Policy \"mixed_float16\">\n",
            "expanded_conv_1/depthwise/BatchNorm True float32 <Policy \"mixed_float16\">\n"
          ]
        }
      ]
    },
    {
      "cell_type": "code",
      "source": [
        "# Compile the model\n",
        "model.compile(loss=\"sparse_categorical_crossentropy\", # sparse_categorical_crossentropy for labels that are *not* one-hot\n",
        "                        optimizer=tf.keras.optimizers.Adam(0.0001), # 10x lower learning rate than the default\n",
        "                        metrics=[\"accuracy\"])"
      ],
      "metadata": {
        "id": "QF1T60OwEILe"
      },
      "id": "QF1T60OwEILe",
      "execution_count": null,
      "outputs": []
    },
    {
      "cell_type": "markdown",
      "source": [
        "### Fit the fine tuning model"
      ],
      "metadata": {
        "id": "qQd8XmM4EISC"
      },
      "id": "qQd8XmM4EISC"
    },
    {
      "cell_type": "code",
      "source": [
        "# Start to fine-tune (all layers)\n",
        "history_mobilenet_v3_large = model.fit(train_data,\n",
        "                                       epochs=100, # fine-tune for a maximum of 100 epochs\n",
        "                                       steps_per_epoch=len(train_data),\n",
        "                                       validation_data=test_data,\n",
        "                                       validation_steps=int(0.15 * len(test_data)), # validation during training on 15% of test data\n",
        "                                       callbacks=[create_tensorboard_callback(\"training_logs\", \"mobilenet_v3_large_fine_tuning\"), # track the model training logs\n",
        "                                       model_checkpoint, # save only the best model during training\n",
        "                                       early_stopping, # stop model after X epochs of no improvements\n",
        "                                       reduce_lr]) # reduce the learning rate after X epochs of no improvements"
      ],
      "metadata": {
        "colab": {
          "base_uri": "https://localhost:8080/"
        },
        "id": "1Gcbww_MEIYF",
        "outputId": "18dc1208-689b-4b42-f5ef-9278db755c7c"
      },
      "id": "1Gcbww_MEIYF",
      "execution_count": null,
      "outputs": [
        {
          "output_type": "stream",
          "name": "stdout",
          "text": [
            "Saving TensorBoard log files to: training_logs/mobilenet_v3_large_fine_tuning/20230717-201222\n",
            "Epoch 1/100\n",
            "2368/2368 [==============================] - 202s 77ms/step - loss: 0.8169 - accuracy: 0.7765 - val_loss: 0.8836 - val_accuracy: 0.7590 - lr: 1.0000e-04\n",
            "Epoch 2/100\n",
            "2368/2368 [==============================] - 167s 70ms/step - loss: 0.5155 - accuracy: 0.8562 - val_loss: 0.8992 - val_accuracy: 0.7680 - lr: 1.0000e-04\n",
            "Epoch 3/100\n",
            "2367/2368 [============================>.] - ETA: 0s - loss: 0.3065 - accuracy: 0.9122\n",
            "Epoch 3: ReduceLROnPlateau reducing learning rate to 1.9999999494757503e-05.\n",
            "2368/2368 [==============================] - 164s 69ms/step - loss: 0.3066 - accuracy: 0.9122 - val_loss: 0.9292 - val_accuracy: 0.7691 - lr: 1.0000e-04\n",
            "Epoch 4/100\n",
            "2368/2368 [==============================] - 165s 69ms/step - loss: 0.0848 - accuracy: 0.9801 - val_loss: 0.9950 - val_accuracy: 0.7805 - lr: 2.0000e-05\n",
            "Epoch 5/100\n",
            "2367/2368 [============================>.] - ETA: 0s - loss: 0.0419 - accuracy: 0.9929\n",
            "Epoch 5: ReduceLROnPlateau reducing learning rate to 3.999999898951501e-06.\n",
            "2368/2368 [==============================] - 167s 70ms/step - loss: 0.0419 - accuracy: 0.9929 - val_loss: 1.1108 - val_accuracy: 0.7802 - lr: 2.0000e-05\n",
            "Epoch 6/100\n",
            "2368/2368 [==============================] - 164s 69ms/step - loss: 0.0154 - accuracy: 0.9988 - val_loss: 1.1908 - val_accuracy: 0.7786 - lr: 4.0000e-06\n",
            "Epoch 7/100\n",
            "2368/2368 [==============================] - ETA: 0s - loss: 0.0108 - accuracy: 0.9993\n",
            "Epoch 7: ReduceLROnPlateau reducing learning rate to 7.999999979801942e-07.\n",
            "2368/2368 [==============================] - 165s 69ms/step - loss: 0.0108 - accuracy: 0.9993 - val_loss: 1.2613 - val_accuracy: 0.7752 - lr: 4.0000e-06\n",
            "Epoch 8/100\n",
            "2368/2368 [==============================] - 168s 71ms/step - loss: 0.0072 - accuracy: 0.9998 - val_loss: 1.2849 - val_accuracy: 0.7760 - lr: 8.0000e-07\n",
            "Epoch 9/100\n",
            "2367/2368 [============================>.] - ETA: 0s - loss: 0.0065 - accuracy: 0.9998\n",
            "Epoch 9: ReduceLROnPlateau reducing learning rate to 1.600000018697756e-07.\n",
            "2368/2368 [==============================] - 168s 71ms/step - loss: 0.0065 - accuracy: 0.9998 - val_loss: 1.3027 - val_accuracy: 0.7760 - lr: 8.0000e-07\n"
          ]
        }
      ]
    },
    {
      "cell_type": "markdown",
      "source": [
        "### Save Fine Tuned Model to Google Drive"
      ],
      "metadata": {
        "id": "KU8R6gBOEIdv"
      },
      "id": "KU8R6gBOEIdv"
    },
    {
      "cell_type": "code",
      "source": [
        "model.save(\"/content/drive/My Drive/Food Vision/food_vision_mobilenet_v3_large_fine_tuned.hdf5\")"
      ],
      "metadata": {
        "id": "YI1kjquSEIi-"
      },
      "id": "YI1kjquSEIi-",
      "execution_count": null,
      "outputs": []
    },
    {
      "cell_type": "code",
      "source": [
        "# Load in fine-tuned model from Google Storage and evaluate\n",
        "loaded_fine_tuned_model = tf.keras.models.load_model(\"/content/drive/My Drive/Food Vision/food_vision_mobilenet_v3_large_fine_tuned.hdf5\")"
      ],
      "metadata": {
        "id": "mfg_VIckEInd"
      },
      "id": "mfg_VIckEInd",
      "execution_count": null,
      "outputs": []
    },
    {
      "cell_type": "code",
      "source": [
        "# Get a model summary (same model architecture as above)\n",
        "loaded_fine_tuned_model.summary()"
      ],
      "metadata": {
        "colab": {
          "base_uri": "https://localhost:8080/"
        },
        "id": "xhNG0eXeEIrp",
        "outputId": "84e15e41-7801-4351-8c8c-de04a2fb853e"
      },
      "id": "xhNG0eXeEIrp",
      "execution_count": null,
      "outputs": [
        {
          "output_type": "stream",
          "name": "stdout",
          "text": [
            "Model: \"model_7\"\n",
            "_________________________________________________________________\n",
            " Layer (type)                Output Shape              Param #   \n",
            "=================================================================\n",
            " input_layer (InputLayer)    [(None, 224, 224, 3)]     0         \n",
            "                                                                 \n",
            " MobilenetV3large (Function  (None, None, None, 960)   2996352   \n",
            " al)                                                             \n",
            "                                                                 \n",
            " pooling_layer (GlobalAvera  (None, 960)               0         \n",
            " gePooling2D)                                                    \n",
            "                                                                 \n",
            " dense_7 (Dense)             (None, 101)               97061     \n",
            "                                                                 \n",
            " softmax_float32 (Activatio  (None, 101)               0         \n",
            " n)                                                              \n",
            "                                                                 \n",
            "=================================================================\n",
            "Total params: 3093413 (11.80 MB)\n",
            "Trainable params: 3069013 (11.71 MB)\n",
            "Non-trainable params: 24400 (95.31 KB)\n",
            "_________________________________________________________________\n"
          ]
        }
      ]
    },
    {
      "cell_type": "code",
      "source": [
        "# Note: Even if you're loading in the model from Google Storage, you will still need to load the test_data variable for this cell to work\n",
        "results_downloaded_fine_tuned_model = loaded_fine_tuned_model.evaluate(test_data)\n",
        "results_downloaded_fine_tuned_model"
      ],
      "metadata": {
        "colab": {
          "base_uri": "https://localhost:8080/"
        },
        "id": "cab7ur6-EIvr",
        "outputId": "169fa703-3b39-495d-c3b8-927bbb0df6d0"
      },
      "id": "cab7ur6-EIvr",
      "execution_count": null,
      "outputs": [
        {
          "output_type": "stream",
          "name": "stdout",
          "text": [
            "790/790 [==============================] - 30s 36ms/step - loss: 1.3638 - accuracy: 0.7748\n"
          ]
        },
        {
          "output_type": "execute_result",
          "data": {
            "text/plain": [
              "[1.3638449907302856, 0.7747722864151001]"
            ]
          },
          "metadata": {},
          "execution_count": 109
        }
      ]
    },
    {
      "cell_type": "markdown",
      "source": [
        "## Base Model - ConvNext_Xtlarge"
      ],
      "metadata": {
        "id": "2rICj4AsEIzb"
      },
      "id": "2rICj4AsEIzb"
    },
    {
      "cell_type": "code",
      "source": [
        "from tensorflow.keras import layers\n",
        "\n",
        "# Create base model\n",
        "input_shape = (224, 224, 3)\n",
        "base_model = tf.keras.applications.convnext.ConvNeXtXLarge(include_top=False)\n",
        "base_model.trainable = False # freeze base model layers\n",
        "\n",
        "# Create Functional model\n",
        "inputs = layers.Input(shape=input_shape, name=\"input_layer\")\n",
        "# Note: EfficientNetBX models have rescaling built-in but if your model didn't you could have a layer like below\n",
        "x = base_model(inputs, training=False) # set base_model to inference mode only\n",
        "x = layers.GlobalAveragePooling2D(name=\"pooling_layer\")(x)\n",
        "x = layers.Dense(len(class_names))(x) # want one output neuron per class\n",
        "# Separate activation of output layer so we can output float32 activations\n",
        "outputs = layers.Activation(\"softmax\", dtype=tf.float32, name=\"softmax_float32\")(x)\n",
        "model = tf.keras.Model(inputs, outputs)\n",
        "\n",
        "# Compile the model\n",
        "model.compile(loss=\"sparse_categorical_crossentropy\", # Use sparse_categorical_crossentropy when labels are *not* one-hot\n",
        "              optimizer=tf.keras.optimizers.Adam(),\n",
        "              metrics=[\"accuracy\"])"
      ],
      "metadata": {
        "id": "9uaKWviXEI3F",
        "colab": {
          "base_uri": "https://localhost:8080/"
        },
        "outputId": "5d525953-f6e1-4293-86f6-3cd6a738d324"
      },
      "id": "9uaKWviXEI3F",
      "execution_count": null,
      "outputs": [
        {
          "output_type": "stream",
          "name": "stdout",
          "text": [
            "Downloading data from https://storage.googleapis.com/tensorflow/keras-applications/convnext/convnext_xlarge_notop.h5\n",
            "1393257616/1393257616 [==============================] - 6s 0us/step\n"
          ]
        }
      ]
    },
    {
      "cell_type": "code",
      "source": [
        "# Check out our model\n",
        "model.summary()"
      ],
      "metadata": {
        "colab": {
          "base_uri": "https://localhost:8080/"
        },
        "id": "XPoy7WSLEI6m",
        "outputId": "da712623-bd7a-459a-dfee-49a3c76917f0"
      },
      "id": "XPoy7WSLEI6m",
      "execution_count": null,
      "outputs": [
        {
          "output_type": "stream",
          "name": "stdout",
          "text": [
            "Model: \"model\"\n",
            "_________________________________________________________________\n",
            " Layer (type)                Output Shape              Param #   \n",
            "=================================================================\n",
            " input_layer (InputLayer)    [(None, 224, 224, 3)]     0         \n",
            "                                                                 \n",
            " convnext_xlarge (Functiona  (None, None, None, 2048   348147968 \n",
            " l)                          )                                   \n",
            "                                                                 \n",
            " pooling_layer (GlobalAvera  (None, 2048)              0         \n",
            " gePooling2D)                                                    \n",
            "                                                                 \n",
            " dense (Dense)               (None, 101)               206949    \n",
            "                                                                 \n",
            " softmax_float32 (Activatio  (None, 101)               0         \n",
            " n)                                                              \n",
            "                                                                 \n",
            "=================================================================\n",
            "Total params: 348354917 (1.30 GB)\n",
            "Trainable params: 206949 (808.39 KB)\n",
            "Non-trainable params: 348147968 (1.30 GB)\n",
            "_________________________________________________________________\n"
          ]
        }
      ]
    },
    {
      "cell_type": "code",
      "source": [
        "# Check the dtype_policy attributes of layers in our model\n",
        "for layer in model.layers:\n",
        "    print(layer.name, layer.trainable, layer.dtype, layer.dtype_policy) # Check the dtype policy of layers"
      ],
      "metadata": {
        "colab": {
          "base_uri": "https://localhost:8080/"
        },
        "id": "FeKqi8aEEI-A",
        "outputId": "7618d46d-9cf8-49d8-a1f6-795c9a812bf1"
      },
      "id": "FeKqi8aEEI-A",
      "execution_count": null,
      "outputs": [
        {
          "output_type": "stream",
          "name": "stdout",
          "text": [
            "input_layer True float32 <Policy \"float32\">\n",
            "convnext_xlarge False float32 <Policy \"mixed_float16\">\n",
            "pooling_layer True float32 <Policy \"mixed_float16\">\n",
            "dense True float32 <Policy \"mixed_float16\">\n",
            "softmax_float32 True float32 <Policy \"float32\">\n"
          ]
        }
      ]
    },
    {
      "cell_type": "code",
      "source": [
        "# Check the layers in the base model and see what dtype policy they're using\n",
        "for layer in model.layers[1].layers[:20]: # only check the first 20 layers to save output space\n",
        "    print(layer.name, layer.trainable, layer.dtype, layer.dtype_policy)"
      ],
      "metadata": {
        "colab": {
          "base_uri": "https://localhost:8080/"
        },
        "id": "GRe0RkExEJBY",
        "outputId": "d24d85e8-18c7-4c03-b79b-93123d8e0ff9"
      },
      "id": "GRe0RkExEJBY",
      "execution_count": null,
      "outputs": [
        {
          "output_type": "stream",
          "name": "stdout",
          "text": [
            "input_1 False float32 <Policy \"float32\">\n",
            "convnext_xlarge_prestem_normalization False float32 <Policy \"mixed_float16\">\n",
            "convnext_xlarge_stem False float32 <Policy \"mixed_float16\">\n",
            "convnext_xlarge_stage_0_block_0_depthwise_conv False float32 <Policy \"mixed_float16\">\n",
            "convnext_xlarge_stage_0_block_0_layernorm False float32 <Policy \"mixed_float16\">\n",
            "convnext_xlarge_stage_0_block_0_pointwise_conv_1 False float32 <Policy \"mixed_float16\">\n",
            "convnext_xlarge_stage_0_block_0_gelu False float32 <Policy \"mixed_float16\">\n",
            "convnext_xlarge_stage_0_block_0_pointwise_conv_2 False float32 <Policy \"mixed_float16\">\n",
            "convnext_xlarge_stage_0_block_0_layer_scale False float32 <Policy \"mixed_float16\">\n",
            "convnext_xlarge_stage_0_block_0_identity False float32 <Policy \"mixed_float16\">\n",
            "tf.__operators__.add False float32 <Policy \"mixed_float16\">\n",
            "convnext_xlarge_stage_0_block_1_depthwise_conv False float32 <Policy \"mixed_float16\">\n",
            "convnext_xlarge_stage_0_block_1_layernorm False float32 <Policy \"mixed_float16\">\n",
            "convnext_xlarge_stage_0_block_1_pointwise_conv_1 False float32 <Policy \"mixed_float16\">\n",
            "convnext_xlarge_stage_0_block_1_gelu False float32 <Policy \"mixed_float16\">\n",
            "convnext_xlarge_stage_0_block_1_pointwise_conv_2 False float32 <Policy \"mixed_float16\">\n",
            "convnext_xlarge_stage_0_block_1_layer_scale False float32 <Policy \"mixed_float16\">\n",
            "convnext_xlarge_stage_0_block_1_identity False float32 <Policy \"mixed_float16\">\n",
            "tf.__operators__.add_1 False float32 <Policy \"mixed_float16\">\n",
            "convnext_xlarge_stage_0_block_2_depthwise_conv False float32 <Policy \"mixed_float16\">\n"
          ]
        }
      ]
    },
    {
      "cell_type": "markdown",
      "source": [
        "### Fit the feature Extraction Model"
      ],
      "metadata": {
        "id": "EuFV6z78EJE5"
      },
      "id": "EuFV6z78EJE5"
    },
    {
      "cell_type": "code",
      "source": [
        "# Turn off all warnings except for errors\n",
        "tf.get_logger().setLevel('ERROR')\n",
        "\n",
        "# Fit the model with callbacks\n",
        "history_convnext_Xtlarge = model.fit(train_data,\n",
        "                                   epochs=15,\n",
        "                                   steps_per_epoch=len(train_data),\n",
        "                                   validation_data=test_data,\n",
        "                                   validation_steps=int(0.15 * len(test_data)),\n",
        "                                   callbacks=[create_tensorboard_callback(\"training_logs\",\n",
        "                                   \"convnext_Xtlarge_feature_extract\"),\n",
        "                                    model_checkpoint])"
      ],
      "metadata": {
        "colab": {
          "base_uri": "https://localhost:8080/"
        },
        "id": "qLhTEVzgI8zh",
        "outputId": "cd323522-5aba-4094-beae-09346cd69d14"
      },
      "id": "qLhTEVzgI8zh",
      "execution_count": null,
      "outputs": [
        {
          "output_type": "stream",
          "name": "stdout",
          "text": [
            "Saving TensorBoard log files to: training_logs/convnext_Xtlarge_feature_extract/20230718-113154\n",
            "Epoch 1/15\n",
            "2368/2368 [==============================] - 529s 211ms/step - loss: 0.7272 - accuracy: 0.8118 - val_loss: 0.4392 - val_accuracy: 0.8779\n",
            "Epoch 2/15\n",
            "2368/2368 [==============================] - 493s 208ms/step - loss: 0.4696 - accuracy: 0.8709 - val_loss: 0.4127 - val_accuracy: 0.8901\n",
            "Epoch 3/15\n",
            "2368/2368 [==============================] - 498s 209ms/step - loss: 0.3745 - accuracy: 0.8942 - val_loss: 0.3894 - val_accuracy: 0.8917\n",
            "Epoch 4/15\n",
            "2368/2368 [==============================] - 463s 195ms/step - loss: 0.3115 - accuracy: 0.9107 - val_loss: 0.4497 - val_accuracy: 0.8822\n",
            "Epoch 5/15\n",
            "2368/2368 [==============================] - 461s 194ms/step - loss: 0.2622 - accuracy: 0.9229 - val_loss: 0.4328 - val_accuracy: 0.8906\n",
            "Epoch 6/15\n",
            "2368/2368 [==============================] - 462s 194ms/step - loss: 0.2276 - accuracy: 0.9315 - val_loss: 0.4347 - val_accuracy: 0.8919\n",
            "Epoch 7/15\n",
            "2368/2368 [==============================] - 482s 203ms/step - loss: 0.1958 - accuracy: 0.9407 - val_loss: 0.4550 - val_accuracy: 0.8912\n",
            "Epoch 8/15\n",
            "2368/2368 [==============================] - 461s 194ms/step - loss: 0.1721 - accuracy: 0.9481 - val_loss: 0.4795 - val_accuracy: 0.8885\n",
            "Epoch 9/15\n",
            "2368/2368 [==============================] - 481s 203ms/step - loss: 0.1532 - accuracy: 0.9531 - val_loss: 0.5086 - val_accuracy: 0.8827\n",
            "Epoch 10/15\n",
            "2368/2368 [==============================] - 464s 196ms/step - loss: 0.1339 - accuracy: 0.9586 - val_loss: 0.5023 - val_accuracy: 0.8893\n",
            "Epoch 11/15\n",
            "2368/2368 [==============================] - 482s 203ms/step - loss: 0.1209 - accuracy: 0.9628 - val_loss: 0.5402 - val_accuracy: 0.8840\n",
            "Epoch 12/15\n",
            "2368/2368 [==============================] - 483s 203ms/step - loss: 0.1076 - accuracy: 0.9674 - val_loss: 0.5598 - val_accuracy: 0.8827\n",
            "Epoch 13/15\n",
            "2368/2368 [==============================] - 463s 195ms/step - loss: 0.0972 - accuracy: 0.9703 - val_loss: 0.5412 - val_accuracy: 0.8829\n",
            "Epoch 14/15\n",
            "2368/2368 [==============================] - 462s 195ms/step - loss: 0.0900 - accuracy: 0.9726 - val_loss: 0.5783 - val_accuracy: 0.8835\n",
            "Epoch 15/15\n",
            "2368/2368 [==============================] - 485s 204ms/step - loss: 0.0811 - accuracy: 0.9752 - val_loss: 0.5679 - val_accuracy: 0.8837\n"
          ]
        }
      ]
    },
    {
      "cell_type": "markdown",
      "source": [
        "### Best Results on Feature Extration - No fine tuning required"
      ],
      "metadata": {
        "id": "wQ_E48GeSorJ"
      },
      "id": "wQ_E48GeSorJ"
    },
    {
      "cell_type": "code",
      "source": [
        "# Evaluate model (unsaved version) on whole test dataset\n",
        "results_feature_extract_convnext_Xtlarge = model.evaluate(test_data)\n",
        "results_feature_extract_convnext_Xtlarge"
      ],
      "metadata": {
        "colab": {
          "base_uri": "https://localhost:8080/"
        },
        "id": "fEP3To4cI8ql",
        "outputId": "777bf894-61dd-4ce6-8fdb-ee475f473c87"
      },
      "id": "fEP3To4cI8ql",
      "execution_count": null,
      "outputs": [
        {
          "output_type": "stream",
          "name": "stdout",
          "text": [
            "790/790 [==============================] - 145s 183ms/step - loss: 0.5676 - accuracy: 0.8833\n"
          ]
        },
        {
          "output_type": "execute_result",
          "data": {
            "text/plain": [
              "[0.5675535202026367, 0.8832871317863464]"
            ]
          },
          "metadata": {},
          "execution_count": 32
        }
      ]
    },
    {
      "cell_type": "markdown",
      "source": [
        "### Save Feature Extraction Model to Google Drive"
      ],
      "metadata": {
        "id": "LJt7XLEEI8Wg"
      },
      "id": "LJt7XLEEI8Wg"
    },
    {
      "cell_type": "code",
      "source": [
        "model.save(\"/content/drive/My Drive/Food Vision/food_vision_convnext_Xtlarge_feature_extraction.hdf5\")"
      ],
      "metadata": {
        "id": "7SXG-v2GI8Nc",
        "colab": {
          "base_uri": "https://localhost:8080/"
        },
        "outputId": "3fab19da-7f2e-4986-8495-f9226037b154"
      },
      "id": "7SXG-v2GI8Nc",
      "execution_count": null,
      "outputs": [
        {
          "output_type": "stream",
          "name": "stderr",
          "text": [
            "/usr/local/lib/python3.10/dist-packages/keras/src/engine/training.py:3078: UserWarning: You are saving your model as an HDF5 file via `model.save()`. This file format is considered legacy. We recommend using instead the native Keras format, e.g. `model.save('my_model.keras')`.\n",
            "  saving_api.save_model(\n"
          ]
        }
      ]
    },
    {
      "cell_type": "markdown",
      "source": [
        "## Base Model - Resnet152"
      ],
      "metadata": {
        "id": "HKgruWCmJ_PT"
      },
      "id": "HKgruWCmJ_PT"
    },
    {
      "cell_type": "code",
      "source": [
        "from tensorflow.keras import layers\n",
        "\n",
        "# Create base model\n",
        "input_shape = (224, 224, 3)\n",
        "base_model = tf.keras.applications.resnet.ResNet152(include_top=False)\n",
        "base_model.trainable = False # freeze base model layers\n",
        "\n",
        "# Create Functional model\n",
        "inputs = layers.Input(shape=input_shape, name=\"input_layer\")\n",
        "# Note: EfficientNetBX models have rescaling built-in but if your model didn't you could have a layer like below\n",
        "x = layers.Rescaling(1./255)(x)\n",
        "x = data_augmentation(inputs)\n",
        "x = base_model(inputs, training=False) # set base_model to inference mode only\n",
        "x = layers.GlobalAveragePooling2D(name=\"pooling_layer\")(x)\n",
        "x = layers.Dense(len(class_names))(x) # want one output neuron per class\n",
        "# Separate activation of output layer so we can output float32 activations\n",
        "outputs = layers.Activation(\"softmax\", dtype=tf.float32, name=\"softmax_float32\")(x)\n",
        "model = tf.keras.Model(inputs, outputs)\n",
        "\n",
        "# Compile the model\n",
        "model.compile(loss=\"sparse_categorical_crossentropy\", # Use sparse_categorical_crossentropy when labels are *not* one-hot\n",
        "              optimizer=tf.keras.optimizers.Adam(),\n",
        "              metrics=[\"accuracy\"])"
      ],
      "metadata": {
        "id": "YkNmcuoxJ_Ub"
      },
      "id": "YkNmcuoxJ_Ub",
      "execution_count": null,
      "outputs": []
    },
    {
      "cell_type": "code",
      "source": [
        "# Check out our model\n",
        "model.summary()"
      ],
      "metadata": {
        "colab": {
          "base_uri": "https://localhost:8080/"
        },
        "id": "LAhrmRWDJ_Yv",
        "outputId": "15feef72-806c-4b13-ff3e-ed240b3b3fff"
      },
      "id": "LAhrmRWDJ_Yv",
      "execution_count": null,
      "outputs": [
        {
          "output_type": "stream",
          "name": "stdout",
          "text": [
            "Model: \"model_1\"\n",
            "_________________________________________________________________\n",
            " Layer (type)                Output Shape              Param #   \n",
            "=================================================================\n",
            " input_layer (InputLayer)    [(None, 224, 224, 3)]     0         \n",
            "                                                                 \n",
            " resnet152 (Functional)      (None, None, None, 2048   58370944  \n",
            "                             )                                   \n",
            "                                                                 \n",
            " pooling_layer (GlobalAvera  (None, 2048)              0         \n",
            " gePooling2D)                                                    \n",
            "                                                                 \n",
            " dense_1 (Dense)             (None, 101)               206949    \n",
            "                                                                 \n",
            " softmax_float32 (Activatio  (None, 101)               0         \n",
            " n)                                                              \n",
            "                                                                 \n",
            "=================================================================\n",
            "Total params: 58577893 (223.46 MB)\n",
            "Trainable params: 206949 (808.39 KB)\n",
            "Non-trainable params: 58370944 (222.67 MB)\n",
            "_________________________________________________________________\n"
          ]
        }
      ]
    },
    {
      "cell_type": "code",
      "source": [
        "# Check the dtype_policy attributes of layers in our model\n",
        "for layer in model.layers:\n",
        "    print(layer.name, layer.trainable, layer.dtype, layer.dtype_policy) # Check the dtype policy of layers"
      ],
      "metadata": {
        "colab": {
          "base_uri": "https://localhost:8080/"
        },
        "id": "C7ZAbE4XJ_c2",
        "outputId": "da9aff9a-25ab-4c65-fe9a-0628b9754ba0"
      },
      "id": "C7ZAbE4XJ_c2",
      "execution_count": null,
      "outputs": [
        {
          "output_type": "stream",
          "name": "stdout",
          "text": [
            "input_layer True float32 <Policy \"float32\">\n",
            "resnet152 False float32 <Policy \"mixed_float16\">\n",
            "pooling_layer True float32 <Policy \"mixed_float16\">\n",
            "dense_1 True float32 <Policy \"mixed_float16\">\n",
            "softmax_float32 True float32 <Policy \"float32\">\n"
          ]
        }
      ]
    },
    {
      "cell_type": "code",
      "source": [
        "# Check the layers in the base model and see what dtype policy they're using\n",
        "for layer in model.layers[1].layers[:20]: # only check the first 20 layers to save output space\n",
        "    print(layer.name, layer.trainable, layer.dtype, layer.dtype_policy)"
      ],
      "metadata": {
        "colab": {
          "base_uri": "https://localhost:8080/"
        },
        "id": "YDBGHzksJ_gw",
        "outputId": "6d200290-7696-4934-c5a9-e47189c517f8"
      },
      "id": "YDBGHzksJ_gw",
      "execution_count": null,
      "outputs": [
        {
          "output_type": "stream",
          "name": "stdout",
          "text": [
            "input_2 False float32 <Policy \"float32\">\n",
            "conv1_pad False float32 <Policy \"mixed_float16\">\n",
            "conv1_conv False float32 <Policy \"mixed_float16\">\n",
            "conv1_bn False float32 <Policy \"mixed_float16\">\n",
            "conv1_relu False float32 <Policy \"mixed_float16\">\n",
            "pool1_pad False float32 <Policy \"mixed_float16\">\n",
            "pool1_pool False float32 <Policy \"mixed_float16\">\n",
            "conv2_block1_1_conv False float32 <Policy \"mixed_float16\">\n",
            "conv2_block1_1_bn False float32 <Policy \"mixed_float16\">\n",
            "conv2_block1_1_relu False float32 <Policy \"mixed_float16\">\n",
            "conv2_block1_2_conv False float32 <Policy \"mixed_float16\">\n",
            "conv2_block1_2_bn False float32 <Policy \"mixed_float16\">\n",
            "conv2_block1_2_relu False float32 <Policy \"mixed_float16\">\n",
            "conv2_block1_0_conv False float32 <Policy \"mixed_float16\">\n",
            "conv2_block1_3_conv False float32 <Policy \"mixed_float16\">\n",
            "conv2_block1_0_bn False float32 <Policy \"mixed_float16\">\n",
            "conv2_block1_3_bn False float32 <Policy \"mixed_float16\">\n",
            "conv2_block1_add False float32 <Policy \"mixed_float16\">\n",
            "conv2_block1_out False float32 <Policy \"mixed_float16\">\n",
            "conv2_block2_1_conv False float32 <Policy \"mixed_float16\">\n"
          ]
        }
      ]
    },
    {
      "cell_type": "markdown",
      "source": [
        "### Fit the feature Extraction Model"
      ],
      "metadata": {
        "id": "KIgnIrumPk8I"
      },
      "id": "KIgnIrumPk8I"
    },
    {
      "cell_type": "code",
      "source": [
        "model.summary()"
      ],
      "metadata": {
        "colab": {
          "base_uri": "https://localhost:8080/"
        },
        "id": "1rU2i-oIODr0",
        "outputId": "ac768d8e-cc8c-49eb-df99-958266f06bac"
      },
      "id": "1rU2i-oIODr0",
      "execution_count": null,
      "outputs": [
        {
          "output_type": "stream",
          "name": "stdout",
          "text": [
            "Model: \"model_1\"\n",
            "_________________________________________________________________\n",
            " Layer (type)                Output Shape              Param #   \n",
            "=================================================================\n",
            " input_layer (InputLayer)    [(None, 224, 224, 3)]     0         \n",
            "                                                                 \n",
            " resnet152 (Functional)      (None, None, None, 2048   58370944  \n",
            "                             )                                   \n",
            "                                                                 \n",
            " pooling_layer (GlobalAvera  (None, 2048)              0         \n",
            " gePooling2D)                                                    \n",
            "                                                                 \n",
            " dense_1 (Dense)             (None, 101)               206949    \n",
            "                                                                 \n",
            " softmax_float32 (Activatio  (None, 101)               0         \n",
            " n)                                                              \n",
            "                                                                 \n",
            "=================================================================\n",
            "Total params: 58577893 (223.46 MB)\n",
            "Trainable params: 206949 (808.39 KB)\n",
            "Non-trainable params: 58370944 (222.67 MB)\n",
            "_________________________________________________________________\n"
          ]
        }
      ]
    },
    {
      "cell_type": "code",
      "source": [
        "# Turn off all warnings except for errors\n",
        "tf.get_logger().setLevel('ERROR')\n",
        "\n",
        "# Fit the model with callbacks\n",
        "history_resnet150 = model.fit(train_data,\n",
        "                              epochs=5,\n",
        "                              steps_per_epoch=len(train_data),\n",
        "                              validation_data=test_data,\n",
        "                              validation_steps=int(0.15 * len(test_data)),\n",
        "                              callbacks=[create_tensorboard_callback(\"training_logs\",\n",
        "                              \"resnet150_feature_extract\"),\n",
        "                               model_checkpoint])"
      ],
      "metadata": {
        "colab": {
          "base_uri": "https://localhost:8080/"
        },
        "id": "VtXph5SzPlEl",
        "outputId": "87427e69-455a-4bde-8959-6c6a3ce2c0d4"
      },
      "id": "VtXph5SzPlEl",
      "execution_count": null,
      "outputs": [
        {
          "output_type": "stream",
          "name": "stdout",
          "text": [
            "Saving TensorBoard log files to: training_logs/resnet150_feature_extract/20230718-042330\n",
            "Epoch 1/5\n",
            "2368/2368 [==============================] - 196s 78ms/step - loss: 2.4934 - accuracy: 0.4217 - val_loss: 1.9827 - val_accuracy: 0.5244\n",
            "Epoch 2/5\n",
            "2368/2368 [==============================] - 180s 75ms/step - loss: 1.8629 - accuracy: 0.5477 - val_loss: 1.7649 - val_accuracy: 0.5599\n",
            "Epoch 3/5\n",
            "2368/2368 [==============================] - 133s 56ms/step - loss: 1.6286 - accuracy: 0.5929 - val_loss: 1.8073 - val_accuracy: 0.5636\n",
            "Epoch 4/5\n",
            "2368/2368 [==============================] - 130s 54ms/step - loss: 1.4709 - accuracy: 0.6235 - val_loss: 1.8591 - val_accuracy: 0.5572\n",
            "Epoch 5/5\n",
            "2368/2368 [==============================] - 131s 55ms/step - loss: 1.3507 - accuracy: 0.6495 - val_loss: 1.8652 - val_accuracy: 0.5773\n"
          ]
        }
      ]
    },
    {
      "cell_type": "code",
      "source": [
        "# Evaluate model (unsaved version) on whole test dataset\n",
        "results_feature_extract_resnet150 = model.evaluate(test_data)\n",
        "results_feature_extract_resnet150"
      ],
      "metadata": {
        "colab": {
          "base_uri": "https://localhost:8080/"
        },
        "id": "YonCFNACPlNY",
        "outputId": "53a14aa7-afa0-46af-8846-d3ce4b04d5a9"
      },
      "id": "YonCFNACPlNY",
      "execution_count": null,
      "outputs": [
        {
          "output_type": "stream",
          "name": "stdout",
          "text": [
            "790/790 [==============================] - 36s 46ms/step - loss: 1.8459 - accuracy: 0.5737\n"
          ]
        },
        {
          "output_type": "execute_result",
          "data": {
            "text/plain": [
              "[1.8458950519561768, 0.5737029910087585]"
            ]
          },
          "metadata": {},
          "execution_count": 48
        }
      ]
    },
    {
      "cell_type": "code",
      "source": [
        "# Check the layers in the base model and see what dtype policy they're using\n",
        "for layer in model.layers[1].layers[:20]: # check only the first 20 layers to save printing space\n",
        "    print(layer.name, layer.trainable, layer.dtype, layer.dtype_policy)"
      ],
      "metadata": {
        "id": "cy-a8XBuPlZp",
        "colab": {
          "base_uri": "https://localhost:8080/"
        },
        "outputId": "f2af1a44-8d98-4899-8af0-f1795d24dba4"
      },
      "id": "cy-a8XBuPlZp",
      "execution_count": null,
      "outputs": [
        {
          "output_type": "stream",
          "name": "stdout",
          "text": [
            "input_2 False float32 <Policy \"float32\">\n",
            "conv1_pad False float32 <Policy \"mixed_float16\">\n",
            "conv1_conv False float32 <Policy \"mixed_float16\">\n",
            "conv1_bn False float32 <Policy \"mixed_float16\">\n",
            "conv1_relu False float32 <Policy \"mixed_float16\">\n",
            "pool1_pad False float32 <Policy \"mixed_float16\">\n",
            "pool1_pool False float32 <Policy \"mixed_float16\">\n",
            "conv2_block1_1_conv False float32 <Policy \"mixed_float16\">\n",
            "conv2_block1_1_bn False float32 <Policy \"mixed_float16\">\n",
            "conv2_block1_1_relu False float32 <Policy \"mixed_float16\">\n",
            "conv2_block1_2_conv False float32 <Policy \"mixed_float16\">\n",
            "conv2_block1_2_bn False float32 <Policy \"mixed_float16\">\n",
            "conv2_block1_2_relu False float32 <Policy \"mixed_float16\">\n",
            "conv2_block1_0_conv False float32 <Policy \"mixed_float16\">\n",
            "conv2_block1_3_conv False float32 <Policy \"mixed_float16\">\n",
            "conv2_block1_0_bn False float32 <Policy \"mixed_float16\">\n",
            "conv2_block1_3_bn False float32 <Policy \"mixed_float16\">\n",
            "conv2_block1_add False float32 <Policy \"mixed_float16\">\n",
            "conv2_block1_out False float32 <Policy \"mixed_float16\">\n",
            "conv2_block2_1_conv False float32 <Policy \"mixed_float16\">\n"
          ]
        }
      ]
    },
    {
      "cell_type": "markdown",
      "source": [
        "### Save Feature Extraction Model to Google Drive"
      ],
      "metadata": {
        "id": "aelGufjdPleb"
      },
      "id": "aelGufjdPleb"
    },
    {
      "cell_type": "code",
      "source": [
        "model.save(\"/content/drive/My Drive/Food Vision/food_vision_resnet150_feature_extraction.hdf5\")"
      ],
      "metadata": {
        "id": "ck2pQFF7PljO",
        "colab": {
          "base_uri": "https://localhost:8080/"
        },
        "outputId": "745ab031-7745-45fe-9feb-03f48fe2b877"
      },
      "id": "ck2pQFF7PljO",
      "execution_count": null,
      "outputs": [
        {
          "output_type": "stream",
          "name": "stderr",
          "text": [
            "/usr/local/lib/python3.10/dist-packages/keras/src/engine/training.py:3078: UserWarning: You are saving your model as an HDF5 file via `model.save()`. This file format is considered legacy. We recommend using instead the native Keras format, e.g. `model.save('my_model.keras')`.\n",
            "  saving_api.save_model(\n"
          ]
        }
      ]
    },
    {
      "cell_type": "code",
      "source": [
        "# Load model previously saved above\n",
        "loaded_saved_model = tf.keras.models.load_model(\"/content/drive/My Drive/Food Vision/food_vision_resnet150_feature_extraction.hdf5\")"
      ],
      "metadata": {
        "id": "8dkHojfxPlna"
      },
      "id": "8dkHojfxPlna",
      "execution_count": null,
      "outputs": []
    },
    {
      "cell_type": "code",
      "source": [
        "# Check loaded model performance (this should be the same as results_feature_extract_model)\n",
        "results_loaded_saved_model = loaded_saved_model.evaluate(test_data)\n",
        "results_loaded_saved_model"
      ],
      "metadata": {
        "id": "3XRIlo6iPlrc",
        "colab": {
          "base_uri": "https://localhost:8080/"
        },
        "outputId": "dc9e2973-da2c-4157-b3bf-671b618b33b5"
      },
      "id": "3XRIlo6iPlrc",
      "execution_count": null,
      "outputs": [
        {
          "output_type": "stream",
          "name": "stdout",
          "text": [
            "790/790 [==============================] - 43s 50ms/step - loss: 1.8459 - accuracy: 0.5737\n"
          ]
        },
        {
          "output_type": "execute_result",
          "data": {
            "text/plain": [
              "[1.845895528793335, 0.5737029910087585]"
            ]
          },
          "metadata": {},
          "execution_count": 53
        }
      ]
    },
    {
      "cell_type": "markdown",
      "source": [
        "### Preparing our model's layers for fine-tuning"
      ],
      "metadata": {
        "id": "rSosbsGjPlvN"
      },
      "id": "rSosbsGjPlvN"
    },
    {
      "cell_type": "code",
      "source": [
        "# Are any of the layers in our model frozen?\n",
        "for layer in model.layers:\n",
        "    layer.trainable = True # set all layers to trainable\n",
        "    print(layer.name, layer.trainable, layer.dtype, layer.dtype_policy) # make sure loaded model is using mixed precision dtype_policy (\"mixed_float16\")"
      ],
      "metadata": {
        "id": "ZUPodAFdPlzI",
        "colab": {
          "base_uri": "https://localhost:8080/"
        },
        "outputId": "a47de5e6-4a65-4c3b-b44c-313449b5e35c"
      },
      "id": "ZUPodAFdPlzI",
      "execution_count": null,
      "outputs": [
        {
          "output_type": "stream",
          "name": "stdout",
          "text": [
            "input_layer True float32 <Policy \"float32\">\n",
            "resnet152 True float32 <Policy \"mixed_float16\">\n",
            "pooling_layer True float32 <Policy \"mixed_float16\">\n",
            "dense_1 True float32 <Policy \"mixed_float16\">\n",
            "softmax_float32 True float32 <Policy \"float32\">\n"
          ]
        }
      ]
    },
    {
      "cell_type": "code",
      "source": [
        "# Check the layers in the base model and see what dtype policy they're using\n",
        "for layer in model.layers[1].layers[:20]:\n",
        "    print(layer.name, layer.trainable, layer.dtype, layer.dtype_policy)"
      ],
      "metadata": {
        "id": "x6w3ySNKPl2v",
        "colab": {
          "base_uri": "https://localhost:8080/"
        },
        "outputId": "0c4edc94-4eed-403e-9696-99c1a50a159f"
      },
      "id": "x6w3ySNKPl2v",
      "execution_count": null,
      "outputs": [
        {
          "output_type": "stream",
          "name": "stdout",
          "text": [
            "input_2 True float32 <Policy \"float32\">\n",
            "conv1_pad True float32 <Policy \"mixed_float16\">\n",
            "conv1_conv True float32 <Policy \"mixed_float16\">\n",
            "conv1_bn True float32 <Policy \"mixed_float16\">\n",
            "conv1_relu True float32 <Policy \"mixed_float16\">\n",
            "pool1_pad True float32 <Policy \"mixed_float16\">\n",
            "pool1_pool True float32 <Policy \"mixed_float16\">\n",
            "conv2_block1_1_conv True float32 <Policy \"mixed_float16\">\n",
            "conv2_block1_1_bn True float32 <Policy \"mixed_float16\">\n",
            "conv2_block1_1_relu True float32 <Policy \"mixed_float16\">\n",
            "conv2_block1_2_conv True float32 <Policy \"mixed_float16\">\n",
            "conv2_block1_2_bn True float32 <Policy \"mixed_float16\">\n",
            "conv2_block1_2_relu True float32 <Policy \"mixed_float16\">\n",
            "conv2_block1_0_conv True float32 <Policy \"mixed_float16\">\n",
            "conv2_block1_3_conv True float32 <Policy \"mixed_float16\">\n",
            "conv2_block1_0_bn True float32 <Policy \"mixed_float16\">\n",
            "conv2_block1_3_bn True float32 <Policy \"mixed_float16\">\n",
            "conv2_block1_add True float32 <Policy \"mixed_float16\">\n",
            "conv2_block1_out True float32 <Policy \"mixed_float16\">\n",
            "conv2_block2_1_conv True float32 <Policy \"mixed_float16\">\n"
          ]
        }
      ]
    },
    {
      "cell_type": "code",
      "source": [
        "# Compile the model\n",
        "model.compile(loss=\"sparse_categorical_crossentropy\", # sparse_categorical_crossentropy for labels that are *not* one-hot\n",
        "                        optimizer=tf.keras.optimizers.Adam(0.0001), # 10x lower learning rate than the default\n",
        "                        metrics=[\"accuracy\"])"
      ],
      "metadata": {
        "id": "u2919alZPl6U"
      },
      "id": "u2919alZPl6U",
      "execution_count": null,
      "outputs": []
    },
    {
      "cell_type": "markdown",
      "source": [
        "### Fit the fine tuning model"
      ],
      "metadata": {
        "id": "-zWsNWR5Pl91"
      },
      "id": "-zWsNWR5Pl91"
    },
    {
      "cell_type": "code",
      "source": [
        "# Start to fine-tune (all layers)\n",
        "history_resnet150_fine_tuning = model.fit(train_data,\n",
        "                                          epochs=100, # fine-tune for a maximum of 100 epochs\n",
        "                                          steps_per_epoch=len(train_data),\n",
        "                                          validation_data=test_data,\n",
        "                                          validation_steps=int(0.15 * len(test_data)), # validation during training on 15% of test data\n",
        "                                          callbacks=[create_tensorboard_callback(\"training_logs\", \"resnet150_fine_tuning\"), # track the model training logs\n",
        "                                          model_checkpoint, # save only the best model during training\n",
        "                                          early_stopping, # stop model after X epochs of no improvements\n",
        "                                          reduce_lr]) # reduce the learning rate after X epochs of no improvements"
      ],
      "metadata": {
        "id": "zuKKjO7tPmBi",
        "colab": {
          "base_uri": "https://localhost:8080/"
        },
        "outputId": "c2185ab3-5670-40b3-9207-49a6ecc6aeb7"
      },
      "id": "zuKKjO7tPmBi",
      "execution_count": null,
      "outputs": [
        {
          "output_type": "stream",
          "name": "stdout",
          "text": [
            "Saving TensorBoard log files to: training_logs/resnet150_fine_tuning/20230718-044412\n",
            "Epoch 1/100\n",
            "2368/2368 [==============================] - 571s 240ms/step - loss: 1.6759 - accuracy: 0.5701 - val_loss: 1.3216 - val_accuracy: 0.6576 - lr: 1.0000e-04\n",
            "Epoch 2/100\n",
            "2368/2368 [==============================] - 561s 236ms/step - loss: 1.0390 - accuracy: 0.7200 - val_loss: 1.0622 - val_accuracy: 0.7076 - lr: 1.0000e-04\n",
            "Epoch 3/100\n",
            "2368/2368 [==============================] - 475s 200ms/step - loss: 0.6837 - accuracy: 0.8075 - val_loss: 1.0748 - val_accuracy: 0.7148 - lr: 1.0000e-04\n",
            "Epoch 4/100\n",
            "2368/2368 [==============================] - ETA: 0s - loss: 0.4307 - accuracy: 0.8748\n",
            "Epoch 4: ReduceLROnPlateau reducing learning rate to 1.9999999494757503e-05.\n",
            "2368/2368 [==============================] - 481s 203ms/step - loss: 0.4307 - accuracy: 0.8748 - val_loss: 1.1298 - val_accuracy: 0.7248 - lr: 1.0000e-04\n",
            "Epoch 5/100\n",
            "2368/2368 [==============================] - 551s 232ms/step - loss: 0.0632 - accuracy: 0.9823 - val_loss: 0.9790 - val_accuracy: 0.7910 - lr: 2.0000e-05\n",
            "Epoch 6/100\n",
            "2368/2368 [==============================] - 483s 204ms/step - loss: 0.0119 - accuracy: 0.9974 - val_loss: 1.1958 - val_accuracy: 0.7781 - lr: 2.0000e-05\n",
            "Epoch 7/100\n",
            "2368/2368 [==============================] - ETA: 0s - loss: 0.0148 - accuracy: 0.9963\n",
            "Epoch 7: ReduceLROnPlateau reducing learning rate to 3.999999898951501e-06.\n",
            "2368/2368 [==============================] - 477s 201ms/step - loss: 0.0148 - accuracy: 0.9963 - val_loss: 1.2634 - val_accuracy: 0.7662 - lr: 2.0000e-05\n",
            "Epoch 8/100\n",
            "2368/2368 [==============================] - 477s 201ms/step - loss: 0.0027 - accuracy: 0.9997 - val_loss: 1.1783 - val_accuracy: 0.8061 - lr: 4.0000e-06\n",
            "Epoch 9/100\n",
            "2368/2368 [==============================] - ETA: 0s - loss: 7.4694e-04 - accuracy: 0.9999\n",
            "Epoch 9: ReduceLROnPlateau reducing learning rate to 7.999999979801942e-07.\n",
            "2368/2368 [==============================] - 480s 202ms/step - loss: 7.4694e-04 - accuracy: 0.9999 - val_loss: 1.2734 - val_accuracy: 0.8067 - lr: 4.0000e-06\n",
            "Epoch 10/100\n",
            "2368/2368 [==============================] - 479s 202ms/step - loss: 3.4969e-04 - accuracy: 1.0000 - val_loss: 1.3282 - val_accuracy: 0.8067 - lr: 8.0000e-07\n",
            "Epoch 11/100\n",
            "2368/2368 [==============================] - ETA: 0s - loss: 2.8624e-04 - accuracy: 1.0000\n",
            "Epoch 11: ReduceLROnPlateau reducing learning rate to 1.600000018697756e-07.\n",
            "2368/2368 [==============================] - 485s 204ms/step - loss: 2.8624e-04 - accuracy: 1.0000 - val_loss: 1.3901 - val_accuracy: 0.8048 - lr: 8.0000e-07\n",
            "Epoch 12/100\n",
            "2368/2368 [==============================] - 495s 209ms/step - loss: 1.5672e-04 - accuracy: 1.0000 - val_loss: 1.3990 - val_accuracy: 0.8051 - lr: 1.6000e-07\n",
            "Epoch 13/100\n",
            "2368/2368 [==============================] - ETA: 0s - loss: 1.3897e-04 - accuracy: 1.0000\n",
            "Epoch 13: ReduceLROnPlateau reducing learning rate to 1e-07.\n",
            "2368/2368 [==============================] - 477s 201ms/step - loss: 1.3897e-04 - accuracy: 1.0000 - val_loss: 1.4238 - val_accuracy: 0.8043 - lr: 1.6000e-07\n"
          ]
        }
      ]
    },
    {
      "cell_type": "markdown",
      "source": [
        "### Save Fine Tuned Model to Google Drive"
      ],
      "metadata": {
        "id": "i9wjIQDfPmFD"
      },
      "id": "i9wjIQDfPmFD"
    },
    {
      "cell_type": "code",
      "source": [
        "model.save(\"/content/drive/My Drive/Food Vision/food_vision_resnet150_fine_tuned.hdf5\")"
      ],
      "metadata": {
        "id": "gFpBV8yjQfPt",
        "colab": {
          "base_uri": "https://localhost:8080/"
        },
        "outputId": "fd27fc1d-912d-4154-8934-d72595d31a7f"
      },
      "id": "gFpBV8yjQfPt",
      "execution_count": null,
      "outputs": [
        {
          "output_type": "stream",
          "name": "stderr",
          "text": [
            "/usr/local/lib/python3.10/dist-packages/keras/src/engine/training.py:3078: UserWarning: You are saving your model as an HDF5 file via `model.save()`. This file format is considered legacy. We recommend using instead the native Keras format, e.g. `model.save('my_model.keras')`.\n",
            "  saving_api.save_model(\n"
          ]
        }
      ]
    },
    {
      "cell_type": "code",
      "source": [
        "# Load in fine-tuned model from Google Storage and evaluate\n",
        "loaded_fine_tuned_model = tf.keras.models.load_model(\"/content/drive/My Drive/Food Vision/food_vision_resnet150_fine_tuned.hdf5\")"
      ],
      "metadata": {
        "id": "Q9Etm9eoQfHL"
      },
      "id": "Q9Etm9eoQfHL",
      "execution_count": null,
      "outputs": []
    },
    {
      "cell_type": "code",
      "source": [
        "# Get a model summary (same model architecture as above)\n",
        "loaded_fine_tuned_model.summary()"
      ],
      "metadata": {
        "id": "Ea_g6gA4Qe93",
        "colab": {
          "base_uri": "https://localhost:8080/"
        },
        "outputId": "25c23036-8ff2-431b-9f3d-79557390e376"
      },
      "id": "Ea_g6gA4Qe93",
      "execution_count": null,
      "outputs": [
        {
          "output_type": "stream",
          "name": "stdout",
          "text": [
            "Model: \"model_1\"\n",
            "_________________________________________________________________\n",
            " Layer (type)                Output Shape              Param #   \n",
            "=================================================================\n",
            " input_layer (InputLayer)    [(None, 224, 224, 3)]     0         \n",
            "                                                                 \n",
            " resnet152 (Functional)      (None, None, None, 2048   58370944  \n",
            "                             )                                   \n",
            "                                                                 \n",
            " pooling_layer (GlobalAvera  (None, 2048)              0         \n",
            " gePooling2D)                                                    \n",
            "                                                                 \n",
            " dense_1 (Dense)             (None, 101)               206949    \n",
            "                                                                 \n",
            " softmax_float32 (Activatio  (None, 101)               0         \n",
            " n)                                                              \n",
            "                                                                 \n",
            "=================================================================\n",
            "Total params: 58577893 (223.46 MB)\n",
            "Trainable params: 58426469 (222.88 MB)\n",
            "Non-trainable params: 151424 (591.50 KB)\n",
            "_________________________________________________________________\n"
          ]
        }
      ]
    },
    {
      "cell_type": "code",
      "source": [
        "# Note: Even if you're loading in the model from Google Storage, you will still need to load the test_data variable for this cell to work\n",
        "results_downloaded_fine_tuned_model = loaded_fine_tuned_model.evaluate(test_data)\n",
        "results_downloaded_fine_tuned_model"
      ],
      "metadata": {
        "id": "VUJ_OBphQezx",
        "colab": {
          "base_uri": "https://localhost:8080/"
        },
        "outputId": "6ad8a86f-039a-4feb-ae35-b93c7c18e94b"
      },
      "id": "VUJ_OBphQezx",
      "execution_count": null,
      "outputs": [
        {
          "output_type": "stream",
          "name": "stdout",
          "text": [
            "790/790 [==============================] - 43s 49ms/step - loss: 1.4930 - accuracy: 0.7977\n"
          ]
        },
        {
          "output_type": "execute_result",
          "data": {
            "text/plain": [
              "[1.4929630756378174, 0.7977425456047058]"
            ]
          },
          "metadata": {},
          "execution_count": 63
        }
      ]
    },
    {
      "cell_type": "markdown",
      "source": [
        "## Base Model - RegNetY320\n"
      ],
      "metadata": {
        "id": "bLd_MLt3QeqT"
      },
      "id": "bLd_MLt3QeqT"
    },
    {
      "cell_type": "code",
      "source": [
        "from tensorflow.keras import layers\n",
        "\n",
        "# Create base model\n",
        "input_shape = (224, 224, 3)\n",
        "base_model = tf.keras.applications.regnet.RegNetY320(include_top=False)\n",
        "base_model.trainable = False # freeze base model layers\n",
        "\n",
        "# Create Functional model\n",
        "inputs = layers.Input(shape=input_shape, name=\"input_layer\")\n",
        "# Note: EfficientNetBX models have rescaling built-in but if your model didn't you could have a layer like below\n",
        "x = layers.Rescaling(1./255)(x)\n",
        "x = data_augmentation(inputs)\n",
        "x = base_model(inputs, training=False) # set base_model to inference mode only\n",
        "x = layers.GlobalAveragePooling2D(name=\"pooling_layer\")(x)\n",
        "x = layers.Dense(len(class_names))(x) # want one output neuron per class\n",
        "# Separate activation of output layer so we can output float32 activations\n",
        "outputs = layers.Activation(\"softmax\", dtype=tf.float32, name=\"softmax_float32\")(x)\n",
        "model = tf.keras.Model(inputs, outputs)\n",
        "\n",
        "# Compile the model\n",
        "model.compile(loss=\"sparse_categorical_crossentropy\", # Use sparse_categorical_crossentropy when labels are *not* one-hot\n",
        "              optimizer=tf.keras.optimizers.Adam(),\n",
        "              metrics=[\"accuracy\"])"
      ],
      "metadata": {
        "id": "KEyOFIriQegd",
        "colab": {
          "base_uri": "https://localhost:8080/"
        },
        "outputId": "4664a3ca-68f0-4a3b-c7cc-6b219446077d"
      },
      "id": "KEyOFIriQegd",
      "execution_count": null,
      "outputs": [
        {
          "output_type": "stream",
          "name": "stdout",
          "text": [
            "Downloading data from https://storage.googleapis.com/tensorflow/keras-applications/regnet/regnety320_notop.h5\n",
            "566841248/566841248 [==============================] - 4s 0us/step\n"
          ]
        }
      ]
    },
    {
      "cell_type": "code",
      "source": [
        "# Check out our model\n",
        "model.summary()"
      ],
      "metadata": {
        "id": "K8DH-2UBQeXi",
        "colab": {
          "base_uri": "https://localhost:8080/"
        },
        "outputId": "f303b772-1b98-4b3d-eb6b-1004abdf8fc0"
      },
      "id": "K8DH-2UBQeXi",
      "execution_count": null,
      "outputs": [
        {
          "output_type": "stream",
          "name": "stdout",
          "text": [
            "Model: \"model_2\"\n",
            "_________________________________________________________________\n",
            " Layer (type)                Output Shape              Param #   \n",
            "=================================================================\n",
            " input_layer (InputLayer)    [(None, 224, 224, 3)]     0         \n",
            "                                                                 \n",
            " regnety320 (Functional)     (None, None, None, 3712   141492058 \n",
            "                             )                                   \n",
            "                                                                 \n",
            " pooling_layer (GlobalAvera  (None, 3712)              0         \n",
            " gePooling2D)                                                    \n",
            "                                                                 \n",
            " dense_2 (Dense)             (None, 101)               375013    \n",
            "                                                                 \n",
            " softmax_float32 (Activatio  (None, 101)               0         \n",
            " n)                                                              \n",
            "                                                                 \n",
            "=================================================================\n",
            "Total params: 141867071 (541.18 MB)\n",
            "Trainable params: 375013 (1.43 MB)\n",
            "Non-trainable params: 141492058 (539.75 MB)\n",
            "_________________________________________________________________\n"
          ]
        }
      ]
    },
    {
      "cell_type": "code",
      "source": [
        "# Check the dtype_policy attributes of layers in our model\n",
        "for layer in model.layers:\n",
        "    print(layer.name, layer.trainable, layer.dtype, layer.dtype_policy) # Check the dtype policy of layers"
      ],
      "metadata": {
        "id": "RqjawQp_QePF",
        "colab": {
          "base_uri": "https://localhost:8080/"
        },
        "outputId": "8fc6b9c4-2277-43e0-b039-1e77bde9a868"
      },
      "id": "RqjawQp_QePF",
      "execution_count": null,
      "outputs": [
        {
          "output_type": "stream",
          "name": "stdout",
          "text": [
            "input_layer True float32 <Policy \"float32\">\n",
            "regnety320 False float32 <Policy \"mixed_float16\">\n",
            "pooling_layer True float32 <Policy \"mixed_float16\">\n",
            "dense_2 True float32 <Policy \"mixed_float16\">\n",
            "softmax_float32 True float32 <Policy \"float32\">\n"
          ]
        }
      ]
    },
    {
      "cell_type": "code",
      "source": [
        "# Check the layers in the base model and see what dtype policy they're using\n",
        "for layer in model.layers[1].layers[:20]: # only check the first 20 layers to save output space\n",
        "    print(layer.name, layer.trainable, layer.dtype, layer.dtype_policy)"
      ],
      "metadata": {
        "id": "_AZ1K2ydQeFu",
        "colab": {
          "base_uri": "https://localhost:8080/"
        },
        "outputId": "7eaee648-c801-4559-8eec-5a2fb2ca8474"
      },
      "id": "_AZ1K2ydQeFu",
      "execution_count": null,
      "outputs": [
        {
          "output_type": "stream",
          "name": "stdout",
          "text": [
            "input_3 False float32 <Policy \"float32\">\n",
            "regnety320_prestem_rescaling False float32 <Policy \"mixed_float16\">\n",
            "regnety320_stem_conv False float32 <Policy \"mixed_float16\">\n",
            "regnety320_stem_bn False float32 <Policy \"mixed_float16\">\n",
            "regnety320_stem_relu False float32 <Policy \"mixed_float16\">\n",
            "regnety320_Stage_0_YBlock_0_conv_1x1_1 False float32 <Policy \"mixed_float16\">\n",
            "regnety320_Stage_0_YBlock_0_conv_1x1_1_bn False float32 <Policy \"mixed_float16\">\n",
            "regnety320_Stage_0_YBlock_0_conv_1x1_1_relu False float32 <Policy \"mixed_float16\">\n",
            "regnety320_Stage_0_YBlock_0_conv_3x3 False float32 <Policy \"mixed_float16\">\n",
            "regnety320_Stage_0_YBlock_0_conv_3x3_bn False float32 <Policy \"mixed_float16\">\n",
            "regnety320_Stage_0_YBlock_0_conv_3x3_relu False float32 <Policy \"mixed_float16\">\n",
            "regnety320_Stage_0_YBlock_0_squeeze_and_excite_gap False float32 <Policy \"mixed_float16\">\n",
            "regnety320_Stage_0_YBlock_0_squeeze_and_excite_squeeze False float32 <Policy \"mixed_float16\">\n",
            "regnety320_Stage_0_YBlock_0_squeeze_and_excite_excite False float32 <Policy \"mixed_float16\">\n",
            "tf.math.multiply False float32 <Policy \"mixed_float16\">\n",
            "regnety320_Stage_0_YBlock_0_conv_1x1_2 False float32 <Policy \"mixed_float16\">\n",
            "regnety320_Stage_0_YBlock_0_skip_1x1 False float32 <Policy \"mixed_float16\">\n",
            "regnety320_Stage_0_YBlock_0_conv_1x1_2_bn False float32 <Policy \"mixed_float16\">\n",
            "regnety320_Stage_0_YBlock_0_skip_bn False float32 <Policy \"mixed_float16\">\n",
            "tf.__operators__.add_36 False float32 <Policy \"mixed_float16\">\n"
          ]
        }
      ]
    },
    {
      "cell_type": "markdown",
      "source": [
        "### Fit the feature Extraction Model"
      ],
      "metadata": {
        "id": "Gya-i4FfQd-u"
      },
      "id": "Gya-i4FfQd-u"
    },
    {
      "cell_type": "code",
      "source": [
        "model.summary()"
      ],
      "metadata": {
        "id": "LC4egS0uQd25",
        "colab": {
          "base_uri": "https://localhost:8080/"
        },
        "outputId": "28636a56-27d6-4c55-8f48-5e3850f961c7"
      },
      "id": "LC4egS0uQd25",
      "execution_count": null,
      "outputs": [
        {
          "output_type": "stream",
          "name": "stdout",
          "text": [
            "Model: \"model_2\"\n",
            "_________________________________________________________________\n",
            " Layer (type)                Output Shape              Param #   \n",
            "=================================================================\n",
            " input_layer (InputLayer)    [(None, 224, 224, 3)]     0         \n",
            "                                                                 \n",
            " regnety320 (Functional)     (None, None, None, 3712   141492058 \n",
            "                             )                                   \n",
            "                                                                 \n",
            " pooling_layer (GlobalAvera  (None, 3712)              0         \n",
            " gePooling2D)                                                    \n",
            "                                                                 \n",
            " dense_2 (Dense)             (None, 101)               375013    \n",
            "                                                                 \n",
            " softmax_float32 (Activatio  (None, 101)               0         \n",
            " n)                                                              \n",
            "                                                                 \n",
            "=================================================================\n",
            "Total params: 141867071 (541.18 MB)\n",
            "Trainable params: 375013 (1.43 MB)\n",
            "Non-trainable params: 141492058 (539.75 MB)\n",
            "_________________________________________________________________\n"
          ]
        }
      ]
    },
    {
      "cell_type": "code",
      "source": [
        "# Turn off all warnings except for errors\n",
        "tf.get_logger().setLevel('ERROR')\n",
        "\n",
        "# Fit the model with callbacks\n",
        "history_regnet_RegNetY320 = model.fit(train_data,\n",
        "                              epochs=5,\n",
        "                              steps_per_epoch=len(train_data),\n",
        "                              validation_data=test_data,\n",
        "                              validation_steps=int(0.15 * len(test_data)),\n",
        "                              callbacks=[create_tensorboard_callback(\"training_logs\",\n",
        "                              \"regnet.RegNetY320_feature_extract\"),\n",
        "                               model_checkpoint])"
      ],
      "metadata": {
        "colab": {
          "base_uri": "https://localhost:8080/"
        },
        "id": "aJu16_AlPFv5",
        "outputId": "129eeb8c-4ff8-479d-8888-e16ad286bf35"
      },
      "id": "aJu16_AlPFv5",
      "execution_count": null,
      "outputs": [
        {
          "output_type": "stream",
          "name": "stdout",
          "text": [
            "Saving TensorBoard log files to: training_logs/regnet.RegNetY320_feature_extract/20230718-135046\n",
            "Epoch 1/5\n",
            "2368/2368 [==============================] - 204s 86ms/step - loss: 1.3491 - accuracy: 0.6545 - val_loss: 0.9712 - val_accuracy: 0.7391\n",
            "Epoch 2/5\n",
            "2368/2368 [==============================] - 200s 84ms/step - loss: 1.0677 - accuracy: 0.7189 - val_loss: 0.9210 - val_accuracy: 0.7484\n",
            "Epoch 3/5\n",
            "2368/2368 [==============================] - 203s 85ms/step - loss: 0.9329 - accuracy: 0.7521 - val_loss: 0.8372 - val_accuracy: 0.7654\n",
            "Epoch 4/5\n",
            "2368/2368 [==============================] - 208s 87ms/step - loss: 0.8344 - accuracy: 0.7751 - val_loss: 0.8375 - val_accuracy: 0.7669\n",
            "Epoch 5/5\n",
            "2368/2368 [==============================] - 203s 85ms/step - loss: 0.7592 - accuracy: 0.7939 - val_loss: 0.8152 - val_accuracy: 0.7749\n"
          ]
        }
      ]
    },
    {
      "cell_type": "code",
      "source": [
        "# Evaluate model (unsaved version) on whole test dataset\n",
        "results_feature_extract_RegNetY320 = model.evaluate(test_data)\n",
        "results_feature_extract_RegNetY320"
      ],
      "metadata": {
        "colab": {
          "base_uri": "https://localhost:8080/"
        },
        "id": "ou2oMrSCPF1k",
        "outputId": "14757c13-e30d-46f5-afe8-9e5c3e636efc"
      },
      "id": "ou2oMrSCPF1k",
      "execution_count": null,
      "outputs": [
        {
          "output_type": "stream",
          "name": "stdout",
          "text": [
            "790/790 [==============================] - 58s 74ms/step - loss: 0.8392 - accuracy: 0.7704\n"
          ]
        },
        {
          "output_type": "execute_result",
          "data": {
            "text/plain": [
              "[0.8391509652137756, 0.7704158425331116]"
            ]
          },
          "metadata": {},
          "execution_count": 48
        }
      ]
    },
    {
      "cell_type": "code",
      "source": [
        "# Check the layers in the base model and see what dtype policy they're using\n",
        "for layer in model.layers[1].layers[:20]: # check only the first 20 layers to save printing space\n",
        "    print(layer.name, layer.trainable, layer.dtype, layer.dtype_policy)"
      ],
      "metadata": {
        "colab": {
          "base_uri": "https://localhost:8080/"
        },
        "id": "8MRcrZtrPF7G",
        "outputId": "f97720b9-d406-40fc-bc39-77941b115dde"
      },
      "id": "8MRcrZtrPF7G",
      "execution_count": null,
      "outputs": [
        {
          "output_type": "stream",
          "name": "stdout",
          "text": [
            "input_3 False float32 <Policy \"float32\">\n",
            "regnety320_prestem_rescaling False float32 <Policy \"mixed_float16\">\n",
            "regnety320_stem_conv False float32 <Policy \"mixed_float16\">\n",
            "regnety320_stem_bn False float32 <Policy \"mixed_float16\">\n",
            "regnety320_stem_relu False float32 <Policy \"mixed_float16\">\n",
            "regnety320_Stage_0_YBlock_0_conv_1x1_1 False float32 <Policy \"mixed_float16\">\n",
            "regnety320_Stage_0_YBlock_0_conv_1x1_1_bn False float32 <Policy \"mixed_float16\">\n",
            "regnety320_Stage_0_YBlock_0_conv_1x1_1_relu False float32 <Policy \"mixed_float16\">\n",
            "regnety320_Stage_0_YBlock_0_conv_3x3 False float32 <Policy \"mixed_float16\">\n",
            "regnety320_Stage_0_YBlock_0_conv_3x3_bn False float32 <Policy \"mixed_float16\">\n",
            "regnety320_Stage_0_YBlock_0_conv_3x3_relu False float32 <Policy \"mixed_float16\">\n",
            "regnety320_Stage_0_YBlock_0_squeeze_and_excite_gap False float32 <Policy \"mixed_float16\">\n",
            "regnety320_Stage_0_YBlock_0_squeeze_and_excite_squeeze False float32 <Policy \"mixed_float16\">\n",
            "regnety320_Stage_0_YBlock_0_squeeze_and_excite_excite False float32 <Policy \"mixed_float16\">\n",
            "tf.math.multiply False float32 <Policy \"mixed_float16\">\n",
            "regnety320_Stage_0_YBlock_0_conv_1x1_2 False float32 <Policy \"mixed_float16\">\n",
            "regnety320_Stage_0_YBlock_0_skip_1x1 False float32 <Policy \"mixed_float16\">\n",
            "regnety320_Stage_0_YBlock_0_conv_1x1_2_bn False float32 <Policy \"mixed_float16\">\n",
            "regnety320_Stage_0_YBlock_0_skip_bn False float32 <Policy \"mixed_float16\">\n",
            "tf.__operators__.add_36 False float32 <Policy \"mixed_float16\">\n"
          ]
        }
      ]
    },
    {
      "cell_type": "markdown",
      "source": [
        "### Save Feature Extraction Model to Google Drive"
      ],
      "metadata": {
        "id": "sgdvLis6PGAG"
      },
      "id": "sgdvLis6PGAG"
    },
    {
      "cell_type": "code",
      "source": [
        "model.save(\"/content/drive/My Drive/Food Vision/food_vision_RegNetY320_feature_extraction.hdf5\")"
      ],
      "metadata": {
        "colab": {
          "base_uri": "https://localhost:8080/"
        },
        "id": "sq7FdnIZPGEo",
        "outputId": "8c8814f0-23c0-4f69-8266-2c349768bd86"
      },
      "id": "sq7FdnIZPGEo",
      "execution_count": null,
      "outputs": [
        {
          "output_type": "stream",
          "name": "stderr",
          "text": [
            "/usr/local/lib/python3.10/dist-packages/keras/src/engine/training.py:3078: UserWarning: You are saving your model as an HDF5 file via `model.save()`. This file format is considered legacy. We recommend using instead the native Keras format, e.g. `model.save('my_model.keras')`.\n",
            "  saving_api.save_model(\n"
          ]
        }
      ]
    },
    {
      "cell_type": "code",
      "source": [
        "# Load model previously saved above\n",
        "loaded_saved_model = tf.keras.models.load_model(\"/content/drive/My Drive/Food Vision/food_vision_RegNetY320_feature_extraction.hdf5\")"
      ],
      "metadata": {
        "id": "Yoyr3q0tPGIh"
      },
      "id": "Yoyr3q0tPGIh",
      "execution_count": null,
      "outputs": []
    },
    {
      "cell_type": "code",
      "source": [
        "# Check loaded model performance (this should be the same as results_feature_extract_model)\n",
        "results_loaded_saved_model = loaded_saved_model.evaluate(test_data)\n",
        "results_loaded_saved_model"
      ],
      "metadata": {
        "colab": {
          "base_uri": "https://localhost:8080/"
        },
        "id": "Zr4rkvGbPGMO",
        "outputId": "6a39f148-610d-4784-f3a7-4ed19a0d5881"
      },
      "id": "Zr4rkvGbPGMO",
      "execution_count": null,
      "outputs": [
        {
          "output_type": "stream",
          "name": "stdout",
          "text": [
            "790/790 [==============================] - 61s 73ms/step - loss: 0.8392 - accuracy: 0.7704\n"
          ]
        },
        {
          "output_type": "execute_result",
          "data": {
            "text/plain": [
              "[0.8391504287719727, 0.7704158425331116]"
            ]
          },
          "metadata": {},
          "execution_count": 52
        }
      ]
    },
    {
      "cell_type": "markdown",
      "source": [
        "### Preparing our model's layers for fine-tuning"
      ],
      "metadata": {
        "id": "pFg8__d4PGP-"
      },
      "id": "pFg8__d4PGP-"
    },
    {
      "cell_type": "code",
      "source": [
        "# Are any of the layers in our model frozen?\n",
        "for layer in model.layers:\n",
        "    layer.trainable = True # set all layers to trainable\n",
        "    print(layer.name, layer.trainable, layer.dtype, layer.dtype_policy) # make sure loaded model is using mixed precision dtype_policy (\"mixed_float16\")"
      ],
      "metadata": {
        "colab": {
          "base_uri": "https://localhost:8080/"
        },
        "id": "j-uNulnbPGTr",
        "outputId": "3cd323da-6999-406f-af23-52def9673e91"
      },
      "id": "j-uNulnbPGTr",
      "execution_count": null,
      "outputs": [
        {
          "output_type": "stream",
          "name": "stdout",
          "text": [
            "input_layer True float32 <Policy \"float32\">\n",
            "regnety320 True float32 <Policy \"mixed_float16\">\n",
            "pooling_layer True float32 <Policy \"mixed_float16\">\n",
            "dense_2 True float32 <Policy \"mixed_float16\">\n",
            "softmax_float32 True float32 <Policy \"float32\">\n"
          ]
        }
      ]
    },
    {
      "cell_type": "code",
      "source": [
        "# Check the layers in the base model and see what dtype policy they're using\n",
        "for layer in model.layers[1].layers[:20]:\n",
        "    print(layer.name, layer.trainable, layer.dtype, layer.dtype_policy)"
      ],
      "metadata": {
        "colab": {
          "base_uri": "https://localhost:8080/"
        },
        "id": "AF50JJUYPGXX",
        "outputId": "90c04687-bc13-471f-db69-af3fc1303b4c"
      },
      "id": "AF50JJUYPGXX",
      "execution_count": null,
      "outputs": [
        {
          "output_type": "stream",
          "name": "stdout",
          "text": [
            "input_3 True float32 <Policy \"float32\">\n",
            "regnety320_prestem_rescaling True float32 <Policy \"mixed_float16\">\n",
            "regnety320_stem_conv True float32 <Policy \"mixed_float16\">\n",
            "regnety320_stem_bn True float32 <Policy \"mixed_float16\">\n",
            "regnety320_stem_relu True float32 <Policy \"mixed_float16\">\n",
            "regnety320_Stage_0_YBlock_0_conv_1x1_1 True float32 <Policy \"mixed_float16\">\n",
            "regnety320_Stage_0_YBlock_0_conv_1x1_1_bn True float32 <Policy \"mixed_float16\">\n",
            "regnety320_Stage_0_YBlock_0_conv_1x1_1_relu True float32 <Policy \"mixed_float16\">\n",
            "regnety320_Stage_0_YBlock_0_conv_3x3 True float32 <Policy \"mixed_float16\">\n",
            "regnety320_Stage_0_YBlock_0_conv_3x3_bn True float32 <Policy \"mixed_float16\">\n",
            "regnety320_Stage_0_YBlock_0_conv_3x3_relu True float32 <Policy \"mixed_float16\">\n",
            "regnety320_Stage_0_YBlock_0_squeeze_and_excite_gap True float32 <Policy \"mixed_float16\">\n",
            "regnety320_Stage_0_YBlock_0_squeeze_and_excite_squeeze True float32 <Policy \"mixed_float16\">\n",
            "regnety320_Stage_0_YBlock_0_squeeze_and_excite_excite True float32 <Policy \"mixed_float16\">\n",
            "tf.math.multiply True float32 <Policy \"mixed_float16\">\n",
            "regnety320_Stage_0_YBlock_0_conv_1x1_2 True float32 <Policy \"mixed_float16\">\n",
            "regnety320_Stage_0_YBlock_0_skip_1x1 True float32 <Policy \"mixed_float16\">\n",
            "regnety320_Stage_0_YBlock_0_conv_1x1_2_bn True float32 <Policy \"mixed_float16\">\n",
            "regnety320_Stage_0_YBlock_0_skip_bn True float32 <Policy \"mixed_float16\">\n",
            "tf.__operators__.add_36 True float32 <Policy \"mixed_float16\">\n"
          ]
        }
      ]
    },
    {
      "cell_type": "code",
      "source": [
        "# Compile the model\n",
        "model.compile(loss=\"sparse_categorical_crossentropy\", # sparse_categorical_crossentropy for labels that are *not* one-hot\n",
        "                        optimizer=tf.keras.optimizers.Adam(0.0001), # 10x lower learning rate than the default\n",
        "                        metrics=[\"accuracy\"])"
      ],
      "metadata": {
        "id": "RcwDs1X1PGbR"
      },
      "id": "RcwDs1X1PGbR",
      "execution_count": null,
      "outputs": []
    },
    {
      "cell_type": "markdown",
      "source": [
        "### Fit the fine tuning model"
      ],
      "metadata": {
        "id": "9a5oAFPBPGex"
      },
      "id": "9a5oAFPBPGex"
    },
    {
      "cell_type": "code",
      "source": [
        "# Start to fine-tune (all layers)\n",
        "history_RegNetY320_fine_tuning = model.fit(train_data,\n",
        "                                          epochs=100, # fine-tune for a maximum of 100 epochs\n",
        "                                          steps_per_epoch=len(train_data),\n",
        "                                          validation_data=test_data,\n",
        "                                          validation_steps=int(0.15 * len(test_data)), # validation during training on 15% of test data\n",
        "                                          callbacks=[create_tensorboard_callback(\"training_logs\", \"RegNetY320_fine_tuning\"), # track the model training logs\n",
        "                                          model_checkpoint, # save only the best model during training\n",
        "                                          early_stopping, # stop model after X epochs of no improvements\n",
        "                                          reduce_lr]) # reduce the learning rate after X epochs of no improvements"
      ],
      "metadata": {
        "id": "l8jAzTumQdtK",
        "colab": {
          "base_uri": "https://localhost:8080/"
        },
        "outputId": "1544a584-7416-4e75-eed0-9b44f67261d9"
      },
      "id": "l8jAzTumQdtK",
      "execution_count": null,
      "outputs": [
        {
          "output_type": "stream",
          "name": "stdout",
          "text": [
            "Saving TensorBoard log files to: training_logs/RegNetY320_fine_tuning/20230718-141511\n",
            "Epoch 1/100\n",
            "2368/2368 [==============================] - 895s 359ms/step - loss: 0.8250 - accuracy: 0.7736 - val_loss: 0.8105 - val_accuracy: 0.7778 - lr: 1.0000e-04\n",
            "Epoch 2/100\n",
            "2368/2368 [==============================] - 832s 351ms/step - loss: 0.4998 - accuracy: 0.8567 - val_loss: 0.6528 - val_accuracy: 0.8125 - lr: 1.0000e-04\n",
            "Epoch 3/100\n",
            "2368/2368 [==============================] - 790s 333ms/step - loss: 0.2916 - accuracy: 0.9127 - val_loss: 0.6815 - val_accuracy: 0.8197 - lr: 1.0000e-04\n",
            "Epoch 4/100\n",
            "2368/2368 [==============================] - ETA: 0s - loss: 0.1823 - accuracy: 0.9427\n",
            "Epoch 4: ReduceLROnPlateau reducing learning rate to 1.9999999494757503e-05.\n",
            "2368/2368 [==============================] - 794s 335ms/step - loss: 0.1823 - accuracy: 0.9427 - val_loss: 0.6986 - val_accuracy: 0.8345 - lr: 1.0000e-04\n",
            "Epoch 5/100\n",
            "2368/2368 [==============================] - 793s 334ms/step - loss: 0.0242 - accuracy: 0.9929 - val_loss: 0.7091 - val_accuracy: 0.8615 - lr: 2.0000e-05\n"
          ]
        }
      ]
    },
    {
      "cell_type": "markdown",
      "source": [
        "### Save Fine Tuned Model to Google Drive"
      ],
      "metadata": {
        "id": "TOjZ8t45URVq"
      },
      "id": "TOjZ8t45URVq"
    },
    {
      "cell_type": "code",
      "source": [
        "model.save(\"/content/drive/My Drive/Food Vision/food_vision_RegNetY320_fine_tuned.hdf5\")"
      ],
      "metadata": {
        "colab": {
          "base_uri": "https://localhost:8080/"
        },
        "id": "V4yRGJS_URak",
        "outputId": "6bd3a89d-c4ad-4b82-e566-4b7a89041eff"
      },
      "id": "V4yRGJS_URak",
      "execution_count": null,
      "outputs": [
        {
          "output_type": "stream",
          "name": "stderr",
          "text": [
            "/usr/local/lib/python3.10/dist-packages/keras/src/engine/training.py:3078: UserWarning: You are saving your model as an HDF5 file via `model.save()`. This file format is considered legacy. We recommend using instead the native Keras format, e.g. `model.save('my_model.keras')`.\n",
            "  saving_api.save_model(\n"
          ]
        }
      ]
    },
    {
      "cell_type": "code",
      "source": [
        "# Load in fine-tuned model from Google Storage and evaluate\n",
        "loaded_fine_tuned_model = tf.keras.models.load_model(\"/content/drive/My Drive/Food Vision/food_vision_RegNetY320_fine_tuned.hdf5\")"
      ],
      "metadata": {
        "id": "rmjb_nOCURfB"
      },
      "id": "rmjb_nOCURfB",
      "execution_count": null,
      "outputs": []
    },
    {
      "cell_type": "code",
      "source": [
        "# Get a model summary (same model architecture as above)\n",
        "loaded_fine_tuned_model.summary()"
      ],
      "metadata": {
        "colab": {
          "base_uri": "https://localhost:8080/"
        },
        "id": "Kuk-Wt9qURi9",
        "outputId": "ccc3df31-e056-4c87-b50b-49a13fc52ec7"
      },
      "id": "Kuk-Wt9qURi9",
      "execution_count": null,
      "outputs": [
        {
          "output_type": "stream",
          "name": "stdout",
          "text": [
            "Model: \"model_2\"\n",
            "_________________________________________________________________\n",
            " Layer (type)                Output Shape              Param #   \n",
            "=================================================================\n",
            " input_layer (InputLayer)    [(None, 224, 224, 3)]     0         \n",
            "                                                                 \n",
            " regnety320 (Functional)     (None, None, None, 3712   141492058 \n",
            "                             )                                   \n",
            "                                                                 \n",
            " pooling_layer (GlobalAvera  (None, 3712)              0         \n",
            " gePooling2D)                                                    \n",
            "                                                                 \n",
            " dense_2 (Dense)             (None, 101)               375013    \n",
            "                                                                 \n",
            " softmax_float32 (Activatio  (None, 101)               0         \n",
            " n)                                                              \n",
            "                                                                 \n",
            "=================================================================\n",
            "Total params: 141867071 (541.18 MB)\n",
            "Trainable params: 141708783 (540.58 MB)\n",
            "Non-trainable params: 158288 (618.31 KB)\n",
            "_________________________________________________________________\n"
          ]
        }
      ]
    },
    {
      "cell_type": "code",
      "source": [
        "# Note: Even if you're loading in the model from Google Storage, you will still need to load the test_data variable for this cell to work\n",
        "results_downloaded_fine_tuned_model = loaded_fine_tuned_model.evaluate(test_data)\n",
        "results_downloaded_fine_tuned_model"
      ],
      "metadata": {
        "colab": {
          "base_uri": "https://localhost:8080/"
        },
        "id": "3Jz1y-TDURme",
        "outputId": "eee45f4d-7576-4843-d952-fc2a6447f74a"
      },
      "id": "3Jz1y-TDURme",
      "execution_count": null,
      "outputs": [
        {
          "output_type": "stream",
          "name": "stdout",
          "text": [
            "790/790 [==============================] - 61s 74ms/step - loss: 0.7642 - accuracy: 0.8550\n"
          ]
        },
        {
          "output_type": "execute_result",
          "data": {
            "text/plain": [
              "[0.7642443776130676, 0.8549702763557434]"
            ]
          },
          "metadata": {},
          "execution_count": 62
        }
      ]
    },
    {
      "cell_type": "markdown",
      "metadata": {
        "id": "24b6846d-f542-47b8-979b-65215bd12a74"
      },
      "source": [
        "## View training results on TensorBoard\n",
        "\n",
        "Since we tracked our model's fine-tuning training logs using the `TensorBoard` callback, let's upload them and inspect them on TensorBoard.dev."
      ],
      "id": "24b6846d-f542-47b8-979b-65215bd12a74"
    },
    {
      "cell_type": "code",
      "execution_count": null,
      "metadata": {
        "id": "8bf8e3fb-1169-4160-8486-9f4a50a1ab4e",
        "colab": {
          "base_uri": "https://localhost:8080/"
        },
        "outputId": "5b64ef4f-1ad3-43df-dbb4-a2e52cc4cf21"
      },
      "outputs": [
        {
          "output_type": "stream",
          "name": "stdout",
          "text": [
            "2023-07-18 15:26:41.911621: E tensorflow/compiler/xla/stream_executor/cuda/cuda_dnn.cc:8893] Unable to register cuDNN factory: Attempting to register factory for plugin cuDNN when one has already been registered\n",
            "2023-07-18 15:26:41.911689: E tensorflow/compiler/xla/stream_executor/cuda/cuda_fft.cc:609] Unable to register cuFFT factory: Attempting to register factory for plugin cuFFT when one has already been registered\n",
            "2023-07-18 15:26:41.917647: E tensorflow/compiler/xla/stream_executor/cuda/cuda_blas.cc:1518] Unable to register cuBLAS factory: Attempting to register factory for plugin cuBLAS when one has already been registered\n",
            "2023-07-18 15:26:44.489794: W tensorflow/compiler/tf2tensorrt/utils/py_utils.cc:38] TF-TRT Warning: Could not find TensorRT\n",
            "WARNING:tensorflow:From /usr/local/lib/python3.10/dist-packages/tensorflow/python/ops/distributions/distribution.py:259: ReparameterizationType.__init__ (from tensorflow.python.ops.distributions.distribution) is deprecated and will be removed after 2019-01-01.\n",
            "Instructions for updating:\n",
            "The TensorFlow Distributions library has moved to TensorFlow Probability (https://github.com/tensorflow/probability). You should update all references to use `tfp.distributions` instead of `tf.distributions`.\n",
            "WARNING:tensorflow:From /usr/local/lib/python3.10/dist-packages/tensorflow/python/ops/distributions/bernoulli.py:165: RegisterKL.__init__ (from tensorflow.python.ops.distributions.kullback_leibler) is deprecated and will be removed after 2019-01-01.\n",
            "Instructions for updating:\n",
            "The TensorFlow Distributions library has moved to TensorFlow Probability (https://github.com/tensorflow/probability). You should update all references to use `tfp.distributions` instead of `tf.distributions`.\n",
            "\n",
            "***** TensorBoard Uploader *****\n",
            "\n",
            "This will upload your TensorBoard logs to https://tensorboard.dev/ from\n",
            "the following directory:\n",
            "\n",
            "./training_logs\n",
            "\n",
            "This TensorBoard will be visible to everyone. Do not upload sensitive\n",
            "data.\n",
            "\n",
            "Your use of this service is subject to Google's Terms of Service\n",
            "<https://policies.google.com/terms> and Privacy Policy\n",
            "<https://policies.google.com/privacy>, and TensorBoard.dev's Terms of Service\n",
            "<https://tensorboard.dev/policy/terms/>.\n",
            "\n",
            "This notice will not be shown again while you are logged into the uploader.\n",
            "To log out, run `tensorboard dev auth revoke`.\n",
            "\n",
            "Continue? (yes/NO) yes\n",
            "\n",
            "To sign in with the TensorBoard uploader:\n",
            "\n",
            "1. On your computer or phone, visit:\n",
            "\n",
            "   https://www.google.com/device\n",
            "\n",
            "2. Sign in with your Google account, then enter:\n",
            "\n",
            "   WTG-KZQ-YPG\n",
            "\n",
            "\n",
            "\n",
            "New experiment created. View your TensorBoard at: https://tensorboard.dev/experiment/PvYYbIBqQUmGXX8GDz0bTg/\n",
            "\n",
            "\u001b[1m[2023-07-18T15:27:21]\u001b[0m Started scanning logdir.\n",
            "\u001b[1m[2023-07-18T15:27:26]\u001b[0m Total uploaded: 150 scalars, 0 tensors, 5 binary objects (9.5 MB)\n",
            "\u001b[1m[2023-07-18T15:27:26]\u001b[0m Done scanning logdir.\n",
            "\n",
            "\n",
            "Done. View your TensorBoard at https://tensorboard.dev/experiment/PvYYbIBqQUmGXX8GDz0bTg/\n"
          ]
        }
      ],
      "source": [
        "#Upload experiment results to TensorBoard (uncomment to run)\n",
        "!tensorboard dev upload --logdir ./training_logs \\\n",
        "  --name \"Food Vision Results\" \\\n",
        "  --description \"Training results for fine-tuning multiple models on Food101 Data with learning rate 0.0001\" \\\n",
        "  --one_shot"
      ],
      "id": "8bf8e3fb-1169-4160-8486-9f4a50a1ab4e"
    },
    {
      "cell_type": "markdown",
      "metadata": {
        "id": "3c9e3985-0626-456c-9d45-e5b3134eb5e5"
      },
      "source": [
        "Viewing at our [model's training curves on TensorBoard.dev](https://tensorboard.dev/experiment/2KINdYxgSgW2bUg7dIvevw/), it looks like our fine-tuning model gains boost in performance but starts to overfit as training goes on.\n",
        "\n",
        "See the training curves on TensorBoard.dev here: https://tensorboard.dev/experiment/2KINdYxgSgW2bUg7dIvevw/\n",
        "\n",
        "To fix this, in future experiments, we might try things like:\n",
        "* A different iteration of `EfficientNet` (e.g. `EfficientNetB4` instead of `EfficientNetB0`).\n",
        "* Unfreezing less layers of the base model and training them rather than unfreezing the whole base model in one go."
      ],
      "id": "3c9e3985-0626-456c-9d45-e5b3134eb5e5"
    },
    {
      "cell_type": "code",
      "execution_count": null,
      "metadata": {
        "id": "d5052bf8-29d4-48c0-8314-3c9ab6cb6aef"
      },
      "outputs": [],
      "source": [
        "# #View past TensorBoard experiments\n",
        "# !tensorboard dev list"
      ],
      "id": "d5052bf8-29d4-48c0-8314-3c9ab6cb6aef"
    },
    {
      "cell_type": "code",
      "execution_count": null,
      "metadata": {
        "id": "f132dd1e-653f-46b6-9adb-e084bac84a84"
      },
      "outputs": [],
      "source": [
        "# Delete past TensorBoard experiments\n",
        "# !tensorboard dev delete --experiment_id YOUR_EXPERIMENT_ID\n",
        "\n",
        "# Example\n",
        "# !tensorboard dev delete --experiment_id OAE6KXizQZKQxDiqI3cnUQ"
      ],
      "id": "f132dd1e-653f-46b6-9adb-e084bac84a84"
    }
  ],
  "metadata": {
    "accelerator": "GPU",
    "colab": {
      "machine_shape": "hm",
      "provenance": [],
      "gpuType": "V100",
      "toc_visible": true
    },
    "kernelspec": {
      "display_name": "Python 3",
      "name": "python3"
    },
    "language_info": {
      "codemirror_mode": {
        "name": "ipython",
        "version": 3
      },
      "file_extension": ".py",
      "mimetype": "text/x-python",
      "name": "python",
      "nbconvert_exporter": "python",
      "pygments_lexer": "ipython3",
      "version": "3.9.7"
    },
    "widgets": {
      "application/vnd.jupyter.widget-state+json": {
        "aabed55be3654e0082309d21980d666c": {
          "model_module": "@jupyter-widgets/controls",
          "model_name": "HBoxModel",
          "model_module_version": "1.5.0",
          "state": {
            "_dom_classes": [],
            "_model_module": "@jupyter-widgets/controls",
            "_model_module_version": "1.5.0",
            "_model_name": "HBoxModel",
            "_view_count": null,
            "_view_module": "@jupyter-widgets/controls",
            "_view_module_version": "1.5.0",
            "_view_name": "HBoxView",
            "box_style": "",
            "children": [
              "IPY_MODEL_e406e3cf71b34c22b3ddd2c357647564",
              "IPY_MODEL_c105269332b54416b7601ad0eb50414e",
              "IPY_MODEL_c6bd3994db18478dbebf191ab3901863"
            ],
            "layout": "IPY_MODEL_595ff890118a4b078081166dff773484"
          }
        },
        "e406e3cf71b34c22b3ddd2c357647564": {
          "model_module": "@jupyter-widgets/controls",
          "model_name": "HTMLModel",
          "model_module_version": "1.5.0",
          "state": {
            "_dom_classes": [],
            "_model_module": "@jupyter-widgets/controls",
            "_model_module_version": "1.5.0",
            "_model_name": "HTMLModel",
            "_view_count": null,
            "_view_module": "@jupyter-widgets/controls",
            "_view_module_version": "1.5.0",
            "_view_name": "HTMLView",
            "description": "",
            "description_tooltip": null,
            "layout": "IPY_MODEL_e8c3d3584c574fd6a973e4c83ce7b85a",
            "placeholder": "​",
            "style": "IPY_MODEL_2ee04d85c0aa470a88370d8c7a72ef52",
            "value": "Dl Completed...: 100%"
          }
        },
        "c105269332b54416b7601ad0eb50414e": {
          "model_module": "@jupyter-widgets/controls",
          "model_name": "FloatProgressModel",
          "model_module_version": "1.5.0",
          "state": {
            "_dom_classes": [],
            "_model_module": "@jupyter-widgets/controls",
            "_model_module_version": "1.5.0",
            "_model_name": "FloatProgressModel",
            "_view_count": null,
            "_view_module": "@jupyter-widgets/controls",
            "_view_module_version": "1.5.0",
            "_view_name": "ProgressView",
            "bar_style": "info",
            "description": "",
            "description_tooltip": null,
            "layout": "IPY_MODEL_63b2ff30d08f49b0863b4ae093a4f024",
            "max": 1,
            "min": 0,
            "orientation": "horizontal",
            "style": "IPY_MODEL_a75a60b90b684be7bde528e7f3d1d8dc",
            "value": 1
          }
        },
        "c6bd3994db18478dbebf191ab3901863": {
          "model_module": "@jupyter-widgets/controls",
          "model_name": "HTMLModel",
          "model_module_version": "1.5.0",
          "state": {
            "_dom_classes": [],
            "_model_module": "@jupyter-widgets/controls",
            "_model_module_version": "1.5.0",
            "_model_name": "HTMLModel",
            "_view_count": null,
            "_view_module": "@jupyter-widgets/controls",
            "_view_module_version": "1.5.0",
            "_view_name": "HTMLView",
            "description": "",
            "description_tooltip": null,
            "layout": "IPY_MODEL_82442b5f64204ade8da2453fcc71d48a",
            "placeholder": "​",
            "style": "IPY_MODEL_4bf3275c7b644b3388d43490e4e95f73",
            "value": " 1/1 [11:22&lt;00:00, 424.45s/ url]"
          }
        },
        "595ff890118a4b078081166dff773484": {
          "model_module": "@jupyter-widgets/base",
          "model_name": "LayoutModel",
          "model_module_version": "1.2.0",
          "state": {
            "_model_module": "@jupyter-widgets/base",
            "_model_module_version": "1.2.0",
            "_model_name": "LayoutModel",
            "_view_count": null,
            "_view_module": "@jupyter-widgets/base",
            "_view_module_version": "1.2.0",
            "_view_name": "LayoutView",
            "align_content": null,
            "align_items": null,
            "align_self": null,
            "border": null,
            "bottom": null,
            "display": null,
            "flex": null,
            "flex_flow": null,
            "grid_area": null,
            "grid_auto_columns": null,
            "grid_auto_flow": null,
            "grid_auto_rows": null,
            "grid_column": null,
            "grid_gap": null,
            "grid_row": null,
            "grid_template_areas": null,
            "grid_template_columns": null,
            "grid_template_rows": null,
            "height": null,
            "justify_content": null,
            "justify_items": null,
            "left": null,
            "margin": null,
            "max_height": null,
            "max_width": null,
            "min_height": null,
            "min_width": null,
            "object_fit": null,
            "object_position": null,
            "order": null,
            "overflow": null,
            "overflow_x": null,
            "overflow_y": null,
            "padding": null,
            "right": null,
            "top": null,
            "visibility": null,
            "width": null
          }
        },
        "e8c3d3584c574fd6a973e4c83ce7b85a": {
          "model_module": "@jupyter-widgets/base",
          "model_name": "LayoutModel",
          "model_module_version": "1.2.0",
          "state": {
            "_model_module": "@jupyter-widgets/base",
            "_model_module_version": "1.2.0",
            "_model_name": "LayoutModel",
            "_view_count": null,
            "_view_module": "@jupyter-widgets/base",
            "_view_module_version": "1.2.0",
            "_view_name": "LayoutView",
            "align_content": null,
            "align_items": null,
            "align_self": null,
            "border": null,
            "bottom": null,
            "display": null,
            "flex": null,
            "flex_flow": null,
            "grid_area": null,
            "grid_auto_columns": null,
            "grid_auto_flow": null,
            "grid_auto_rows": null,
            "grid_column": null,
            "grid_gap": null,
            "grid_row": null,
            "grid_template_areas": null,
            "grid_template_columns": null,
            "grid_template_rows": null,
            "height": null,
            "justify_content": null,
            "justify_items": null,
            "left": null,
            "margin": null,
            "max_height": null,
            "max_width": null,
            "min_height": null,
            "min_width": null,
            "object_fit": null,
            "object_position": null,
            "order": null,
            "overflow": null,
            "overflow_x": null,
            "overflow_y": null,
            "padding": null,
            "right": null,
            "top": null,
            "visibility": null,
            "width": null
          }
        },
        "2ee04d85c0aa470a88370d8c7a72ef52": {
          "model_module": "@jupyter-widgets/controls",
          "model_name": "DescriptionStyleModel",
          "model_module_version": "1.5.0",
          "state": {
            "_model_module": "@jupyter-widgets/controls",
            "_model_module_version": "1.5.0",
            "_model_name": "DescriptionStyleModel",
            "_view_count": null,
            "_view_module": "@jupyter-widgets/base",
            "_view_module_version": "1.2.0",
            "_view_name": "StyleView",
            "description_width": ""
          }
        },
        "63b2ff30d08f49b0863b4ae093a4f024": {
          "model_module": "@jupyter-widgets/base",
          "model_name": "LayoutModel",
          "model_module_version": "1.2.0",
          "state": {
            "_model_module": "@jupyter-widgets/base",
            "_model_module_version": "1.2.0",
            "_model_name": "LayoutModel",
            "_view_count": null,
            "_view_module": "@jupyter-widgets/base",
            "_view_module_version": "1.2.0",
            "_view_name": "LayoutView",
            "align_content": null,
            "align_items": null,
            "align_self": null,
            "border": null,
            "bottom": null,
            "display": null,
            "flex": null,
            "flex_flow": null,
            "grid_area": null,
            "grid_auto_columns": null,
            "grid_auto_flow": null,
            "grid_auto_rows": null,
            "grid_column": null,
            "grid_gap": null,
            "grid_row": null,
            "grid_template_areas": null,
            "grid_template_columns": null,
            "grid_template_rows": null,
            "height": null,
            "justify_content": null,
            "justify_items": null,
            "left": null,
            "margin": null,
            "max_height": null,
            "max_width": null,
            "min_height": null,
            "min_width": null,
            "object_fit": null,
            "object_position": null,
            "order": null,
            "overflow": null,
            "overflow_x": null,
            "overflow_y": null,
            "padding": null,
            "right": null,
            "top": null,
            "visibility": null,
            "width": "20px"
          }
        },
        "a75a60b90b684be7bde528e7f3d1d8dc": {
          "model_module": "@jupyter-widgets/controls",
          "model_name": "ProgressStyleModel",
          "model_module_version": "1.5.0",
          "state": {
            "_model_module": "@jupyter-widgets/controls",
            "_model_module_version": "1.5.0",
            "_model_name": "ProgressStyleModel",
            "_view_count": null,
            "_view_module": "@jupyter-widgets/base",
            "_view_module_version": "1.2.0",
            "_view_name": "StyleView",
            "bar_color": null,
            "description_width": ""
          }
        },
        "82442b5f64204ade8da2453fcc71d48a": {
          "model_module": "@jupyter-widgets/base",
          "model_name": "LayoutModel",
          "model_module_version": "1.2.0",
          "state": {
            "_model_module": "@jupyter-widgets/base",
            "_model_module_version": "1.2.0",
            "_model_name": "LayoutModel",
            "_view_count": null,
            "_view_module": "@jupyter-widgets/base",
            "_view_module_version": "1.2.0",
            "_view_name": "LayoutView",
            "align_content": null,
            "align_items": null,
            "align_self": null,
            "border": null,
            "bottom": null,
            "display": null,
            "flex": null,
            "flex_flow": null,
            "grid_area": null,
            "grid_auto_columns": null,
            "grid_auto_flow": null,
            "grid_auto_rows": null,
            "grid_column": null,
            "grid_gap": null,
            "grid_row": null,
            "grid_template_areas": null,
            "grid_template_columns": null,
            "grid_template_rows": null,
            "height": null,
            "justify_content": null,
            "justify_items": null,
            "left": null,
            "margin": null,
            "max_height": null,
            "max_width": null,
            "min_height": null,
            "min_width": null,
            "object_fit": null,
            "object_position": null,
            "order": null,
            "overflow": null,
            "overflow_x": null,
            "overflow_y": null,
            "padding": null,
            "right": null,
            "top": null,
            "visibility": null,
            "width": null
          }
        },
        "4bf3275c7b644b3388d43490e4e95f73": {
          "model_module": "@jupyter-widgets/controls",
          "model_name": "DescriptionStyleModel",
          "model_module_version": "1.5.0",
          "state": {
            "_model_module": "@jupyter-widgets/controls",
            "_model_module_version": "1.5.0",
            "_model_name": "DescriptionStyleModel",
            "_view_count": null,
            "_view_module": "@jupyter-widgets/base",
            "_view_module_version": "1.2.0",
            "_view_name": "StyleView",
            "description_width": ""
          }
        },
        "7abcb7b4ab6b4b08ad4c772dec77f091": {
          "model_module": "@jupyter-widgets/controls",
          "model_name": "HBoxModel",
          "model_module_version": "1.5.0",
          "state": {
            "_dom_classes": [],
            "_model_module": "@jupyter-widgets/controls",
            "_model_module_version": "1.5.0",
            "_model_name": "HBoxModel",
            "_view_count": null,
            "_view_module": "@jupyter-widgets/controls",
            "_view_module_version": "1.5.0",
            "_view_name": "HBoxView",
            "box_style": "",
            "children": [
              "IPY_MODEL_5810c8aebfb54ac497a88f439a688392",
              "IPY_MODEL_734d663e9f5940ff91fbc7d2210f9a7e",
              "IPY_MODEL_716908c85c244812b78ad1e70601a7ff"
            ],
            "layout": "IPY_MODEL_b17530fb304a4bc6891f266837709007"
          }
        },
        "5810c8aebfb54ac497a88f439a688392": {
          "model_module": "@jupyter-widgets/controls",
          "model_name": "HTMLModel",
          "model_module_version": "1.5.0",
          "state": {
            "_dom_classes": [],
            "_model_module": "@jupyter-widgets/controls",
            "_model_module_version": "1.5.0",
            "_model_name": "HTMLModel",
            "_view_count": null,
            "_view_module": "@jupyter-widgets/controls",
            "_view_module_version": "1.5.0",
            "_view_name": "HTMLView",
            "description": "",
            "description_tooltip": null,
            "layout": "IPY_MODEL_9b56c5252fc742e5b8e23e189a9c7fab",
            "placeholder": "​",
            "style": "IPY_MODEL_0a5b340634d842a2bf5f40b4f873076d",
            "value": "Dl Size...: 100%"
          }
        },
        "734d663e9f5940ff91fbc7d2210f9a7e": {
          "model_module": "@jupyter-widgets/controls",
          "model_name": "FloatProgressModel",
          "model_module_version": "1.5.0",
          "state": {
            "_dom_classes": [],
            "_model_module": "@jupyter-widgets/controls",
            "_model_module_version": "1.5.0",
            "_model_name": "FloatProgressModel",
            "_view_count": null,
            "_view_module": "@jupyter-widgets/controls",
            "_view_module_version": "1.5.0",
            "_view_name": "ProgressView",
            "bar_style": "info",
            "description": "",
            "description_tooltip": null,
            "layout": "IPY_MODEL_19ebb3dea53f40a692a3ef3dd5065ddd",
            "max": 1,
            "min": 0,
            "orientation": "horizontal",
            "style": "IPY_MODEL_f9543111b1534a6696338c3ab52c6ab4",
            "value": 1
          }
        },
        "716908c85c244812b78ad1e70601a7ff": {
          "model_module": "@jupyter-widgets/controls",
          "model_name": "HTMLModel",
          "model_module_version": "1.5.0",
          "state": {
            "_dom_classes": [],
            "_model_module": "@jupyter-widgets/controls",
            "_model_module_version": "1.5.0",
            "_model_name": "HTMLModel",
            "_view_count": null,
            "_view_module": "@jupyter-widgets/controls",
            "_view_module_version": "1.5.0",
            "_view_name": "HTMLView",
            "description": "",
            "description_tooltip": null,
            "layout": "IPY_MODEL_c8934a796fda41d5aa5f171016bcc723",
            "placeholder": "​",
            "style": "IPY_MODEL_569121eb21bb441eb75bac9550a2483a",
            "value": " 4764/4764 [11:22&lt;00:00,  9.72 MiB/s]"
          }
        },
        "b17530fb304a4bc6891f266837709007": {
          "model_module": "@jupyter-widgets/base",
          "model_name": "LayoutModel",
          "model_module_version": "1.2.0",
          "state": {
            "_model_module": "@jupyter-widgets/base",
            "_model_module_version": "1.2.0",
            "_model_name": "LayoutModel",
            "_view_count": null,
            "_view_module": "@jupyter-widgets/base",
            "_view_module_version": "1.2.0",
            "_view_name": "LayoutView",
            "align_content": null,
            "align_items": null,
            "align_self": null,
            "border": null,
            "bottom": null,
            "display": null,
            "flex": null,
            "flex_flow": null,
            "grid_area": null,
            "grid_auto_columns": null,
            "grid_auto_flow": null,
            "grid_auto_rows": null,
            "grid_column": null,
            "grid_gap": null,
            "grid_row": null,
            "grid_template_areas": null,
            "grid_template_columns": null,
            "grid_template_rows": null,
            "height": null,
            "justify_content": null,
            "justify_items": null,
            "left": null,
            "margin": null,
            "max_height": null,
            "max_width": null,
            "min_height": null,
            "min_width": null,
            "object_fit": null,
            "object_position": null,
            "order": null,
            "overflow": null,
            "overflow_x": null,
            "overflow_y": null,
            "padding": null,
            "right": null,
            "top": null,
            "visibility": null,
            "width": null
          }
        },
        "9b56c5252fc742e5b8e23e189a9c7fab": {
          "model_module": "@jupyter-widgets/base",
          "model_name": "LayoutModel",
          "model_module_version": "1.2.0",
          "state": {
            "_model_module": "@jupyter-widgets/base",
            "_model_module_version": "1.2.0",
            "_model_name": "LayoutModel",
            "_view_count": null,
            "_view_module": "@jupyter-widgets/base",
            "_view_module_version": "1.2.0",
            "_view_name": "LayoutView",
            "align_content": null,
            "align_items": null,
            "align_self": null,
            "border": null,
            "bottom": null,
            "display": null,
            "flex": null,
            "flex_flow": null,
            "grid_area": null,
            "grid_auto_columns": null,
            "grid_auto_flow": null,
            "grid_auto_rows": null,
            "grid_column": null,
            "grid_gap": null,
            "grid_row": null,
            "grid_template_areas": null,
            "grid_template_columns": null,
            "grid_template_rows": null,
            "height": null,
            "justify_content": null,
            "justify_items": null,
            "left": null,
            "margin": null,
            "max_height": null,
            "max_width": null,
            "min_height": null,
            "min_width": null,
            "object_fit": null,
            "object_position": null,
            "order": null,
            "overflow": null,
            "overflow_x": null,
            "overflow_y": null,
            "padding": null,
            "right": null,
            "top": null,
            "visibility": null,
            "width": null
          }
        },
        "0a5b340634d842a2bf5f40b4f873076d": {
          "model_module": "@jupyter-widgets/controls",
          "model_name": "DescriptionStyleModel",
          "model_module_version": "1.5.0",
          "state": {
            "_model_module": "@jupyter-widgets/controls",
            "_model_module_version": "1.5.0",
            "_model_name": "DescriptionStyleModel",
            "_view_count": null,
            "_view_module": "@jupyter-widgets/base",
            "_view_module_version": "1.2.0",
            "_view_name": "StyleView",
            "description_width": ""
          }
        },
        "19ebb3dea53f40a692a3ef3dd5065ddd": {
          "model_module": "@jupyter-widgets/base",
          "model_name": "LayoutModel",
          "model_module_version": "1.2.0",
          "state": {
            "_model_module": "@jupyter-widgets/base",
            "_model_module_version": "1.2.0",
            "_model_name": "LayoutModel",
            "_view_count": null,
            "_view_module": "@jupyter-widgets/base",
            "_view_module_version": "1.2.0",
            "_view_name": "LayoutView",
            "align_content": null,
            "align_items": null,
            "align_self": null,
            "border": null,
            "bottom": null,
            "display": null,
            "flex": null,
            "flex_flow": null,
            "grid_area": null,
            "grid_auto_columns": null,
            "grid_auto_flow": null,
            "grid_auto_rows": null,
            "grid_column": null,
            "grid_gap": null,
            "grid_row": null,
            "grid_template_areas": null,
            "grid_template_columns": null,
            "grid_template_rows": null,
            "height": null,
            "justify_content": null,
            "justify_items": null,
            "left": null,
            "margin": null,
            "max_height": null,
            "max_width": null,
            "min_height": null,
            "min_width": null,
            "object_fit": null,
            "object_position": null,
            "order": null,
            "overflow": null,
            "overflow_x": null,
            "overflow_y": null,
            "padding": null,
            "right": null,
            "top": null,
            "visibility": null,
            "width": "20px"
          }
        },
        "f9543111b1534a6696338c3ab52c6ab4": {
          "model_module": "@jupyter-widgets/controls",
          "model_name": "ProgressStyleModel",
          "model_module_version": "1.5.0",
          "state": {
            "_model_module": "@jupyter-widgets/controls",
            "_model_module_version": "1.5.0",
            "_model_name": "ProgressStyleModel",
            "_view_count": null,
            "_view_module": "@jupyter-widgets/base",
            "_view_module_version": "1.2.0",
            "_view_name": "StyleView",
            "bar_color": null,
            "description_width": ""
          }
        },
        "c8934a796fda41d5aa5f171016bcc723": {
          "model_module": "@jupyter-widgets/base",
          "model_name": "LayoutModel",
          "model_module_version": "1.2.0",
          "state": {
            "_model_module": "@jupyter-widgets/base",
            "_model_module_version": "1.2.0",
            "_model_name": "LayoutModel",
            "_view_count": null,
            "_view_module": "@jupyter-widgets/base",
            "_view_module_version": "1.2.0",
            "_view_name": "LayoutView",
            "align_content": null,
            "align_items": null,
            "align_self": null,
            "border": null,
            "bottom": null,
            "display": null,
            "flex": null,
            "flex_flow": null,
            "grid_area": null,
            "grid_auto_columns": null,
            "grid_auto_flow": null,
            "grid_auto_rows": null,
            "grid_column": null,
            "grid_gap": null,
            "grid_row": null,
            "grid_template_areas": null,
            "grid_template_columns": null,
            "grid_template_rows": null,
            "height": null,
            "justify_content": null,
            "justify_items": null,
            "left": null,
            "margin": null,
            "max_height": null,
            "max_width": null,
            "min_height": null,
            "min_width": null,
            "object_fit": null,
            "object_position": null,
            "order": null,
            "overflow": null,
            "overflow_x": null,
            "overflow_y": null,
            "padding": null,
            "right": null,
            "top": null,
            "visibility": null,
            "width": null
          }
        },
        "569121eb21bb441eb75bac9550a2483a": {
          "model_module": "@jupyter-widgets/controls",
          "model_name": "DescriptionStyleModel",
          "model_module_version": "1.5.0",
          "state": {
            "_model_module": "@jupyter-widgets/controls",
            "_model_module_version": "1.5.0",
            "_model_name": "DescriptionStyleModel",
            "_view_count": null,
            "_view_module": "@jupyter-widgets/base",
            "_view_module_version": "1.2.0",
            "_view_name": "StyleView",
            "description_width": ""
          }
        },
        "b0db7a278a564dcdb534a0b26ce236e6": {
          "model_module": "@jupyter-widgets/controls",
          "model_name": "HBoxModel",
          "model_module_version": "1.5.0",
          "state": {
            "_dom_classes": [],
            "_model_module": "@jupyter-widgets/controls",
            "_model_module_version": "1.5.0",
            "_model_name": "HBoxModel",
            "_view_count": null,
            "_view_module": "@jupyter-widgets/controls",
            "_view_module_version": "1.5.0",
            "_view_name": "HBoxView",
            "box_style": "",
            "children": [
              "IPY_MODEL_3afd8490497d478f8c77d8b7157f3f91",
              "IPY_MODEL_9102aec692ba4ee9a2b22a8d7f540c60",
              "IPY_MODEL_471a2f95d31a47c59bad97314a1c30d0"
            ],
            "layout": "IPY_MODEL_27c62e5a217b4e16800ffa218005deaf"
          }
        },
        "3afd8490497d478f8c77d8b7157f3f91": {
          "model_module": "@jupyter-widgets/controls",
          "model_name": "HTMLModel",
          "model_module_version": "1.5.0",
          "state": {
            "_dom_classes": [],
            "_model_module": "@jupyter-widgets/controls",
            "_model_module_version": "1.5.0",
            "_model_name": "HTMLModel",
            "_view_count": null,
            "_view_module": "@jupyter-widgets/controls",
            "_view_module_version": "1.5.0",
            "_view_name": "HTMLView",
            "description": "",
            "description_tooltip": null,
            "layout": "IPY_MODEL_853ea242c6b14374b784e5b8620877e0",
            "placeholder": "​",
            "style": "IPY_MODEL_5a2e864a0dd94ddd9e07de20dc868992",
            "value": "Extraction completed...: 100%"
          }
        },
        "9102aec692ba4ee9a2b22a8d7f540c60": {
          "model_module": "@jupyter-widgets/controls",
          "model_name": "FloatProgressModel",
          "model_module_version": "1.5.0",
          "state": {
            "_dom_classes": [],
            "_model_module": "@jupyter-widgets/controls",
            "_model_module_version": "1.5.0",
            "_model_name": "FloatProgressModel",
            "_view_count": null,
            "_view_module": "@jupyter-widgets/controls",
            "_view_module_version": "1.5.0",
            "_view_name": "ProgressView",
            "bar_style": "info",
            "description": "",
            "description_tooltip": null,
            "layout": "IPY_MODEL_535751691f864d72ad9380ca47308de8",
            "max": 1,
            "min": 0,
            "orientation": "horizontal",
            "style": "IPY_MODEL_68284e00ab7749e2b1b2e49937222653",
            "value": 1
          }
        },
        "471a2f95d31a47c59bad97314a1c30d0": {
          "model_module": "@jupyter-widgets/controls",
          "model_name": "HTMLModel",
          "model_module_version": "1.5.0",
          "state": {
            "_dom_classes": [],
            "_model_module": "@jupyter-widgets/controls",
            "_model_module_version": "1.5.0",
            "_model_name": "HTMLModel",
            "_view_count": null,
            "_view_module": "@jupyter-widgets/controls",
            "_view_module_version": "1.5.0",
            "_view_name": "HTMLView",
            "description": "",
            "description_tooltip": null,
            "layout": "IPY_MODEL_a593c56f494f465f9962507c7eb5664f",
            "placeholder": "​",
            "style": "IPY_MODEL_d6bc8460f1314d85b493edae99f118cf",
            "value": " 100894/101008 [11:23&lt;00:00, 1473.89 file/s]"
          }
        },
        "27c62e5a217b4e16800ffa218005deaf": {
          "model_module": "@jupyter-widgets/base",
          "model_name": "LayoutModel",
          "model_module_version": "1.2.0",
          "state": {
            "_model_module": "@jupyter-widgets/base",
            "_model_module_version": "1.2.0",
            "_model_name": "LayoutModel",
            "_view_count": null,
            "_view_module": "@jupyter-widgets/base",
            "_view_module_version": "1.2.0",
            "_view_name": "LayoutView",
            "align_content": null,
            "align_items": null,
            "align_self": null,
            "border": null,
            "bottom": null,
            "display": null,
            "flex": null,
            "flex_flow": null,
            "grid_area": null,
            "grid_auto_columns": null,
            "grid_auto_flow": null,
            "grid_auto_rows": null,
            "grid_column": null,
            "grid_gap": null,
            "grid_row": null,
            "grid_template_areas": null,
            "grid_template_columns": null,
            "grid_template_rows": null,
            "height": null,
            "justify_content": null,
            "justify_items": null,
            "left": null,
            "margin": null,
            "max_height": null,
            "max_width": null,
            "min_height": null,
            "min_width": null,
            "object_fit": null,
            "object_position": null,
            "order": null,
            "overflow": null,
            "overflow_x": null,
            "overflow_y": null,
            "padding": null,
            "right": null,
            "top": null,
            "visibility": null,
            "width": null
          }
        },
        "853ea242c6b14374b784e5b8620877e0": {
          "model_module": "@jupyter-widgets/base",
          "model_name": "LayoutModel",
          "model_module_version": "1.2.0",
          "state": {
            "_model_module": "@jupyter-widgets/base",
            "_model_module_version": "1.2.0",
            "_model_name": "LayoutModel",
            "_view_count": null,
            "_view_module": "@jupyter-widgets/base",
            "_view_module_version": "1.2.0",
            "_view_name": "LayoutView",
            "align_content": null,
            "align_items": null,
            "align_self": null,
            "border": null,
            "bottom": null,
            "display": null,
            "flex": null,
            "flex_flow": null,
            "grid_area": null,
            "grid_auto_columns": null,
            "grid_auto_flow": null,
            "grid_auto_rows": null,
            "grid_column": null,
            "grid_gap": null,
            "grid_row": null,
            "grid_template_areas": null,
            "grid_template_columns": null,
            "grid_template_rows": null,
            "height": null,
            "justify_content": null,
            "justify_items": null,
            "left": null,
            "margin": null,
            "max_height": null,
            "max_width": null,
            "min_height": null,
            "min_width": null,
            "object_fit": null,
            "object_position": null,
            "order": null,
            "overflow": null,
            "overflow_x": null,
            "overflow_y": null,
            "padding": null,
            "right": null,
            "top": null,
            "visibility": null,
            "width": null
          }
        },
        "5a2e864a0dd94ddd9e07de20dc868992": {
          "model_module": "@jupyter-widgets/controls",
          "model_name": "DescriptionStyleModel",
          "model_module_version": "1.5.0",
          "state": {
            "_model_module": "@jupyter-widgets/controls",
            "_model_module_version": "1.5.0",
            "_model_name": "DescriptionStyleModel",
            "_view_count": null,
            "_view_module": "@jupyter-widgets/base",
            "_view_module_version": "1.2.0",
            "_view_name": "StyleView",
            "description_width": ""
          }
        },
        "535751691f864d72ad9380ca47308de8": {
          "model_module": "@jupyter-widgets/base",
          "model_name": "LayoutModel",
          "model_module_version": "1.2.0",
          "state": {
            "_model_module": "@jupyter-widgets/base",
            "_model_module_version": "1.2.0",
            "_model_name": "LayoutModel",
            "_view_count": null,
            "_view_module": "@jupyter-widgets/base",
            "_view_module_version": "1.2.0",
            "_view_name": "LayoutView",
            "align_content": null,
            "align_items": null,
            "align_self": null,
            "border": null,
            "bottom": null,
            "display": null,
            "flex": null,
            "flex_flow": null,
            "grid_area": null,
            "grid_auto_columns": null,
            "grid_auto_flow": null,
            "grid_auto_rows": null,
            "grid_column": null,
            "grid_gap": null,
            "grid_row": null,
            "grid_template_areas": null,
            "grid_template_columns": null,
            "grid_template_rows": null,
            "height": null,
            "justify_content": null,
            "justify_items": null,
            "left": null,
            "margin": null,
            "max_height": null,
            "max_width": null,
            "min_height": null,
            "min_width": null,
            "object_fit": null,
            "object_position": null,
            "order": null,
            "overflow": null,
            "overflow_x": null,
            "overflow_y": null,
            "padding": null,
            "right": null,
            "top": null,
            "visibility": null,
            "width": "20px"
          }
        },
        "68284e00ab7749e2b1b2e49937222653": {
          "model_module": "@jupyter-widgets/controls",
          "model_name": "ProgressStyleModel",
          "model_module_version": "1.5.0",
          "state": {
            "_model_module": "@jupyter-widgets/controls",
            "_model_module_version": "1.5.0",
            "_model_name": "ProgressStyleModel",
            "_view_count": null,
            "_view_module": "@jupyter-widgets/base",
            "_view_module_version": "1.2.0",
            "_view_name": "StyleView",
            "bar_color": null,
            "description_width": ""
          }
        },
        "a593c56f494f465f9962507c7eb5664f": {
          "model_module": "@jupyter-widgets/base",
          "model_name": "LayoutModel",
          "model_module_version": "1.2.0",
          "state": {
            "_model_module": "@jupyter-widgets/base",
            "_model_module_version": "1.2.0",
            "_model_name": "LayoutModel",
            "_view_count": null,
            "_view_module": "@jupyter-widgets/base",
            "_view_module_version": "1.2.0",
            "_view_name": "LayoutView",
            "align_content": null,
            "align_items": null,
            "align_self": null,
            "border": null,
            "bottom": null,
            "display": null,
            "flex": null,
            "flex_flow": null,
            "grid_area": null,
            "grid_auto_columns": null,
            "grid_auto_flow": null,
            "grid_auto_rows": null,
            "grid_column": null,
            "grid_gap": null,
            "grid_row": null,
            "grid_template_areas": null,
            "grid_template_columns": null,
            "grid_template_rows": null,
            "height": null,
            "justify_content": null,
            "justify_items": null,
            "left": null,
            "margin": null,
            "max_height": null,
            "max_width": null,
            "min_height": null,
            "min_width": null,
            "object_fit": null,
            "object_position": null,
            "order": null,
            "overflow": null,
            "overflow_x": null,
            "overflow_y": null,
            "padding": null,
            "right": null,
            "top": null,
            "visibility": null,
            "width": null
          }
        },
        "d6bc8460f1314d85b493edae99f118cf": {
          "model_module": "@jupyter-widgets/controls",
          "model_name": "DescriptionStyleModel",
          "model_module_version": "1.5.0",
          "state": {
            "_model_module": "@jupyter-widgets/controls",
            "_model_module_version": "1.5.0",
            "_model_name": "DescriptionStyleModel",
            "_view_count": null,
            "_view_module": "@jupyter-widgets/base",
            "_view_module_version": "1.2.0",
            "_view_name": "StyleView",
            "description_width": ""
          }
        }
      }
    }
  },
  "nbformat": 4,
  "nbformat_minor": 5
}